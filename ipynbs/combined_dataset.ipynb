{
 "cells": [
  {
   "cell_type": "code",
   "execution_count": 17,
   "id": "394c32fc",
   "metadata": {},
   "outputs": [],
   "source": [
    "import pandas as pd\n",
    "import numpy as np\n",
    "import matplotlib.pyplot as plt\n",
    "import plotly.express as px\n",
    "import seaborn as sns\n",
    "import scipy.stats as scp"
   ]
  },
  {
   "cell_type": "markdown",
   "id": "fb256c7e",
   "metadata": {},
   "source": [
    "#### Combining Datasets"
   ]
  },
  {
   "cell_type": "code",
   "execution_count": 18,
   "id": "0c4ed4af",
   "metadata": {},
   "outputs": [
    {
     "data": {
      "text/html": [
       "<div>\n",
       "<style scoped>\n",
       "    .dataframe tbody tr th:only-of-type {\n",
       "        vertical-align: middle;\n",
       "    }\n",
       "\n",
       "    .dataframe tbody tr th {\n",
       "        vertical-align: top;\n",
       "    }\n",
       "\n",
       "    .dataframe thead th {\n",
       "        text-align: right;\n",
       "    }\n",
       "</style>\n",
       "<table border=\"1\" class=\"dataframe\">\n",
       "  <thead>\n",
       "    <tr style=\"text-align: right;\">\n",
       "      <th></th>\n",
       "      <th>title</th>\n",
       "      <th>artist</th>\n",
       "      <th>genre</th>\n",
       "      <th>year</th>\n",
       "      <th>bpm</th>\n",
       "      <th>nrgy</th>\n",
       "      <th>dnce</th>\n",
       "      <th>dB</th>\n",
       "      <th>live</th>\n",
       "      <th>val</th>\n",
       "      <th>dur</th>\n",
       "      <th>acous</th>\n",
       "      <th>spch</th>\n",
       "      <th>popularity</th>\n",
       "      <th>has_win_award</th>\n",
       "      <th>decade</th>\n",
       "    </tr>\n",
       "  </thead>\n",
       "  <tbody>\n",
       "    <tr>\n",
       "      <th>0</th>\n",
       "      <td>Put Your Head On My Shoulder</td>\n",
       "      <td>Paul Anka</td>\n",
       "      <td>adult standards</td>\n",
       "      <td>2000</td>\n",
       "      <td>116</td>\n",
       "      <td>34</td>\n",
       "      <td>55</td>\n",
       "      <td>-9</td>\n",
       "      <td>10</td>\n",
       "      <td>47</td>\n",
       "      <td>155</td>\n",
       "      <td>75</td>\n",
       "      <td>3</td>\n",
       "      <td>72</td>\n",
       "      <td>0.0</td>\n",
       "      <td>1950</td>\n",
       "    </tr>\n",
       "    <tr>\n",
       "      <th>1</th>\n",
       "      <td>Whatever Will Be Will Be (Que Sera Sera) (with...</td>\n",
       "      <td>Doris Day</td>\n",
       "      <td>adult standards</td>\n",
       "      <td>1948</td>\n",
       "      <td>177</td>\n",
       "      <td>34</td>\n",
       "      <td>42</td>\n",
       "      <td>-11</td>\n",
       "      <td>72</td>\n",
       "      <td>78</td>\n",
       "      <td>123</td>\n",
       "      <td>86</td>\n",
       "      <td>4</td>\n",
       "      <td>62</td>\n",
       "      <td>0.0</td>\n",
       "      <td>1950</td>\n",
       "    </tr>\n",
       "    <tr>\n",
       "      <th>2</th>\n",
       "      <td>Everybody Loves Somebody</td>\n",
       "      <td>Dean Martin</td>\n",
       "      <td>adult standards</td>\n",
       "      <td>2013</td>\n",
       "      <td>81</td>\n",
       "      <td>49</td>\n",
       "      <td>26</td>\n",
       "      <td>-9</td>\n",
       "      <td>34</td>\n",
       "      <td>40</td>\n",
       "      <td>162</td>\n",
       "      <td>81</td>\n",
       "      <td>4</td>\n",
       "      <td>61</td>\n",
       "      <td>0.0</td>\n",
       "      <td>1950</td>\n",
       "    </tr>\n",
       "    <tr>\n",
       "      <th>3</th>\n",
       "      <td>Take Good Care Of My Baby - 1990 Remastered</td>\n",
       "      <td>Bobby Vee</td>\n",
       "      <td>adult standards</td>\n",
       "      <td>2011</td>\n",
       "      <td>82</td>\n",
       "      <td>43</td>\n",
       "      <td>49</td>\n",
       "      <td>-12</td>\n",
       "      <td>12</td>\n",
       "      <td>66</td>\n",
       "      <td>151</td>\n",
       "      <td>70</td>\n",
       "      <td>6</td>\n",
       "      <td>60</td>\n",
       "      <td>0.0</td>\n",
       "      <td>1950</td>\n",
       "    </tr>\n",
       "    <tr>\n",
       "      <th>4</th>\n",
       "      <td>A Teenager In Love</td>\n",
       "      <td>Dion &amp; The Belmonts</td>\n",
       "      <td>adult standards</td>\n",
       "      <td>1959</td>\n",
       "      <td>79</td>\n",
       "      <td>38</td>\n",
       "      <td>56</td>\n",
       "      <td>-9</td>\n",
       "      <td>13</td>\n",
       "      <td>62</td>\n",
       "      <td>158</td>\n",
       "      <td>67</td>\n",
       "      <td>3</td>\n",
       "      <td>60</td>\n",
       "      <td>0.0</td>\n",
       "      <td>1950</td>\n",
       "    </tr>\n",
       "    <tr>\n",
       "      <th>...</th>\n",
       "      <td>...</td>\n",
       "      <td>...</td>\n",
       "      <td>...</td>\n",
       "      <td>...</td>\n",
       "      <td>...</td>\n",
       "      <td>...</td>\n",
       "      <td>...</td>\n",
       "      <td>...</td>\n",
       "      <td>...</td>\n",
       "      <td>...</td>\n",
       "      <td>...</td>\n",
       "      <td>...</td>\n",
       "      <td>...</td>\n",
       "      <td>...</td>\n",
       "      <td>...</td>\n",
       "      <td>...</td>\n",
       "    </tr>\n",
       "    <tr>\n",
       "      <th>68</th>\n",
       "      <td>Collette</td>\n",
       "      <td>Billy Fury</td>\n",
       "      <td>adult standards</td>\n",
       "      <td>1982</td>\n",
       "      <td>155</td>\n",
       "      <td>44</td>\n",
       "      <td>55</td>\n",
       "      <td>-10</td>\n",
       "      <td>10</td>\n",
       "      <td>73</td>\n",
       "      <td>112</td>\n",
       "      <td>82</td>\n",
       "      <td>4</td>\n",
       "      <td>27</td>\n",
       "      <td>0.0</td>\n",
       "      <td>1950</td>\n",
       "    </tr>\n",
       "    <tr>\n",
       "      <th>69</th>\n",
       "      <td>Happy Days And Lonely Nights</td>\n",
       "      <td>Suzi Miller And Johnson Brothers</td>\n",
       "      <td>adult standards</td>\n",
       "      <td>2012</td>\n",
       "      <td>142</td>\n",
       "      <td>38</td>\n",
       "      <td>65</td>\n",
       "      <td>-8</td>\n",
       "      <td>13</td>\n",
       "      <td>69</td>\n",
       "      <td>146</td>\n",
       "      <td>43</td>\n",
       "      <td>3</td>\n",
       "      <td>27</td>\n",
       "      <td>0.0</td>\n",
       "      <td>1950</td>\n",
       "    </tr>\n",
       "    <tr>\n",
       "      <th>70</th>\n",
       "      <td>Stairway Of Love</td>\n",
       "      <td>Terry Dene</td>\n",
       "      <td>classic soul</td>\n",
       "      <td>2015</td>\n",
       "      <td>93</td>\n",
       "      <td>62</td>\n",
       "      <td>62</td>\n",
       "      <td>-7</td>\n",
       "      <td>25</td>\n",
       "      <td>86</td>\n",
       "      <td>120</td>\n",
       "      <td>55</td>\n",
       "      <td>4</td>\n",
       "      <td>27</td>\n",
       "      <td>0.0</td>\n",
       "      <td>1950</td>\n",
       "    </tr>\n",
       "    <tr>\n",
       "      <th>71</th>\n",
       "      <td>I've Waited So Long</td>\n",
       "      <td>Anthony Newley</td>\n",
       "      <td>british dance band</td>\n",
       "      <td>2012</td>\n",
       "      <td>137</td>\n",
       "      <td>36</td>\n",
       "      <td>27</td>\n",
       "      <td>-15</td>\n",
       "      <td>25</td>\n",
       "      <td>28</td>\n",
       "      <td>165</td>\n",
       "      <td>64</td>\n",
       "      <td>4</td>\n",
       "      <td>26</td>\n",
       "      <td>0.0</td>\n",
       "      <td>1950</td>\n",
       "    </tr>\n",
       "    <tr>\n",
       "      <th>72</th>\n",
       "      <td>Held for Questioning</td>\n",
       "      <td>Rusty Draper</td>\n",
       "      <td>deep adult standards</td>\n",
       "      <td>1953</td>\n",
       "      <td>109</td>\n",
       "      <td>65</td>\n",
       "      <td>70</td>\n",
       "      <td>-2</td>\n",
       "      <td>14</td>\n",
       "      <td>85</td>\n",
       "      <td>146</td>\n",
       "      <td>79</td>\n",
       "      <td>3</td>\n",
       "      <td>26</td>\n",
       "      <td>0.0</td>\n",
       "      <td>1950</td>\n",
       "    </tr>\n",
       "  </tbody>\n",
       "</table>\n",
       "<p>73 rows × 16 columns</p>\n",
       "</div>"
      ],
      "text/plain": [
       "                                                title  \\\n",
       "0                        Put Your Head On My Shoulder   \n",
       "1   Whatever Will Be Will Be (Que Sera Sera) (with...   \n",
       "2                            Everybody Loves Somebody   \n",
       "3         Take Good Care Of My Baby - 1990 Remastered   \n",
       "4                                  A Teenager In Love   \n",
       "..                                                ...   \n",
       "68                                           Collette   \n",
       "69                       Happy Days And Lonely Nights   \n",
       "70                                   Stairway Of Love   \n",
       "71                                I've Waited So Long   \n",
       "72                               Held for Questioning   \n",
       "\n",
       "                              artist                 genre  year  bpm  nrgy  \\\n",
       "0                          Paul Anka       adult standards  2000  116    34   \n",
       "1                          Doris Day       adult standards  1948  177    34   \n",
       "2                        Dean Martin       adult standards  2013   81    49   \n",
       "3                          Bobby Vee       adult standards  2011   82    43   \n",
       "4                Dion & The Belmonts       adult standards  1959   79    38   \n",
       "..                               ...                   ...   ...  ...   ...   \n",
       "68                        Billy Fury       adult standards  1982  155    44   \n",
       "69  Suzi Miller And Johnson Brothers       adult standards  2012  142    38   \n",
       "70                        Terry Dene          classic soul  2015   93    62   \n",
       "71                    Anthony Newley    british dance band  2012  137    36   \n",
       "72                      Rusty Draper  deep adult standards  1953  109    65   \n",
       "\n",
       "    dnce  dB  live  val  dur  acous  spch  popularity  has_win_award decade  \n",
       "0     55  -9    10   47  155     75     3          72            0.0   1950  \n",
       "1     42 -11    72   78  123     86     4          62            0.0   1950  \n",
       "2     26  -9    34   40  162     81     4          61            0.0   1950  \n",
       "3     49 -12    12   66  151     70     6          60            0.0   1950  \n",
       "4     56  -9    13   62  158     67     3          60            0.0   1950  \n",
       "..   ...  ..   ...  ...  ...    ...   ...         ...            ...    ...  \n",
       "68    55 -10    10   73  112     82     4          27            0.0   1950  \n",
       "69    65  -8    13   69  146     43     3          27            0.0   1950  \n",
       "70    62  -7    25   86  120     55     4          27            0.0   1950  \n",
       "71    27 -15    25   28  165     64     4          26            0.0   1950  \n",
       "72    70  -2    14   85  146     79     3          26            0.0   1950  \n",
       "\n",
       "[73 rows x 16 columns]"
      ]
     },
     "metadata": {},
     "output_type": "display_data"
    }
   ],
   "source": [
    "# Read dataset and impute the missing values\n",
    "from sklearn.impute import KNNImputer\n",
    "df50 = pd.read_csv(\"../1950.csv\")\n",
    "\n",
    "genreCat = [\"adult standards\", \"brill building pop\", \"british comedy\", \"british dance band\", \"classic soul\", \"classic uk pop\", \"deep adult standards\", \"doo-wop\", \"louisiana blues\", \"merseybeat\", \"yodeling\"]\n",
    "\n",
    "\n",
    "df50[\"genre\"] = df50[\"genre\"].astype(\"category\")\n",
    "df50[\"genre_cat\"] = df50[\"genre\"].cat.codes\n",
    "\n",
    "df50.loc[df50[\"genre_cat\"] == -1, \"genre_cat\"] = np.nan\n",
    "\n",
    "imputer = KNNImputer(n_neighbors=5)\n",
    "dfImputed = imputer.fit_transform(df50.iloc[:,4:])\n",
    "\n",
    "df50[\"genre\"] = [genreCat[int(round(dfImputed[i][-1],0))] for i in range(len(dfImputed))]\n",
    "df50[\"decade\"] = [\"1950\" for i in range(len(df50))]\n",
    "df50 = df50.drop(columns=[\"genre_cat\"])\n",
    "\n",
    "display(df50)"
   ]
  },
  {
   "cell_type": "code",
   "execution_count": 19,
   "id": "7e479336",
   "metadata": {},
   "outputs": [
    {
     "data": {
      "text/html": [
       "<div>\n",
       "<style scoped>\n",
       "    .dataframe tbody tr th:only-of-type {\n",
       "        vertical-align: middle;\n",
       "    }\n",
       "\n",
       "    .dataframe tbody tr th {\n",
       "        vertical-align: top;\n",
       "    }\n",
       "\n",
       "    .dataframe thead th {\n",
       "        text-align: right;\n",
       "    }\n",
       "</style>\n",
       "<table border=\"1\" class=\"dataframe\">\n",
       "  <thead>\n",
       "    <tr style=\"text-align: right;\">\n",
       "      <th></th>\n",
       "      <th>title</th>\n",
       "      <th>artist</th>\n",
       "      <th>genre</th>\n",
       "      <th>year</th>\n",
       "      <th>bpm</th>\n",
       "      <th>nrgy</th>\n",
       "      <th>dnce</th>\n",
       "      <th>dB</th>\n",
       "      <th>live</th>\n",
       "      <th>val</th>\n",
       "      <th>dur</th>\n",
       "      <th>acous</th>\n",
       "      <th>spch</th>\n",
       "      <th>popularity</th>\n",
       "      <th>has_win_award</th>\n",
       "      <th>decade</th>\n",
       "    </tr>\n",
       "  </thead>\n",
       "  <tbody>\n",
       "    <tr>\n",
       "      <th>0</th>\n",
       "      <td>No Scrubs</td>\n",
       "      <td>TLC</td>\n",
       "      <td>atl hip hop</td>\n",
       "      <td>1999</td>\n",
       "      <td>93</td>\n",
       "      <td>68</td>\n",
       "      <td>74</td>\n",
       "      <td>-4</td>\n",
       "      <td>7</td>\n",
       "      <td>59</td>\n",
       "      <td>214</td>\n",
       "      <td>3</td>\n",
       "      <td>10</td>\n",
       "      <td>79</td>\n",
       "      <td>0.0</td>\n",
       "      <td>1990</td>\n",
       "    </tr>\n",
       "    <tr>\n",
       "      <th>1</th>\n",
       "      <td>I Want It That Way</td>\n",
       "      <td>Backstreet Boys</td>\n",
       "      <td>boy band</td>\n",
       "      <td>2001</td>\n",
       "      <td>99</td>\n",
       "      <td>70</td>\n",
       "      <td>69</td>\n",
       "      <td>-6</td>\n",
       "      <td>16</td>\n",
       "      <td>48</td>\n",
       "      <td>214</td>\n",
       "      <td>22</td>\n",
       "      <td>3</td>\n",
       "      <td>76</td>\n",
       "      <td>0.0</td>\n",
       "      <td>1990</td>\n",
       "    </tr>\n",
       "    <tr>\n",
       "      <th>2</th>\n",
       "      <td>It Wasn't Me</td>\n",
       "      <td>Shaggy</td>\n",
       "      <td>dance pop</td>\n",
       "      <td>2000</td>\n",
       "      <td>95</td>\n",
       "      <td>61</td>\n",
       "      <td>85</td>\n",
       "      <td>-5</td>\n",
       "      <td>31</td>\n",
       "      <td>65</td>\n",
       "      <td>228</td>\n",
       "      <td>6</td>\n",
       "      <td>7</td>\n",
       "      <td>76</td>\n",
       "      <td>0.0</td>\n",
       "      <td>1990</td>\n",
       "    </tr>\n",
       "    <tr>\n",
       "      <th>3</th>\n",
       "      <td>Because You Loved Me (Theme from \"Up Close and...</td>\n",
       "      <td>CÃ©line Dion</td>\n",
       "      <td>canadian pop</td>\n",
       "      <td>1996</td>\n",
       "      <td>120</td>\n",
       "      <td>47</td>\n",
       "      <td>61</td>\n",
       "      <td>-10</td>\n",
       "      <td>10</td>\n",
       "      <td>18</td>\n",
       "      <td>274</td>\n",
       "      <td>31</td>\n",
       "      <td>3</td>\n",
       "      <td>74</td>\n",
       "      <td>0.0</td>\n",
       "      <td>1990</td>\n",
       "    </tr>\n",
       "    <tr>\n",
       "      <th>4</th>\n",
       "      <td>Big Poppa - 2005 Remaster</td>\n",
       "      <td>The Notorious B.I.G.</td>\n",
       "      <td>east coast hip hop</td>\n",
       "      <td>1994</td>\n",
       "      <td>84</td>\n",
       "      <td>58</td>\n",
       "      <td>78</td>\n",
       "      <td>-7</td>\n",
       "      <td>14</td>\n",
       "      <td>76</td>\n",
       "      <td>253</td>\n",
       "      <td>43</td>\n",
       "      <td>27</td>\n",
       "      <td>74</td>\n",
       "      <td>0.0</td>\n",
       "      <td>1990</td>\n",
       "    </tr>\n",
       "    <tr>\n",
       "      <th>...</th>\n",
       "      <td>...</td>\n",
       "      <td>...</td>\n",
       "      <td>...</td>\n",
       "      <td>...</td>\n",
       "      <td>...</td>\n",
       "      <td>...</td>\n",
       "      <td>...</td>\n",
       "      <td>...</td>\n",
       "      <td>...</td>\n",
       "      <td>...</td>\n",
       "      <td>...</td>\n",
       "      <td>...</td>\n",
       "      <td>...</td>\n",
       "      <td>...</td>\n",
       "      <td>...</td>\n",
       "      <td>...</td>\n",
       "    </tr>\n",
       "    <tr>\n",
       "      <th>83</th>\n",
       "      <td>Insomnia - Radio Edit</td>\n",
       "      <td>Faithless</td>\n",
       "      <td>big beat</td>\n",
       "      <td>2010</td>\n",
       "      <td>127</td>\n",
       "      <td>92</td>\n",
       "      <td>71</td>\n",
       "      <td>-9</td>\n",
       "      <td>37</td>\n",
       "      <td>53</td>\n",
       "      <td>216</td>\n",
       "      <td>6</td>\n",
       "      <td>4</td>\n",
       "      <td>50</td>\n",
       "      <td>0.0</td>\n",
       "      <td>1990</td>\n",
       "    </tr>\n",
       "    <tr>\n",
       "      <th>84</th>\n",
       "      <td>If You Ever</td>\n",
       "      <td>East 17</td>\n",
       "      <td>boy band</td>\n",
       "      <td>1996</td>\n",
       "      <td>140</td>\n",
       "      <td>68</td>\n",
       "      <td>58</td>\n",
       "      <td>-9</td>\n",
       "      <td>31</td>\n",
       "      <td>57</td>\n",
       "      <td>255</td>\n",
       "      <td>18</td>\n",
       "      <td>3</td>\n",
       "      <td>48</td>\n",
       "      <td>0.0</td>\n",
       "      <td>1990</td>\n",
       "    </tr>\n",
       "    <tr>\n",
       "      <th>85</th>\n",
       "      <td>Pump Up The Jam</td>\n",
       "      <td>Technotronic</td>\n",
       "      <td>eurodance</td>\n",
       "      <td>2019</td>\n",
       "      <td>125</td>\n",
       "      <td>84</td>\n",
       "      <td>89</td>\n",
       "      <td>-9</td>\n",
       "      <td>5</td>\n",
       "      <td>72</td>\n",
       "      <td>320</td>\n",
       "      <td>1</td>\n",
       "      <td>7</td>\n",
       "      <td>46</td>\n",
       "      <td>0.0</td>\n",
       "      <td>1990</td>\n",
       "    </tr>\n",
       "    <tr>\n",
       "      <th>86</th>\n",
       "      <td>Doin' It</td>\n",
       "      <td>LL Cool J</td>\n",
       "      <td>east coast hip hop</td>\n",
       "      <td>1996</td>\n",
       "      <td>95</td>\n",
       "      <td>53</td>\n",
       "      <td>81</td>\n",
       "      <td>-12</td>\n",
       "      <td>12</td>\n",
       "      <td>62</td>\n",
       "      <td>294</td>\n",
       "      <td>34</td>\n",
       "      <td>19</td>\n",
       "      <td>46</td>\n",
       "      <td>0.0</td>\n",
       "      <td>1990</td>\n",
       "    </tr>\n",
       "    <tr>\n",
       "      <th>87</th>\n",
       "      <td>Please Forgive Me</td>\n",
       "      <td>Bryan Adams</td>\n",
       "      <td>album rock</td>\n",
       "      <td>2005</td>\n",
       "      <td>67</td>\n",
       "      <td>46</td>\n",
       "      <td>53</td>\n",
       "      <td>-7</td>\n",
       "      <td>10</td>\n",
       "      <td>15</td>\n",
       "      <td>356</td>\n",
       "      <td>50</td>\n",
       "      <td>3</td>\n",
       "      <td>43</td>\n",
       "      <td>0.0</td>\n",
       "      <td>1990</td>\n",
       "    </tr>\n",
       "  </tbody>\n",
       "</table>\n",
       "<p>88 rows × 16 columns</p>\n",
       "</div>"
      ],
      "text/plain": [
       "                                                title                artist  \\\n",
       "0                                           No Scrubs                   TLC   \n",
       "1                                  I Want It That Way       Backstreet Boys   \n",
       "2                                        It Wasn't Me                Shaggy   \n",
       "3   Because You Loved Me (Theme from \"Up Close and...          CÃ©line Dion   \n",
       "4                           Big Poppa - 2005 Remaster  The Notorious B.I.G.   \n",
       "..                                                ...                   ...   \n",
       "83                              Insomnia - Radio Edit             Faithless   \n",
       "84                                        If You Ever               East 17   \n",
       "85                                    Pump Up The Jam          Technotronic   \n",
       "86                                           Doin' It             LL Cool J   \n",
       "87                                  Please Forgive Me           Bryan Adams   \n",
       "\n",
       "                 genre  year  bpm  nrgy  dnce  dB  live  val  dur  acous  \\\n",
       "0          atl hip hop  1999   93    68    74  -4     7   59  214      3   \n",
       "1             boy band  2001   99    70    69  -6    16   48  214     22   \n",
       "2            dance pop  2000   95    61    85  -5    31   65  228      6   \n",
       "3         canadian pop  1996  120    47    61 -10    10   18  274     31   \n",
       "4   east coast hip hop  1994   84    58    78  -7    14   76  253     43   \n",
       "..                 ...   ...  ...   ...   ...  ..   ...  ...  ...    ...   \n",
       "83            big beat  2010  127    92    71  -9    37   53  216      6   \n",
       "84            boy band  1996  140    68    58  -9    31   57  255     18   \n",
       "85           eurodance  2019  125    84    89  -9     5   72  320      1   \n",
       "86  east coast hip hop  1996   95    53    81 -12    12   62  294     34   \n",
       "87          album rock  2005   67    46    53  -7    10   15  356     50   \n",
       "\n",
       "    spch  popularity  has_win_award decade  \n",
       "0     10          79            0.0   1990  \n",
       "1      3          76            0.0   1990  \n",
       "2      7          76            0.0   1990  \n",
       "3      3          74            0.0   1990  \n",
       "4     27          74            0.0   1990  \n",
       "..   ...         ...            ...    ...  \n",
       "83     4          50            0.0   1990  \n",
       "84     3          48            0.0   1990  \n",
       "85     7          46            0.0   1990  \n",
       "86    19          46            0.0   1990  \n",
       "87     3          43            0.0   1990  \n",
       "\n",
       "[88 rows x 16 columns]"
      ]
     },
     "metadata": {},
     "output_type": "display_data"
    }
   ],
   "source": [
    "## Label encoding\n",
    "df90 = pd.read_csv(\"../1990.csv\")\n",
    "\n",
    "genre_code_dict = {}\n",
    "genres = df90[\"genre\"].dropna().unique()\n",
    "df90[\"genre\"] = df90[\"genre\"].astype(\"category\")\n",
    "df90[\"genre_label\"] = df90[\"genre\"].cat.codes\n",
    "for genre in genres:\n",
    "    genre_code_dict[df90[df90[\"genre\"] == genre].iloc[0][\"genre_label\"]] = genre\n",
    "\n",
    "df90.loc[df90[\"genre_label\"] == -1, \"genre_label\"] = np.nan\n",
    "\n",
    "imputer_df = imputer.fit_transform(df90.iloc[:,4:])\n",
    "\n",
    "df90[\"genre\"] = [genre_code_dict[int(round(imputer_df[i][-1]))] for i in range(len(imputer_df))]\n",
    "df90 = df90.drop(columns=[\"genre_label\"])\n",
    "df90[\"decade\"] = [\"1990\" for i in range(len(df90))]\n",
    "\n",
    "display(df90)\n"
   ]
  },
  {
   "cell_type": "code",
   "execution_count": 20,
   "id": "d14e64c2",
   "metadata": {},
   "outputs": [
    {
     "data": {
      "text/html": [
       "<div>\n",
       "<style scoped>\n",
       "    .dataframe tbody tr th:only-of-type {\n",
       "        vertical-align: middle;\n",
       "    }\n",
       "\n",
       "    .dataframe tbody tr th {\n",
       "        vertical-align: top;\n",
       "    }\n",
       "\n",
       "    .dataframe thead th {\n",
       "        text-align: right;\n",
       "    }\n",
       "</style>\n",
       "<table border=\"1\" class=\"dataframe\">\n",
       "  <thead>\n",
       "    <tr style=\"text-align: right;\">\n",
       "      <th></th>\n",
       "      <th>title</th>\n",
       "      <th>artist</th>\n",
       "      <th>genre</th>\n",
       "      <th>year</th>\n",
       "      <th>bpm</th>\n",
       "      <th>nrgy</th>\n",
       "      <th>dnce</th>\n",
       "      <th>dB</th>\n",
       "      <th>live</th>\n",
       "      <th>val</th>\n",
       "      <th>dur</th>\n",
       "      <th>acous</th>\n",
       "      <th>spch</th>\n",
       "      <th>popularity</th>\n",
       "      <th>has_win_award</th>\n",
       "      <th>decade</th>\n",
       "    </tr>\n",
       "  </thead>\n",
       "  <tbody>\n",
       "    <tr>\n",
       "      <th>0</th>\n",
       "      <td>Put Your Head On My Shoulder</td>\n",
       "      <td>Paul Anka</td>\n",
       "      <td>adult standards</td>\n",
       "      <td>2000</td>\n",
       "      <td>116</td>\n",
       "      <td>34</td>\n",
       "      <td>55</td>\n",
       "      <td>-9</td>\n",
       "      <td>10</td>\n",
       "      <td>47</td>\n",
       "      <td>155</td>\n",
       "      <td>75</td>\n",
       "      <td>3</td>\n",
       "      <td>72</td>\n",
       "      <td>0.0</td>\n",
       "      <td>1950</td>\n",
       "    </tr>\n",
       "    <tr>\n",
       "      <th>1</th>\n",
       "      <td>Whatever Will Be Will Be (Que Sera Sera) (with...</td>\n",
       "      <td>Doris Day</td>\n",
       "      <td>adult standards</td>\n",
       "      <td>1948</td>\n",
       "      <td>177</td>\n",
       "      <td>34</td>\n",
       "      <td>42</td>\n",
       "      <td>-11</td>\n",
       "      <td>72</td>\n",
       "      <td>78</td>\n",
       "      <td>123</td>\n",
       "      <td>86</td>\n",
       "      <td>4</td>\n",
       "      <td>62</td>\n",
       "      <td>0.0</td>\n",
       "      <td>1950</td>\n",
       "    </tr>\n",
       "    <tr>\n",
       "      <th>2</th>\n",
       "      <td>Everybody Loves Somebody</td>\n",
       "      <td>Dean Martin</td>\n",
       "      <td>adult standards</td>\n",
       "      <td>2013</td>\n",
       "      <td>81</td>\n",
       "      <td>49</td>\n",
       "      <td>26</td>\n",
       "      <td>-9</td>\n",
       "      <td>34</td>\n",
       "      <td>40</td>\n",
       "      <td>162</td>\n",
       "      <td>81</td>\n",
       "      <td>4</td>\n",
       "      <td>61</td>\n",
       "      <td>0.0</td>\n",
       "      <td>1950</td>\n",
       "    </tr>\n",
       "    <tr>\n",
       "      <th>3</th>\n",
       "      <td>Take Good Care Of My Baby - 1990 Remastered</td>\n",
       "      <td>Bobby Vee</td>\n",
       "      <td>adult standards</td>\n",
       "      <td>2011</td>\n",
       "      <td>82</td>\n",
       "      <td>43</td>\n",
       "      <td>49</td>\n",
       "      <td>-12</td>\n",
       "      <td>12</td>\n",
       "      <td>66</td>\n",
       "      <td>151</td>\n",
       "      <td>70</td>\n",
       "      <td>6</td>\n",
       "      <td>60</td>\n",
       "      <td>0.0</td>\n",
       "      <td>1950</td>\n",
       "    </tr>\n",
       "    <tr>\n",
       "      <th>4</th>\n",
       "      <td>A Teenager In Love</td>\n",
       "      <td>Dion &amp; The Belmonts</td>\n",
       "      <td>adult standards</td>\n",
       "      <td>1959</td>\n",
       "      <td>79</td>\n",
       "      <td>38</td>\n",
       "      <td>56</td>\n",
       "      <td>-9</td>\n",
       "      <td>13</td>\n",
       "      <td>62</td>\n",
       "      <td>158</td>\n",
       "      <td>67</td>\n",
       "      <td>3</td>\n",
       "      <td>60</td>\n",
       "      <td>0.0</td>\n",
       "      <td>1950</td>\n",
       "    </tr>\n",
       "    <tr>\n",
       "      <th>...</th>\n",
       "      <td>...</td>\n",
       "      <td>...</td>\n",
       "      <td>...</td>\n",
       "      <td>...</td>\n",
       "      <td>...</td>\n",
       "      <td>...</td>\n",
       "      <td>...</td>\n",
       "      <td>...</td>\n",
       "      <td>...</td>\n",
       "      <td>...</td>\n",
       "      <td>...</td>\n",
       "      <td>...</td>\n",
       "      <td>...</td>\n",
       "      <td>...</td>\n",
       "      <td>...</td>\n",
       "      <td>...</td>\n",
       "    </tr>\n",
       "    <tr>\n",
       "      <th>96</th>\n",
       "      <td>Dynamite</td>\n",
       "      <td>Taio Cruz</td>\n",
       "      <td>dance pop</td>\n",
       "      <td>2011</td>\n",
       "      <td>120</td>\n",
       "      <td>79</td>\n",
       "      <td>76</td>\n",
       "      <td>-4</td>\n",
       "      <td>3</td>\n",
       "      <td>87</td>\n",
       "      <td>203</td>\n",
       "      <td>0</td>\n",
       "      <td>8</td>\n",
       "      <td>56</td>\n",
       "      <td>0.0</td>\n",
       "      <td>2010</td>\n",
       "    </tr>\n",
       "    <tr>\n",
       "      <th>97</th>\n",
       "      <td>Break Your Heart</td>\n",
       "      <td>Taio Cruz</td>\n",
       "      <td>dance pop</td>\n",
       "      <td>2011</td>\n",
       "      <td>122</td>\n",
       "      <td>89</td>\n",
       "      <td>67</td>\n",
       "      <td>-5</td>\n",
       "      <td>24</td>\n",
       "      <td>68</td>\n",
       "      <td>185</td>\n",
       "      <td>0</td>\n",
       "      <td>3</td>\n",
       "      <td>54</td>\n",
       "      <td>0.0</td>\n",
       "      <td>2010</td>\n",
       "    </tr>\n",
       "    <tr>\n",
       "      <th>98</th>\n",
       "      <td>Summer Air</td>\n",
       "      <td>ItaloBrothers</td>\n",
       "      <td>dance pop</td>\n",
       "      <td>2017</td>\n",
       "      <td>102</td>\n",
       "      <td>75</td>\n",
       "      <td>76</td>\n",
       "      <td>-4</td>\n",
       "      <td>8</td>\n",
       "      <td>49</td>\n",
       "      <td>184</td>\n",
       "      <td>6</td>\n",
       "      <td>7</td>\n",
       "      <td>43</td>\n",
       "      <td>0.0</td>\n",
       "      <td>2010</td>\n",
       "    </tr>\n",
       "    <tr>\n",
       "      <th>99</th>\n",
       "      <td>All I Wanna Do</td>\n",
       "      <td>Martin Jensen</td>\n",
       "      <td>big room</td>\n",
       "      <td>2016</td>\n",
       "      <td>112</td>\n",
       "      <td>79</td>\n",
       "      <td>73</td>\n",
       "      <td>-4</td>\n",
       "      <td>7</td>\n",
       "      <td>56</td>\n",
       "      <td>194</td>\n",
       "      <td>16</td>\n",
       "      <td>7</td>\n",
       "      <td>32</td>\n",
       "      <td>0.0</td>\n",
       "      <td>2010</td>\n",
       "    </tr>\n",
       "    <tr>\n",
       "      <th>100</th>\n",
       "      <td>Hey, Soul Sister</td>\n",
       "      <td>Train</td>\n",
       "      <td>neo mellow</td>\n",
       "      <td>2010</td>\n",
       "      <td>97</td>\n",
       "      <td>89</td>\n",
       "      <td>67</td>\n",
       "      <td>-4</td>\n",
       "      <td>8</td>\n",
       "      <td>80</td>\n",
       "      <td>217</td>\n",
       "      <td>19</td>\n",
       "      <td>4</td>\n",
       "      <td>83</td>\n",
       "      <td>1.0</td>\n",
       "      <td>2010</td>\n",
       "    </tr>\n",
       "  </tbody>\n",
       "</table>\n",
       "<p>668 rows × 16 columns</p>\n",
       "</div>"
      ],
      "text/plain": [
       "                                                 title               artist  \\\n",
       "0                         Put Your Head On My Shoulder            Paul Anka   \n",
       "1    Whatever Will Be Will Be (Que Sera Sera) (with...            Doris Day   \n",
       "2                             Everybody Loves Somebody          Dean Martin   \n",
       "3          Take Good Care Of My Baby - 1990 Remastered            Bobby Vee   \n",
       "4                                   A Teenager In Love  Dion & The Belmonts   \n",
       "..                                                 ...                  ...   \n",
       "96                                            Dynamite            Taio Cruz   \n",
       "97                                    Break Your Heart            Taio Cruz   \n",
       "98                                          Summer Air        ItaloBrothers   \n",
       "99                                      All I Wanna Do        Martin Jensen   \n",
       "100                                   Hey, Soul Sister                Train   \n",
       "\n",
       "               genre  year  bpm  nrgy  dnce  dB  live  val  dur  acous  spch  \\\n",
       "0    adult standards  2000  116    34    55  -9    10   47  155     75     3   \n",
       "1    adult standards  1948  177    34    42 -11    72   78  123     86     4   \n",
       "2    adult standards  2013   81    49    26  -9    34   40  162     81     4   \n",
       "3    adult standards  2011   82    43    49 -12    12   66  151     70     6   \n",
       "4    adult standards  1959   79    38    56  -9    13   62  158     67     3   \n",
       "..               ...   ...  ...   ...   ...  ..   ...  ...  ...    ...   ...   \n",
       "96         dance pop  2011  120    79    76  -4     3   87  203      0     8   \n",
       "97         dance pop  2011  122    89    67  -5    24   68  185      0     3   \n",
       "98         dance pop  2017  102    75    76  -4     8   49  184      6     7   \n",
       "99          big room  2016  112    79    73  -4     7   56  194     16     7   \n",
       "100       neo mellow  2010   97    89    67  -4     8   80  217     19     4   \n",
       "\n",
       "     popularity  has_win_award decade  \n",
       "0            72            0.0   1950  \n",
       "1            62            0.0   1950  \n",
       "2            61            0.0   1950  \n",
       "3            60            0.0   1950  \n",
       "4            60            0.0   1950  \n",
       "..          ...            ...    ...  \n",
       "96           56            0.0   2010  \n",
       "97           54            0.0   2010  \n",
       "98           43            0.0   2010  \n",
       "99           32            0.0   2010  \n",
       "100          83            1.0   2010  \n",
       "\n",
       "[668 rows x 16 columns]"
      ]
     },
     "metadata": {},
     "output_type": "display_data"
    }
   ],
   "source": [
    "df60 = pd.read_csv(\"../1960.csv\")\n",
    "df60[\"decade\"] = [\"1960\" for i in range(len(df60))]\n",
    "                  \n",
    "df70 = pd.read_csv(\"../1970.csv\")\n",
    "df70[\"decade\"] = [\"1970\" for i in range(len(df70))]\n",
    "\n",
    "df80 = pd.read_csv(\"../1980.csv\")\n",
    "df80[\"decade\"] = [\"1980\" for i in range(len(df80))]\n",
    "\n",
    "df00 = pd.read_csv(\"../2000.csv\")\n",
    "df00[\"decade\"] = [\"2000\" for i in range(len(df00))]\n",
    "\n",
    "df10 = pd.read_csv(\"../2010.csv\")\n",
    "df10[\"decade\"] = [\"2010\" for i in range(len(df10))]\n",
    "\n",
    "frames = [df50, df60, df70, df80, df90, df00, df10]\n",
    "aggregated_df = pd.concat(frames).drop_duplicates()\n",
    "display(aggregated_df)"
   ]
  },
  {
   "cell_type": "code",
   "execution_count": 21,
   "id": "44bb9e7a",
   "metadata": {},
   "outputs": [
    {
     "data": {
      "text/plain": [
       "Text(0.5, 1.0, 'Correlation matrix')"
      ]
     },
     "execution_count": 21,
     "metadata": {},
     "output_type": "execute_result"
    },
    {
     "data": {
      "image/png": "[encoded data removed]",
      "text/plain": [
       "<Figure size 720x720 with 1 Axes>"
      ]
     },
     "metadata": {
      "needs_background": "light"
     },
     "output_type": "display_data"
    }
   ],
   "source": [
    "plt.figure(figsize=(10, 10))\n",
    "\n",
    "sns.heatmap(\n",
    "    aggregated_df.select_dtypes(np.number).corr(),\n",
    "    annot=True,\n",
    "    cbar=False,\n",
    "    fmt=\"0.2f\",\n",
    "    cmap=\"YlGnBu\",\n",
    "    xticklabels=aggregated_df.select_dtypes(np.number).columns,\n",
    "    yticklabels=aggregated_df.select_dtypes(np.number).columns\n",
    "    \n",
    "    )\n",
    "plt.title(\"Correlation matrix\")"
   ]
  },
  {
   "cell_type": "code",
   "execution_count": 22,
   "id": "ce7af532",
   "metadata": {},
   "outputs": [
    {
     "data": {
      "text/plain": [
       "Text(0.5, 1.0, 'Correlation matrix')"
      ]
     },
     "execution_count": 22,
     "metadata": {},
     "output_type": "execute_result"
    },
    {
     "data": {
      "image/png": "[encoded data removed]",
      "text/plain": [
       "<Figure size 720x720 with 1 Axes>"
      ]
     },
     "metadata": {
      "needs_background": "light"
     },
     "output_type": "display_data"
    }
   ],
   "source": [
    "award_winning_df = aggregated_df[aggregated_df[\"has_win_award\"] == 1.0].drop(columns=[\"has_win_award\"])\n",
    "\n",
    "plt.figure(figsize=(10, 10))\n",
    "\n",
    "sns.heatmap(\n",
    "    award_winning_df.select_dtypes(np.number).corr(),\n",
    "    annot=True,\n",
    "    cbar=False,\n",
    "    fmt=\"0.2f\",\n",
    "    cmap=\"YlGnBu\",\n",
    "    xticklabels=award_winning_df.select_dtypes(np.number).columns,\n",
    "    yticklabels=award_winning_df.select_dtypes(np.number).columns\n",
    "    \n",
    "    )\n",
    "plt.title(\"Correlation matrix\")"
   ]
  },
  {
   "cell_type": "code",
   "execution_count": 26,
   "id": "d1b0b208",
   "metadata": {},
   "outputs": [
    {
     "name": "stdout",
     "output_type": "stream",
     "text": [
      "Box plot for bpm per decade\n"
     ]
    },
    {
     "data": {
      "application/vnd.plotly.v1+json": {
       "config": {
        "plotlyServerURL": "https://plot.ly"
       },
       "data": [
        {
         "alignmentgroup": "True",
         "hovertemplate": "decade=1950<br>bpm=%{y}<extra></extra>",
         "legendgroup": "1950",
         "marker": {
          "color": "#636efa"
         },
         "name": "1950",
         "notched": false,
         "offsetgroup": "1950",
         "orientation": "v",
         "showlegend": true,
         "type": "box",
         "x0": " ",
         "xaxis": "x",
         "y": [
          116,
          177,
          81,
          82,
          79,
          182,
          102,
          123,
          97,
          123,
          78,
          114,
          77,
          137,
          130,
          105,
          72,
          91,
          148,
          79,
          143,
          148,
          80,
          110,
          73,
          127,
          107,
          95,
          135,
          195,
          93,
          113,
          138,
          128,
          79,
          75,
          127,
          106,
          123,
          108,
          92,
          103,
          114,
          147,
          86,
          84,
          81,
          81,
          147,
          108,
          100,
          126,
          167,
          137,
          90,
          106,
          84,
          97,
          109,
          87,
          102,
          75,
          131,
          125,
          114,
          109,
          97,
          83,
          155,
          142,
          93,
          137,
          109
         ],
         "y0": " ",
         "yaxis": "y"
        },
        {
         "alignmentgroup": "True",
         "hovertemplate": "decade=1960<br>bpm=%{y}<extra></extra>",
         "legendgroup": "1960",
         "marker": {
          "color": "#EF553B"
         },
         "name": "1960",
         "notched": false,
         "offsetgroup": "1960",
         "orientation": "v",
         "showlegend": true,
         "type": "box",
         "x0": " ",
         "xaxis": "x",
         "y": [
          129,
          165,
          63,
          97,
          100,
          119,
          131,
          110,
          116,
          134,
          75,
          159,
          124,
          78,
          122,
          145,
          142,
          154,
          108,
          121,
          141,
          129,
          151,
          98,
          82,
          64,
          124,
          117,
          99,
          95,
          90,
          110,
          81,
          97,
          108,
          105,
          124,
          174,
          119,
          174,
          72,
          91,
          173,
          101,
          98,
          112,
          124,
          132,
          158,
          178,
          111,
          112,
          121,
          127,
          99,
          148,
          97,
          114,
          119,
          109,
          90,
          116,
          173,
          157,
          97,
          93,
          120,
          124,
          132,
          112,
          121,
          146,
          76,
          115,
          121,
          128,
          109,
          111,
          89,
          136,
          97,
          100,
          116,
          80,
          135,
          121,
          81,
          133,
          133,
          92,
          119,
          107,
          130,
          73,
          114,
          129,
          199
         ],
         "y0": " ",
         "yaxis": "y"
        },
        {
         "alignmentgroup": "True",
         "hovertemplate": "decade=1970<br>bpm=%{y}<extra></extra>",
         "legendgroup": "1970",
         "marker": {
          "color": "#00cc96"
         },
         "name": "1970",
         "notched": false,
         "offsetgroup": "1970",
         "orientation": "v",
         "showlegend": true,
         "type": "box",
         "x0": " ",
         "xaxis": "x",
         "y": [
          71,
          116,
          156,
          137,
          81,
          143,
          178,
          145,
          120,
          128,
          113,
          76,
          105,
          64,
          131,
          109,
          145,
          106,
          139,
          114,
          120,
          154,
          136,
          126,
          107,
          81,
          125,
          100,
          138,
          110,
          114,
          104,
          127,
          82,
          135,
          104,
          79,
          129,
          91,
          109,
          118,
          117,
          151,
          89,
          141,
          128,
          106,
          139,
          148,
          88,
          114,
          101,
          164,
          135,
          133,
          122,
          199,
          127,
          121,
          121,
          118,
          102,
          133,
          129,
          148,
          107,
          92,
          116,
          107,
          138,
          126,
          143,
          99,
          157,
          126,
          125,
          114,
          102,
          114,
          96,
          124,
          106,
          119,
          161,
          151,
          126,
          136,
          150,
          101,
          107,
          104,
          128,
          177,
          125,
          107,
          126,
          100,
          117,
          119,
          93,
          105,
          125,
          139,
          123
         ],
         "y0": " ",
         "yaxis": "y"
        },
        {
         "alignmentgroup": "True",
         "hovertemplate": "decade=1980<br>bpm=%{y}<extra></extra>",
         "legendgroup": "1980",
         "marker": {
          "color": "#ab63fa"
         },
         "name": "1980",
         "notched": false,
         "offsetgroup": "1980",
         "orientation": "v",
         "showlegend": true,
         "type": "box",
         "x0": " ",
         "xaxis": "x",
         "y": [
          123,
          93,
          110,
          110,
          119,
          139,
          123,
          112,
          177,
          108,
          129,
          112,
          140,
          105,
          109,
          178,
          86,
          122,
          85,
          116,
          159,
          110,
          141,
          137,
          94,
          113,
          137,
          126,
          135,
          104,
          125,
          79,
          145,
          118,
          122,
          164,
          107,
          128,
          123,
          109,
          137,
          137,
          132,
          125,
          140,
          107,
          87,
          177,
          82,
          160,
          111,
          136,
          107,
          62,
          151,
          109,
          108,
          167,
          117,
          140,
          170,
          114,
          99,
          120,
          131,
          148,
          78,
          98,
          106,
          116,
          130,
          143,
          142,
          96,
          115,
          132,
          136,
          168,
          106,
          102,
          122,
          131,
          133,
          153,
          114,
          90,
          131,
          81,
          124,
          130,
          180,
          108,
          123,
          144,
          105,
          90,
          118,
          130,
          191,
          131,
          108,
          92,
          117,
          141
         ],
         "y0": " ",
         "yaxis": "y"
        },
        {
         "alignmentgroup": "True",
         "hovertemplate": "decade=1990<br>bpm=%{y}<extra></extra>",
         "legendgroup": "1990",
         "marker": {
          "color": "#FFA15A"
         },
         "name": "1990",
         "notched": false,
         "offsetgroup": "1990",
         "orientation": "v",
         "showlegend": true,
         "type": "box",
         "x0": " ",
         "xaxis": "x",
         "y": [
          93,
          99,
          95,
          120,
          84,
          174,
          138,
          108,
          165,
          163,
          79,
          150,
          95,
          142,
          129,
          137,
          120,
          150,
          110,
          134,
          102,
          136,
          97,
          133,
          171,
          131,
          128,
          140,
          102,
          108,
          94,
          108,
          102,
          139,
          124,
          67,
          81,
          93,
          128,
          129,
          90,
          117,
          77,
          127,
          93,
          128,
          99,
          105,
          128,
          128,
          108,
          133,
          119,
          134,
          96,
          172,
          165,
          153,
          128,
          174,
          123,
          133,
          126,
          125,
          161,
          120,
          110,
          115,
          133,
          88,
          133,
          82,
          134,
          123,
          172,
          142,
          125,
          122,
          174,
          134,
          80,
          120,
          147,
          127,
          140,
          125,
          95,
          67
         ],
         "y0": " ",
         "yaxis": "y"
        },
        {
         "alignmentgroup": "True",
         "hovertemplate": "decade=2000<br>bpm=%{y}<extra></extra>",
         "legendgroup": "2000",
         "marker": {
          "color": "#19d3f3"
         },
         "name": "2000",
         "notched": false,
         "offsetgroup": "2000",
         "orientation": "v",
         "showlegend": true,
         "type": "box",
         "x0": " ",
         "xaxis": "x",
         "y": [
          105,
          146,
          110,
          138,
          174,
          104,
          105,
          128,
          118,
          105,
          85,
          96,
          125,
          180,
          120,
          93,
          82,
          168,
          128,
          80,
          90,
          109,
          140,
          96,
          95,
          123,
          171,
          77,
          125,
          93,
          94,
          91,
          160,
          110,
          126,
          139,
          152,
          113,
          119,
          120,
          160,
          86,
          119,
          99,
          151,
          94,
          125,
          110,
          126,
          126,
          94,
          154,
          122,
          107,
          94,
          148,
          144,
          100,
          162,
          118,
          83,
          112,
          104,
          110,
          143,
          132,
          94,
          82,
          130,
          126,
          110,
          120,
          103,
          128,
          82,
          126,
          113,
          142,
          127,
          120,
          98,
          129,
          140,
          130,
          107,
          100,
          130,
          130,
          130,
          96,
          118,
          127,
          128,
          140,
          127,
          86,
          155,
          130,
          130,
          90
         ],
         "y0": " ",
         "yaxis": "y"
        },
        {
         "alignmentgroup": "True",
         "hovertemplate": "decade=2010<br>bpm=%{y}<extra></extra>",
         "legendgroup": "2010",
         "marker": {
          "color": "#FF6692"
         },
         "name": "2010",
         "notched": false,
         "offsetgroup": "2010",
         "orientation": "v",
         "showlegend": true,
         "type": "box",
         "x0": " ",
         "xaxis": "x",
         "y": [
          135,
          140,
          136,
          117,
          160,
          75,
          90,
          77,
          124,
          168,
          144,
          150,
          186,
          95,
          140,
          123,
          91,
          113,
          122,
          113,
          116,
          83,
          103,
          90,
          100,
          97,
          122,
          138,
          135,
          100,
          93,
          142,
          126,
          134,
          134,
          180,
          121,
          105,
          144,
          146,
          148,
          160,
          125,
          120,
          129,
          128,
          102,
          100,
          85,
          110,
          125,
          86,
          120,
          123,
          117,
          102,
          124,
          84,
          126,
          118,
          118,
          105,
          96,
          146,
          99,
          93,
          104,
          96,
          100,
          95,
          104,
          113,
          90,
          93,
          140,
          121,
          145,
          106,
          140,
          132,
          115,
          97,
          124,
          146,
          120,
          128,
          160,
          130,
          104,
          122,
          138,
          134,
          122,
          105,
          105,
          90,
          120,
          122,
          102,
          112,
          97
         ],
         "y0": " ",
         "yaxis": "y"
        }
       ],
       "layout": {
        "boxmode": "group",
        "legend": {
         "title": {
          "text": "decade"
         },
         "tracegroupgap": 0
        },
        "margin": {
         "t": 60
        },
        "template": {
         "data": {
          "bar": [
           {
            "error_x": {
             "color": "#2a3f5f"
            },
            "error_y": {
             "color": "#2a3f5f"
            },
            "marker": {
             "line": {
              "color": "#E5ECF6",
              "width": 0.5
             }
            },
            "type": "bar"
           }
          ],
          "barpolar": [
           {
            "marker": {
             "line": {
              "color": "#E5ECF6",
              "width": 0.5
             }
            },
            "type": "barpolar"
           }
          ],
          "carpet": [
           {
            "aaxis": {
             "endlinecolor": "#2a3f5f",
             "gridcolor": "white",
             "linecolor": "white",
             "minorgridcolor": "white",
             "startlinecolor": "#2a3f5f"
            },
            "baxis": {
             "endlinecolor": "#2a3f5f",
             "gridcolor": "white",
             "linecolor": "white",
             "minorgridcolor": "white",
             "startlinecolor": "#2a3f5f"
            },
            "type": "carpet"
           }
          ],
          "choropleth": [
           {
            "colorbar": {
             "outlinewidth": 0,
             "ticks": ""
            },
            "type": "choropleth"
           }
          ],
          "contour": [
           {
            "colorbar": {
             "outlinewidth": 0,
             "ticks": ""
            },
            "colorscale": [
             [
              0,
              "#0d0887"
             ],
             [
              0.1111111111111111,
              "#46039f"
             ],
             [
              0.2222222222222222,
              "#7201a8"
             ],
             [
              0.3333333333333333,
              "#9c179e"
             ],
             [
              0.4444444444444444,
              "#bd3786"
             ],
             [
              0.5555555555555556,
              "#d8576b"
             ],
             [
              0.6666666666666666,
              "#ed7953"
             ],
             [
              0.7777777777777778,
              "#fb9f3a"
             ],
             [
              0.8888888888888888,
              "#fdca26"
             ],
             [
              1,
              "#f0f921"
             ]
            ],
            "type": "contour"
           }
          ],
          "contourcarpet": [
           {
            "colorbar": {
             "outlinewidth": 0,
             "ticks": ""
            },
            "type": "contourcarpet"
           }
          ],
          "heatmap": [
           {
            "colorbar": {
             "outlinewidth": 0,
             "ticks": ""
            },
            "colorscale": [
             [
              0,
              "#0d0887"
             ],
             [
              0.1111111111111111,
              "#46039f"
             ],
             [
              0.2222222222222222,
              "#7201a8"
             ],
             [
              0.3333333333333333,
              "#9c179e"
             ],
             [
              0.4444444444444444,
              "#bd3786"
             ],
             [
              0.5555555555555556,
              "#d8576b"
             ],
             [
              0.6666666666666666,
              "#ed7953"
             ],
             [
              0.7777777777777778,
              "#fb9f3a"
             ],
             [
              0.8888888888888888,
              "#fdca26"
             ],
             [
              1,
              "#f0f921"
             ]
            ],
            "type": "heatmap"
           }
          ],
          "heatmapgl": [
           {
            "colorbar": {
             "outlinewidth": 0,
             "ticks": ""
            },
            "colorscale": [
             [
              0,
              "#0d0887"
             ],
             [
              0.1111111111111111,
              "#46039f"
             ],
             [
              0.2222222222222222,
              "#7201a8"
             ],
             [
              0.3333333333333333,
              "#9c179e"
             ],
             [
              0.4444444444444444,
              "#bd3786"
             ],
             [
              0.5555555555555556,
              "#d8576b"
             ],
             [
              0.6666666666666666,
              "#ed7953"
             ],
             [
              0.7777777777777778,
              "#fb9f3a"
             ],
             [
              0.8888888888888888,
              "#fdca26"
             ],
             [
              1,
              "#f0f921"
             ]
            ],
            "type": "heatmapgl"
           }
          ],
          "histogram": [
           {
            "marker": {
             "colorbar": {
              "outlinewidth": 0,
              "ticks": ""
             }
            },
            "type": "histogram"
           }
          ],
          "histogram2d": [
           {
            "colorbar": {
             "outlinewidth": 0,
             "ticks": ""
            },
            "colorscale": [
             [
              0,
              "#0d0887"
             ],
             [
              0.1111111111111111,
              "#46039f"
             ],
             [
              0.2222222222222222,
              "#7201a8"
             ],
             [
              0.3333333333333333,
              "#9c179e"
             ],
             [
              0.4444444444444444,
              "#bd3786"
             ],
             [
              0.5555555555555556,
              "#d8576b"
             ],
             [
              0.6666666666666666,
              "#ed7953"
             ],
             [
              0.7777777777777778,
              "#fb9f3a"
             ],
             [
              0.8888888888888888,
              "#fdca26"
             ],
             [
              1,
              "#f0f921"
             ]
            ],
            "type": "histogram2d"
           }
          ],
          "histogram2dcontour": [
           {
            "colorbar": {
             "outlinewidth": 0,
             "ticks": ""
            },
            "colorscale": [
             [
              0,
              "#0d0887"
             ],
             [
              0.1111111111111111,
              "#46039f"
             ],
             [
              0.2222222222222222,
              "#7201a8"
             ],
             [
              0.3333333333333333,
              "#9c179e"
             ],
             [
              0.4444444444444444,
              "#bd3786"
             ],
             [
              0.5555555555555556,
              "#d8576b"
             ],
             [
              0.6666666666666666,
              "#ed7953"
             ],
             [
              0.7777777777777778,
              "#fb9f3a"
             ],
             [
              0.8888888888888888,
              "#fdca26"
             ],
             [
              1,
              "#f0f921"
             ]
            ],
            "type": "histogram2dcontour"
           }
          ],
          "mesh3d": [
           {
            "colorbar": {
             "outlinewidth": 0,
             "ticks": ""
            },
            "type": "mesh3d"
           }
          ],
          "parcoords": [
           {
            "line": {
             "colorbar": {
              "outlinewidth": 0,
              "ticks": ""
             }
            },
            "type": "parcoords"
           }
          ],
          "pie": [
           {
            "automargin": true,
            "type": "pie"
           }
          ],
          "scatter": [
           {
            "marker": {
             "colorbar": {
              "outlinewidth": 0,
              "ticks": ""
             }
            },
            "type": "scatter"
           }
          ],
          "scatter3d": [
           {
            "line": {
             "colorbar": {
              "outlinewidth": 0,
              "ticks": ""
             }
            },
            "marker": {
             "colorbar": {
              "outlinewidth": 0,
              "ticks": ""
             }
            },
            "type": "scatter3d"
           }
          ],
          "scattercarpet": [
           {
            "marker": {
             "colorbar": {
              "outlinewidth": 0,
              "ticks": ""
             }
            },
            "type": "scattercarpet"
           }
          ],
          "scattergeo": [
           {
            "marker": {
             "colorbar": {
              "outlinewidth": 0,
              "ticks": ""
             }
            },
            "type": "scattergeo"
           }
          ],
          "scattergl": [
           {
            "marker": {
             "colorbar": {
              "outlinewidth": 0,
              "ticks": ""
             }
            },
            "type": "scattergl"
           }
          ],
          "scattermapbox": [
           {
            "marker": {
             "colorbar": {
              "outlinewidth": 0,
              "ticks": ""
             }
            },
            "type": "scattermapbox"
           }
          ],
          "scatterpolar": [
           {
            "marker": {
             "colorbar": {
              "outlinewidth": 0,
              "ticks": ""
             }
            },
            "type": "scatterpolar"
           }
          ],
          "scatterpolargl": [
           {
            "marker": {
             "colorbar": {
              "outlinewidth": 0,
              "ticks": ""
             }
            },
            "type": "scatterpolargl"
           }
          ],
          "scatterternary": [
           {
            "marker": {
             "colorbar": {
              "outlinewidth": 0,
              "ticks": ""
             }
            },
            "type": "scatterternary"
           }
          ],
          "surface": [
           {
            "colorbar": {
             "outlinewidth": 0,
             "ticks": ""
            },
            "colorscale": [
             [
              0,
              "#0d0887"
             ],
             [
              0.1111111111111111,
              "#46039f"
             ],
             [
              0.2222222222222222,
              "#7201a8"
             ],
             [
              0.3333333333333333,
              "#9c179e"
             ],
             [
              0.4444444444444444,
              "#bd3786"
             ],
             [
              0.5555555555555556,
              "#d8576b"
             ],
             [
              0.6666666666666666,
              "#ed7953"
             ],
             [
              0.7777777777777778,
              "#fb9f3a"
             ],
             [
              0.8888888888888888,
              "#fdca26"
             ],
             [
              1,
              "#f0f921"
             ]
            ],
            "type": "surface"
           }
          ],
          "table": [
           {
            "cells": {
             "fill": {
              "color": "#EBF0F8"
             },
             "line": {
              "color": "white"
             }
            },
            "header": {
             "fill": {
              "color": "#C8D4E3"
             },
             "line": {
              "color": "white"
             }
            },
            "type": "table"
           }
          ]
         },
         "layout": {
          "annotationdefaults": {
           "arrowcolor": "#2a3f5f",
           "arrowhead": 0,
           "arrowwidth": 1
          },
          "autotypenumbers": "strict",
          "coloraxis": {
           "colorbar": {
            "outlinewidth": 0,
            "ticks": ""
           }
          },
          "colorscale": {
           "diverging": [
            [
             0,
             "#8e0152"
            ],
            [
             0.1,
             "#c51b7d"
            ],
            [
             0.2,
             "#de77ae"
            ],
            [
             0.3,
             "#f1b6da"
            ],
            [
             0.4,
             "#fde0ef"
            ],
            [
             0.5,
             "#f7f7f7"
            ],
            [
             0.6,
             "#e6f5d0"
            ],
            [
             0.7,
             "#b8e186"
            ],
            [
             0.8,
             "#7fbc41"
            ],
            [
             0.9,
             "#4d9221"
            ],
            [
             1,
             "#276419"
            ]
           ],
           "sequential": [
            [
             0,
             "#0d0887"
            ],
            [
             0.1111111111111111,
             "#46039f"
            ],
            [
             0.2222222222222222,
             "#7201a8"
            ],
            [
             0.3333333333333333,
             "#9c179e"
            ],
            [
             0.4444444444444444,
             "#bd3786"
            ],
            [
             0.5555555555555556,
             "#d8576b"
            ],
            [
             0.6666666666666666,
             "#ed7953"
            ],
            [
             0.7777777777777778,
             "#fb9f3a"
            ],
            [
             0.8888888888888888,
             "#fdca26"
            ],
            [
             1,
             "#f0f921"
            ]
           ],
           "sequentialminus": [
            [
             0,
             "#0d0887"
            ],
            [
             0.1111111111111111,
             "#46039f"
            ],
            [
             0.2222222222222222,
             "#7201a8"
            ],
            [
             0.3333333333333333,
             "#9c179e"
            ],
            [
             0.4444444444444444,
             "#bd3786"
            ],
            [
             0.5555555555555556,
             "#d8576b"
            ],
            [
             0.6666666666666666,
             "#ed7953"
            ],
            [
             0.7777777777777778,
             "#fb9f3a"
            ],
            [
             0.8888888888888888,
             "#fdca26"
            ],
            [
             1,
             "#f0f921"
            ]
           ]
          },
          "colorway": [
           "#636efa",
           "#EF553B",
           "#00cc96",
           "#ab63fa",
           "#FFA15A",
           "#19d3f3",
           "#FF6692",
           "#B6E880",
           "#FF97FF",
           "#FECB52"
          ],
          "font": {
           "color": "#2a3f5f"
          },
          "geo": {
           "bgcolor": "white",
           "lakecolor": "white",
           "landcolor": "#E5ECF6",
           "showlakes": true,
           "showland": true,
           "subunitcolor": "white"
          },
          "hoverlabel": {
           "align": "left"
          },
          "hovermode": "closest",
          "mapbox": {
           "style": "light"
          },
          "paper_bgcolor": "white",
          "plot_bgcolor": "#E5ECF6",
          "polar": {
           "angularaxis": {
            "gridcolor": "white",
            "linecolor": "white",
            "ticks": ""
           },
           "bgcolor": "#E5ECF6",
           "radialaxis": {
            "gridcolor": "white",
            "linecolor": "white",
            "ticks": ""
           }
          },
          "scene": {
           "xaxis": {
            "backgroundcolor": "#E5ECF6",
            "gridcolor": "white",
            "gridwidth": 2,
            "linecolor": "white",
            "showbackground": true,
            "ticks": "",
            "zerolinecolor": "white"
           },
           "yaxis": {
            "backgroundcolor": "#E5ECF6",
            "gridcolor": "white",
            "gridwidth": 2,
            "linecolor": "white",
            "showbackground": true,
            "ticks": "",
            "zerolinecolor": "white"
           },
           "zaxis": {
            "backgroundcolor": "#E5ECF6",
            "gridcolor": "white",
            "gridwidth": 2,
            "linecolor": "white",
            "showbackground": true,
            "ticks": "",
            "zerolinecolor": "white"
           }
          },
          "shapedefaults": {
           "line": {
            "color": "#2a3f5f"
           }
          },
          "ternary": {
           "aaxis": {
            "gridcolor": "white",
            "linecolor": "white",
            "ticks": ""
           },
           "baxis": {
            "gridcolor": "white",
            "linecolor": "white",
            "ticks": ""
           },
           "bgcolor": "#E5ECF6",
           "caxis": {
            "gridcolor": "white",
            "linecolor": "white",
            "ticks": ""
           }
          },
          "title": {
           "x": 0.05
          },
          "xaxis": {
           "automargin": true,
           "gridcolor": "white",
           "linecolor": "white",
           "ticks": "",
           "title": {
            "standoff": 15
           },
           "zerolinecolor": "white",
           "zerolinewidth": 2
          },
          "yaxis": {
           "automargin": true,
           "gridcolor": "white",
           "linecolor": "white",
           "ticks": "",
           "title": {
            "standoff": 15
           },
           "zerolinecolor": "white",
           "zerolinewidth": 2
          }
         }
        },
        "xaxis": {
         "anchor": "y",
         "domain": [
          0,
          1
         ]
        },
        "yaxis": {
         "anchor": "x",
         "domain": [
          0,
          1
         ],
         "title": {
          "text": "bpm"
         }
        }
       }
      }
     },
     "metadata": {},
     "output_type": "display_data"
    },
    {
     "name": "stdout",
     "output_type": "stream",
     "text": [
      "Box plot for dnce per decade\n"
     ]
    },
    {
     "data": {
      "application/vnd.plotly.v1+json": {
       "config": {
        "plotlyServerURL": "https://plot.ly"
       },
       "data": [
        {
         "alignmentgroup": "True",
         "hovertemplate": "decade=1950<br>dnce=%{y}<extra></extra>",
         "legendgroup": "1950",
         "marker": {
          "color": "#636efa"
         },
         "name": "1950",
         "notched": false,
         "offsetgroup": "1950",
         "orientation": "v",
         "showlegend": true,
         "type": "box",
         "x0": " ",
         "xaxis": "x",
         "y": [
          55,
          42,
          26,
          49,
          56,
          39,
          29,
          74,
          37,
          81,
          51,
          60,
          50,
          67,
          67,
          38,
          37,
          39,
          47,
          57,
          42,
          51,
          18,
          44,
          55,
          68,
          45,
          59,
          49,
          32,
          56,
          49,
          41,
          51,
          37,
          48,
          72,
          59,
          74,
          57,
          36,
          59,
          53,
          53,
          42,
          66,
          35,
          21,
          55,
          46,
          29,
          36,
          55,
          24,
          53,
          71,
          45,
          37,
          88,
          57,
          69,
          52,
          57,
          59,
          65,
          70,
          57,
          48,
          55,
          65,
          62,
          27,
          70
         ],
         "y0": " ",
         "yaxis": "y"
        },
        {
         "alignmentgroup": "True",
         "hovertemplate": "decade=1960<br>dnce=%{y}<extra></extra>",
         "legendgroup": "1960",
         "marker": {
          "color": "#EF553B"
         },
         "name": "1960",
         "notched": false,
         "offsetgroup": "1960",
         "orientation": "v",
         "showlegend": true,
         "type": "box",
         "x0": " ",
         "xaxis": "x",
         "y": [
          56,
          53,
          53,
          33,
          40,
          67,
          49,
          55,
          55,
          66,
          40,
          55,
          54,
          43,
          79,
          40,
          48,
          45,
          51,
          63,
          49,
          64,
          52,
          54,
          49,
          52,
          73,
          66,
          72,
          37,
          51,
          57,
          45,
          62,
          74,
          40,
          56,
          43,
          41,
          54,
          28,
          42,
          24,
          51,
          64,
          44,
          58,
          51,
          52,
          53,
          38,
          57,
          50,
          61,
          64,
          53,
          23,
          45,
          50,
          51,
          65,
          50,
          25,
          40,
          53,
          50,
          67,
          49,
          64,
          67,
          50,
          20,
          55,
          56,
          31,
          48,
          57,
          56,
          20,
          42,
          65,
          67,
          48,
          32,
          67,
          48,
          32,
          63,
          67,
          61,
          34,
          71,
          51,
          39,
          68,
          49,
          42
         ],
         "y0": " ",
         "yaxis": "y"
        },
        {
         "alignmentgroup": "True",
         "hovertemplate": "decade=1970<br>dnce=%{y}<extra></extra>",
         "legendgroup": "1970",
         "marker": {
          "color": "#00cc96"
         },
         "name": "1970",
         "notched": false,
         "offsetgroup": "1970",
         "orientation": "v",
         "showlegend": true,
         "type": "box",
         "x0": " ",
         "xaxis": "x",
         "y": [
          41,
          57,
          56,
          60,
          69,
          44,
          39,
          41,
          83,
          77,
          56,
          55,
          63,
          27,
          73,
          41,
          65,
          65,
          57,
          60,
          75,
          33,
          50,
          64,
          76,
          45,
          72,
          49,
          75,
          67,
          81,
          69,
          72,
          46,
          52,
          31,
          37,
          43,
          55,
          68,
          48,
          80,
          63,
          33,
          52,
          55,
          53,
          54,
          45,
          32,
          34,
          51,
          41,
          69,
          67,
          65,
          37,
          71,
          56,
          73,
          37,
          64,
          66,
          76,
          63,
          55,
          83,
          76,
          48,
          26,
          69,
          30,
          39,
          65,
          48,
          42,
          72,
          51,
          76,
          73,
          64,
          67,
          55,
          26,
          37,
          59,
          65,
          52,
          52,
          72,
          59,
          72,
          44,
          75,
          43,
          66,
          57,
          54,
          58,
          73,
          64,
          66,
          27,
          52
         ],
         "y0": " ",
         "yaxis": "y"
        },
        {
         "alignmentgroup": "True",
         "hovertemplate": "decade=1980<br>dnce=%{y}<extra></extra>",
         "legendgroup": "1980",
         "marker": {
          "color": "#ab63fa"
         },
         "name": "1980",
         "notched": false,
         "offsetgroup": "1980",
         "orientation": "v",
         "showlegend": true,
         "type": "box",
         "x0": " ",
         "xaxis": "x",
         "y": [
          53,
          67,
          93,
          92,
          71,
          51,
          54,
          65,
          50,
          74,
          70,
          74,
          38,
          55,
          82,
          40,
          54,
          40,
          27,
          58,
          62,
          71,
          53,
          49,
          54,
          76,
          74,
          45,
          69,
          68,
          63,
          41,
          52,
          76,
          57,
          57,
          81,
          64,
          64,
          88,
          53,
          46,
          51,
          79,
          54,
          66,
          63,
          51,
          52,
          56,
          61,
          53,
          41,
          46,
          63,
          78,
          63,
          58,
          82,
          63,
          47,
          68,
          70,
          68,
          78,
          66,
          44,
          75,
          75,
          72,
          68,
          71,
          45,
          66,
          71,
          72,
          68,
          70,
          72,
          58,
          81,
          54,
          71,
          50,
          57,
          63,
          71,
          58,
          58,
          49,
          33,
          73,
          69,
          59,
          68,
          38,
          81,
          65,
          41,
          55,
          85,
          67,
          80,
          85
         ],
         "y0": " ",
         "yaxis": "y"
        },
        {
         "alignmentgroup": "True",
         "hovertemplate": "decade=1990<br>dnce=%{y}<extra></extra>",
         "legendgroup": "1990",
         "marker": {
          "color": "#FFA15A"
         },
         "name": "1990",
         "notched": false,
         "offsetgroup": "1990",
         "orientation": "v",
         "showlegend": true,
         "type": "box",
         "x0": " ",
         "xaxis": "x",
         "y": [
          74,
          69,
          85,
          61,
          78,
          60,
          80,
          73,
          31,
          33,
          65,
          43,
          72,
          75,
          70,
          67,
          50,
          64,
          86,
          92,
          67,
          53,
          69,
          70,
          42,
          82,
          69,
          55,
          62,
          88,
          90,
          52,
          66,
          62,
          79,
          52,
          53,
          70,
          69,
          70,
          59,
          76,
          46,
          56,
          70,
          82,
          75,
          61,
          81,
          52,
          52,
          66,
          75,
          66,
          87,
          66,
          64,
          49,
          58,
          41,
          65,
          85,
          66,
          76,
          30,
          71,
          67,
          69,
          65,
          49,
          34,
          41,
          71,
          64,
          46,
          70,
          87,
          68,
          74,
          68,
          64,
          82,
          39,
          71,
          58,
          89,
          81,
          53
         ],
         "y0": " ",
         "yaxis": "y"
        },
        {
         "alignmentgroup": "True",
         "hovertemplate": "decade=2000<br>dnce=%{y}<extra></extra>",
         "legendgroup": "2000",
         "marker": {
          "color": "#19d3f3"
         },
         "name": "2000",
         "notched": false,
         "offsetgroup": "2000",
         "orientation": "v",
         "showlegend": true,
         "type": "box",
         "x0": " ",
         "xaxis": "x",
         "y": [
          56,
          56,
          50,
          21,
          58,
          62,
          95,
          92,
          73,
          89,
          42,
          65,
          61,
          51,
          75,
          45,
          70,
          73,
          74,
          51,
          90,
          64,
          74,
          86,
          66,
          84,
          69,
          62,
          95,
          48,
          84,
          71,
          38,
          71,
          65,
          72,
          34,
          94,
          94,
          79,
          47,
          63,
          62,
          78,
          67,
          66,
          72,
          81,
          60,
          79,
          84,
          65,
          61,
          69,
          64,
          83,
          62,
          87,
          57,
          66,
          66,
          57,
          64,
          76,
          79,
          71,
          63,
          84,
          87,
          72,
          80,
          76,
          78,
          62,
          58,
          60,
          61,
          64,
          80,
          75,
          72,
          91,
          64,
          66,
          70,
          62,
          47,
          96,
          75,
          84,
          54,
          82,
          53,
          52,
          84,
          56,
          59,
          67,
          75,
          59
         ],
         "y0": " ",
         "yaxis": "y"
        },
        {
         "alignmentgroup": "True",
         "hovertemplate": "decade=2010<br>dnce=%{y}<extra></extra>",
         "legendgroup": "2010",
         "marker": {
          "color": "#FF6692"
         },
         "name": "2010",
         "notched": false,
         "offsetgroup": "2010",
         "orientation": "v",
         "showlegend": true,
         "type": "box",
         "x0": " ",
         "xaxis": "x",
         "y": [
          70,
          78,
          88,
          76,
          59,
          74,
          76,
          75,
          79,
          61,
          56,
          91,
          68,
          63,
          75,
          63,
          84,
          58,
          70,
          68,
          76,
          44,
          62,
          52,
          78,
          84,
          87,
          58,
          67,
          65,
          49,
          52,
          53,
          66,
          50,
          47,
          60,
          74,
          71,
          50,
          56,
          53,
          63,
          66,
          67,
          58,
          69,
          64,
          42,
          74,
          58,
          21,
          60,
          71,
          39,
          72,
          72,
          51,
          68,
          74,
          73,
          74,
          61,
          58,
          40,
          66,
          75,
          71,
          65,
          69,
          74,
          74,
          63,
          68,
          57,
          70,
          55,
          87,
          55,
          47,
          75,
          68,
          88,
          63,
          67,
          70,
          49,
          67,
          74,
          66,
          72,
          69,
          48,
          60,
          67,
          65,
          76,
          67,
          76,
          73,
          67
         ],
         "y0": " ",
         "yaxis": "y"
        }
       ],
       "layout": {
        "boxmode": "group",
        "legend": {
         "title": {
          "text": "decade"
         },
         "tracegroupgap": 0
        },
        "margin": {
         "t": 60
        },
        "template": {
         "data": {
          "bar": [
           {
            "error_x": {
             "color": "#2a3f5f"
            },
            "error_y": {
             "color": "#2a3f5f"
            },
            "marker": {
             "line": {
              "color": "#E5ECF6",
              "width": 0.5
             }
            },
            "type": "bar"
           }
          ],
          "barpolar": [
           {
            "marker": {
             "line": {
              "color": "#E5ECF6",
              "width": 0.5
             }
            },
            "type": "barpolar"
           }
          ],
          "carpet": [
           {
            "aaxis": {
             "endlinecolor": "#2a3f5f",
             "gridcolor": "white",
             "linecolor": "white",
             "minorgridcolor": "white",
             "startlinecolor": "#2a3f5f"
            },
            "baxis": {
             "endlinecolor": "#2a3f5f",
             "gridcolor": "white",
             "linecolor": "white",
             "minorgridcolor": "white",
             "startlinecolor": "#2a3f5f"
            },
            "type": "carpet"
           }
          ],
          "choropleth": [
           {
            "colorbar": {
             "outlinewidth": 0,
             "ticks": ""
            },
            "type": "choropleth"
           }
          ],
          "contour": [
           {
            "colorbar": {
             "outlinewidth": 0,
             "ticks": ""
            },
            "colorscale": [
             [
              0,
              "#0d0887"
             ],
             [
              0.1111111111111111,
              "#46039f"
             ],
             [
              0.2222222222222222,
              "#7201a8"
             ],
             [
              0.3333333333333333,
              "#9c179e"
             ],
             [
              0.4444444444444444,
              "#bd3786"
             ],
             [
              0.5555555555555556,
              "#d8576b"
             ],
             [
              0.6666666666666666,
              "#ed7953"
             ],
             [
              0.7777777777777778,
              "#fb9f3a"
             ],
             [
              0.8888888888888888,
              "#fdca26"
             ],
             [
              1,
              "#f0f921"
             ]
            ],
            "type": "contour"
           }
          ],
          "contourcarpet": [
           {
            "colorbar": {
             "outlinewidth": 0,
             "ticks": ""
            },
            "type": "contourcarpet"
           }
          ],
          "heatmap": [
           {
            "colorbar": {
             "outlinewidth": 0,
             "ticks": ""
            },
            "colorscale": [
             [
              0,
              "#0d0887"
             ],
             [
              0.1111111111111111,
              "#46039f"
             ],
             [
              0.2222222222222222,
              "#7201a8"
             ],
             [
              0.3333333333333333,
              "#9c179e"
             ],
             [
              0.4444444444444444,
              "#bd3786"
             ],
             [
              0.5555555555555556,
              "#d8576b"
             ],
             [
              0.6666666666666666,
              "#ed7953"
             ],
             [
              0.7777777777777778,
              "#fb9f3a"
             ],
             [
              0.8888888888888888,
              "#fdca26"
             ],
             [
              1,
              "#f0f921"
             ]
            ],
            "type": "heatmap"
           }
          ],
          "heatmapgl": [
           {
            "colorbar": {
             "outlinewidth": 0,
             "ticks": ""
            },
            "colorscale": [
             [
              0,
              "#0d0887"
             ],
             [
              0.1111111111111111,
              "#46039f"
             ],
             [
              0.2222222222222222,
              "#7201a8"
             ],
             [
              0.3333333333333333,
              "#9c179e"
             ],
             [
              0.4444444444444444,
              "#bd3786"
             ],
             [
              0.5555555555555556,
              "#d8576b"
             ],
             [
              0.6666666666666666,
              "#ed7953"
             ],
             [
              0.7777777777777778,
              "#fb9f3a"
             ],
             [
              0.8888888888888888,
              "#fdca26"
             ],
             [
              1,
              "#f0f921"
             ]
            ],
            "type": "heatmapgl"
           }
          ],
          "histogram": [
           {
            "marker": {
             "colorbar": {
              "outlinewidth": 0,
              "ticks": ""
             }
            },
            "type": "histogram"
           }
          ],
          "histogram2d": [
           {
            "colorbar": {
             "outlinewidth": 0,
             "ticks": ""
            },
            "colorscale": [
             [
              0,
              "#0d0887"
             ],
             [
              0.1111111111111111,
              "#46039f"
             ],
             [
              0.2222222222222222,
              "#7201a8"
             ],
             [
              0.3333333333333333,
              "#9c179e"
             ],
             [
              0.4444444444444444,
              "#bd3786"
             ],
             [
              0.5555555555555556,
              "#d8576b"
             ],
             [
              0.6666666666666666,
              "#ed7953"
             ],
             [
              0.7777777777777778,
              "#fb9f3a"
             ],
             [
              0.8888888888888888,
              "#fdca26"
             ],
             [
              1,
              "#f0f921"
             ]
            ],
            "type": "histogram2d"
           }
          ],
          "histogram2dcontour": [
           {
            "colorbar": {
             "outlinewidth": 0,
             "ticks": ""
            },
            "colorscale": [
             [
              0,
              "#0d0887"
             ],
             [
              0.1111111111111111,
              "#46039f"
             ],
             [
              0.2222222222222222,
              "#7201a8"
             ],
             [
              0.3333333333333333,
              "#9c179e"
             ],
             [
              0.4444444444444444,
              "#bd3786"
             ],
             [
              0.5555555555555556,
              "#d8576b"
             ],
             [
              0.6666666666666666,
              "#ed7953"
             ],
             [
              0.7777777777777778,
              "#fb9f3a"
             ],
             [
              0.8888888888888888,
              "#fdca26"
             ],
             [
              1,
              "#f0f921"
             ]
            ],
            "type": "histogram2dcontour"
           }
          ],
          "mesh3d": [
           {
            "colorbar": {
             "outlinewidth": 0,
             "ticks": ""
            },
            "type": "mesh3d"
           }
          ],
          "parcoords": [
           {
            "line": {
             "colorbar": {
              "outlinewidth": 0,
              "ticks": ""
             }
            },
            "type": "parcoords"
           }
          ],
          "pie": [
           {
            "automargin": true,
            "type": "pie"
           }
          ],
          "scatter": [
           {
            "marker": {
             "colorbar": {
              "outlinewidth": 0,
              "ticks": ""
             }
            },
            "type": "scatter"
           }
          ],
          "scatter3d": [
           {
            "line": {
             "colorbar": {
              "outlinewidth": 0,
              "ticks": ""
             }
            },
            "marker": {
             "colorbar": {
              "outlinewidth": 0,
              "ticks": ""
             }
            },
            "type": "scatter3d"
           }
          ],
          "scattercarpet": [
           {
            "marker": {
             "colorbar": {
              "outlinewidth": 0,
              "ticks": ""
             }
            },
            "type": "scattercarpet"
           }
          ],
          "scattergeo": [
           {
            "marker": {
             "colorbar": {
              "outlinewidth": 0,
              "ticks": ""
             }
            },
            "type": "scattergeo"
           }
          ],
          "scattergl": [
           {
            "marker": {
             "colorbar": {
              "outlinewidth": 0,
              "ticks": ""
             }
            },
            "type": "scattergl"
           }
          ],
          "scattermapbox": [
           {
            "marker": {
             "colorbar": {
              "outlinewidth": 0,
              "ticks": ""
             }
            },
            "type": "scattermapbox"
           }
          ],
          "scatterpolar": [
           {
            "marker": {
             "colorbar": {
              "outlinewidth": 0,
              "ticks": ""
             }
            },
            "type": "scatterpolar"
           }
          ],
          "scatterpolargl": [
           {
            "marker": {
             "colorbar": {
              "outlinewidth": 0,
              "ticks": ""
             }
            },
            "type": "scatterpolargl"
           }
          ],
          "scatterternary": [
           {
            "marker": {
             "colorbar": {
              "outlinewidth": 0,
              "ticks": ""
             }
            },
            "type": "scatterternary"
           }
          ],
          "surface": [
           {
            "colorbar": {
             "outlinewidth": 0,
             "ticks": ""
            },
            "colorscale": [
             [
              0,
              "#0d0887"
             ],
             [
              0.1111111111111111,
              "#46039f"
             ],
             [
              0.2222222222222222,
              "#7201a8"
             ],
             [
              0.3333333333333333,
              "#9c179e"
             ],
             [
              0.4444444444444444,
              "#bd3786"
             ],
             [
              0.5555555555555556,
              "#d8576b"
             ],
             [
              0.6666666666666666,
              "#ed7953"
             ],
             [
              0.7777777777777778,
              "#fb9f3a"
             ],
             [
              0.8888888888888888,
              "#fdca26"
             ],
             [
              1,
              "#f0f921"
             ]
            ],
            "type": "surface"
           }
          ],
          "table": [
           {
            "cells": {
             "fill": {
              "color": "#EBF0F8"
             },
             "line": {
              "color": "white"
             }
            },
            "header": {
             "fill": {
              "color": "#C8D4E3"
             },
             "line": {
              "color": "white"
             }
            },
            "type": "table"
           }
          ]
         },
         "layout": {
          "annotationdefaults": {
           "arrowcolor": "#2a3f5f",
           "arrowhead": 0,
           "arrowwidth": 1
          },
          "autotypenumbers": "strict",
          "coloraxis": {
           "colorbar": {
            "outlinewidth": 0,
            "ticks": ""
           }
          },
          "colorscale": {
           "diverging": [
            [
             0,
             "#8e0152"
            ],
            [
             0.1,
             "#c51b7d"
            ],
            [
             0.2,
             "#de77ae"
            ],
            [
             0.3,
             "#f1b6da"
            ],
            [
             0.4,
             "#fde0ef"
            ],
            [
             0.5,
             "#f7f7f7"
            ],
            [
             0.6,
             "#e6f5d0"
            ],
            [
             0.7,
             "#b8e186"
            ],
            [
             0.8,
             "#7fbc41"
            ],
            [
             0.9,
             "#4d9221"
            ],
            [
             1,
             "#276419"
            ]
           ],
           "sequential": [
            [
             0,
             "#0d0887"
            ],
            [
             0.1111111111111111,
             "#46039f"
            ],
            [
             0.2222222222222222,
             "#7201a8"
            ],
            [
             0.3333333333333333,
             "#9c179e"
            ],
            [
             0.4444444444444444,
             "#bd3786"
            ],
            [
             0.5555555555555556,
             "#d8576b"
            ],
            [
             0.6666666666666666,
             "#ed7953"
            ],
            [
             0.7777777777777778,
             "#fb9f3a"
            ],
            [
             0.8888888888888888,
             "#fdca26"
            ],
            [
             1,
             "#f0f921"
            ]
           ],
           "sequentialminus": [
            [
             0,
             "#0d0887"
            ],
            [
             0.1111111111111111,
             "#46039f"
            ],
            [
             0.2222222222222222,
             "#7201a8"
            ],
            [
             0.3333333333333333,
             "#9c179e"
            ],
            [
             0.4444444444444444,
             "#bd3786"
            ],
            [
             0.5555555555555556,
             "#d8576b"
            ],
            [
             0.6666666666666666,
             "#ed7953"
            ],
            [
             0.7777777777777778,
             "#fb9f3a"
            ],
            [
             0.8888888888888888,
             "#fdca26"
            ],
            [
             1,
             "#f0f921"
            ]
           ]
          },
          "colorway": [
           "#636efa",
           "#EF553B",
           "#00cc96",
           "#ab63fa",
           "#FFA15A",
           "#19d3f3",
           "#FF6692",
           "#B6E880",
           "#FF97FF",
           "#FECB52"
          ],
          "font": {
           "color": "#2a3f5f"
          },
          "geo": {
           "bgcolor": "white",
           "lakecolor": "white",
           "landcolor": "#E5ECF6",
           "showlakes": true,
           "showland": true,
           "subunitcolor": "white"
          },
          "hoverlabel": {
           "align": "left"
          },
          "hovermode": "closest",
          "mapbox": {
           "style": "light"
          },
          "paper_bgcolor": "white",
          "plot_bgcolor": "#E5ECF6",
          "polar": {
           "angularaxis": {
            "gridcolor": "white",
            "linecolor": "white",
            "ticks": ""
           },
           "bgcolor": "#E5ECF6",
           "radialaxis": {
            "gridcolor": "white",
            "linecolor": "white",
            "ticks": ""
           }
          },
          "scene": {
           "xaxis": {
            "backgroundcolor": "#E5ECF6",
            "gridcolor": "white",
            "gridwidth": 2,
            "linecolor": "white",
            "showbackground": true,
            "ticks": "",
            "zerolinecolor": "white"
           },
           "yaxis": {
            "backgroundcolor": "#E5ECF6",
            "gridcolor": "white",
            "gridwidth": 2,
            "linecolor": "white",
            "showbackground": true,
            "ticks": "",
            "zerolinecolor": "white"
           },
           "zaxis": {
            "backgroundcolor": "#E5ECF6",
            "gridcolor": "white",
            "gridwidth": 2,
            "linecolor": "white",
            "showbackground": true,
            "ticks": "",
            "zerolinecolor": "white"
           }
          },
          "shapedefaults": {
           "line": {
            "color": "#2a3f5f"
           }
          },
          "ternary": {
           "aaxis": {
            "gridcolor": "white",
            "linecolor": "white",
            "ticks": ""
           },
           "baxis": {
            "gridcolor": "white",
            "linecolor": "white",
            "ticks": ""
           },
           "bgcolor": "#E5ECF6",
           "caxis": {
            "gridcolor": "white",
            "linecolor": "white",
            "ticks": ""
           }
          },
          "title": {
           "x": 0.05
          },
          "xaxis": {
           "automargin": true,
           "gridcolor": "white",
           "linecolor": "white",
           "ticks": "",
           "title": {
            "standoff": 15
           },
           "zerolinecolor": "white",
           "zerolinewidth": 2
          },
          "yaxis": {
           "automargin": true,
           "gridcolor": "white",
           "linecolor": "white",
           "ticks": "",
           "title": {
            "standoff": 15
           },
           "zerolinecolor": "white",
           "zerolinewidth": 2
          }
         }
        },
        "xaxis": {
         "anchor": "y",
         "domain": [
          0,
          1
         ]
        },
        "yaxis": {
         "anchor": "x",
         "domain": [
          0,
          1
         ],
         "title": {
          "text": "dnce"
         }
        }
       }
      }
     },
     "metadata": {},
     "output_type": "display_data"
    },
    {
     "name": "stdout",
     "output_type": "stream",
     "text": [
      "Box plot for dB per decade\n"
     ]
    },
    {
     "data": {
      "application/vnd.plotly.v1+json": {
       "config": {
        "plotlyServerURL": "https://plot.ly"
       },
       "data": [
        {
         "alignmentgroup": "True",
         "hovertemplate": "decade=1950<br>dB=%{y}<extra></extra>",
         "legendgroup": "1950",
         "marker": {
          "color": "#636efa"
         },
         "name": "1950",
         "notched": false,
         "offsetgroup": "1950",
         "orientation": "v",
         "showlegend": true,
         "type": "box",
         "x0": " ",
         "xaxis": "x",
         "y": [
          -9,
          -11,
          -9,
          -12,
          -9,
          -18,
          -10,
          -12,
          -17,
          -12,
          -18,
          -11,
          -16,
          -9,
          -11,
          -14,
          -8,
          -15,
          -14,
          -16,
          -10,
          -10,
          -17,
          -10,
          -10,
          -12,
          -8,
          -7,
          -7,
          -10,
          -7,
          -10,
          -8,
          -11,
          -15,
          -15,
          -13,
          -18,
          -10,
          -12,
          -15,
          -10,
          -8,
          -10,
          -16,
          -16,
          -13,
          -17,
          -9,
          -10,
          -10,
          -11,
          -15,
          -17,
          -8,
          -8,
          -9,
          -10,
          -9,
          -9,
          -17,
          -14,
          -14,
          -10,
          -10,
          -15,
          -16,
          -9,
          -10,
          -8,
          -7,
          -15,
          -2
         ],
         "y0": " ",
         "yaxis": "y"
        },
        {
         "alignmentgroup": "True",
         "hovertemplate": "decade=1960<br>dB=%{y}<extra></extra>",
         "legendgroup": "1960",
         "marker": {
          "color": "#EF553B"
         },
         "name": "1960",
         "notched": false,
         "offsetgroup": "1960",
         "orientation": "v",
         "showlegend": true,
         "type": "box",
         "x0": " ",
         "xaxis": "x",
         "y": [
          -10,
          -12,
          -16,
          -12,
          -14,
          -14,
          -6,
          -13,
          -9,
          -7,
          -7,
          -6,
          -9,
          -8,
          -5,
          -10,
          -7,
          -13,
          -7,
          -6,
          -10,
          -10,
          -11,
          -7,
          -12,
          -6,
          -12,
          -8,
          -13,
          -1,
          -14,
          -13,
          -15,
          -15,
          -10,
          -11,
          -7,
          -22,
          -8,
          -11,
          -24,
          -16,
          -4,
          -9,
          -12,
          -7,
          -7,
          -14,
          -9,
          -8,
          -7,
          -10,
          -10,
          -10,
          -9,
          -13,
          -6,
          -6,
          -12,
          -9,
          -19,
          -10,
          -14,
          -13,
          -11,
          -10,
          -13,
          -11,
          -13,
          -11,
          -8,
          -7,
          -10,
          -12,
          -13,
          -14,
          -4,
          -13,
          -20,
          -9,
          -9,
          -17,
          -10,
          -10,
          -13,
          -6,
          -17,
          -11,
          -12,
          -10,
          -17,
          -10,
          -10,
          -6,
          -12,
          -9,
          -11
         ],
         "y0": " ",
         "yaxis": "y"
        },
        {
         "alignmentgroup": "True",
         "hovertemplate": "decade=1970<br>dB=%{y}<extra></extra>",
         "legendgroup": "1970",
         "marker": {
          "color": "#00cc96"
         },
         "name": "1970",
         "notched": false,
         "offsetgroup": "1970",
         "orientation": "v",
         "showlegend": true,
         "type": "box",
         "x0": " ",
         "xaxis": "x",
         "y": [
          -10,
          -5,
          -5,
          -9,
          -7,
          -8,
          -10,
          -11,
          -10,
          -6,
          -10,
          -12,
          -9,
          -7,
          -9,
          -7,
          -6,
          -13,
          -10,
          -9,
          -10,
          -12,
          -11,
          -16,
          -11,
          -10,
          -11,
          -10,
          -7,
          -7,
          -13,
          -16,
          -5,
          -9,
          -10,
          -9,
          -13,
          -10,
          -7,
          -15,
          -15,
          -5,
          -16,
          -8,
          -4,
          -11,
          -9,
          -6,
          -5,
          -13,
          -11,
          -4,
          -5,
          -6,
          -8,
          -6,
          -12,
          -7,
          -8,
          -10,
          -13,
          -8,
          -12,
          -11,
          -9,
          -7,
          -7,
          -5,
          -5,
          -12,
          -7,
          -7,
          -5,
          -11,
          -11,
          -6,
          -8,
          -6,
          -8,
          -5,
          -4,
          -6,
          -8,
          -7,
          -17,
          -15,
          -5,
          -10,
          -10,
          -9,
          -11,
          -8,
          -10,
          -12,
          -7,
          -9,
          -11,
          -6,
          -5,
          -12,
          -8,
          -9,
          -16,
          -4
         ],
         "y0": " ",
         "yaxis": "y"
        },
        {
         "alignmentgroup": "True",
         "hovertemplate": "decade=1980<br>dB=%{y}<extra></extra>",
         "legendgroup": "1980",
         "marker": {
          "color": "#ab63fa"
         },
         "name": "1980",
         "notched": false,
         "offsetgroup": "1980",
         "orientation": "v",
         "showlegend": true,
         "type": "box",
         "x0": " ",
         "xaxis": "x",
         "y": [
          -4,
          -18,
          -6,
          -11,
          -9,
          -6,
          -3,
          -12,
          -7,
          -9,
          -3,
          -8,
          -7,
          -6,
          -9,
          -14,
          -5,
          -6,
          -5,
          -7,
          -12,
          -9,
          -5,
          -9,
          -5,
          -13,
          -3,
          -7,
          -11,
          -6,
          -11,
          -14,
          -8,
          -8,
          -7,
          -9,
          -12,
          -11,
          -8,
          -11,
          -11,
          -7,
          -16,
          -5,
          -12,
          -6,
          -9,
          -11,
          -18,
          -4,
          -11,
          -9,
          -4,
          -12,
          -16,
          -9,
          -13,
          -7,
          -9,
          -12,
          -16,
          -14,
          -7,
          -16,
          -4,
          -6,
          -11,
          -15,
          -17,
          -11,
          -8,
          -8,
          -13,
          -5,
          -12,
          -14,
          -6,
          -6,
          -12,
          -8,
          -9,
          -10,
          -5,
          -8,
          -9,
          -12,
          -7,
          -6,
          -6,
          -14,
          -7,
          -11,
          -12,
          -8,
          -8,
          -6,
          -9,
          -5,
          -17,
          -5,
          -4,
          -5,
          -5,
          -8
         ],
         "y0": " ",
         "yaxis": "y"
        },
        {
         "alignmentgroup": "True",
         "hovertemplate": "decade=1990<br>dB=%{y}<extra></extra>",
         "legendgroup": "1990",
         "marker": {
          "color": "#FFA15A"
         },
         "name": "1990",
         "notched": false,
         "offsetgroup": "1990",
         "orientation": "v",
         "showlegend": true,
         "type": "box",
         "x0": " ",
         "xaxis": "x",
         "y": [
          -4,
          -6,
          -5,
          -10,
          -7,
          -8,
          -7,
          -4,
          -6,
          -3,
          -8,
          -6,
          -5,
          -9,
          -4,
          -9,
          -9,
          -9,
          -9,
          -1,
          -8,
          -8,
          -4,
          -8,
          -5,
          -5,
          -12,
          -9,
          -7,
          -6,
          -4,
          -9,
          -9,
          -8,
          -11,
          -4,
          -8,
          -7,
          -11,
          -7,
          -7,
          -6,
          -10,
          -6,
          -9,
          -11,
          -14,
          -6,
          -7,
          -8,
          -10,
          -7,
          -8,
          -6,
          -5,
          -6,
          -5,
          -9,
          -12,
          -8,
          -7,
          -10,
          -12,
          -6,
          -15,
          -12,
          -5,
          -6,
          -9,
          -6,
          -10,
          -10,
          -5,
          -8,
          -13,
          -7,
          -9,
          -5,
          -9,
          -7,
          -6,
          -6,
          -8,
          -9,
          -9,
          -9,
          -12,
          -7
         ],
         "y0": " ",
         "yaxis": "y"
        },
        {
         "alignmentgroup": "True",
         "hovertemplate": "decade=2000<br>dB=%{y}<extra></extra>",
         "legendgroup": "2000",
         "marker": {
          "color": "#19d3f3"
         },
         "name": "2000",
         "notched": false,
         "offsetgroup": "2000",
         "orientation": "v",
         "showlegend": true,
         "type": "box",
         "x0": " ",
         "xaxis": "x",
         "y": [
          -6,
          -7,
          -4,
          -9,
          -5,
          -8,
          -4,
          -6,
          -3,
          -5,
          -4,
          -5,
          -8,
          -7,
          -4,
          -8,
          -8,
          -8,
          -6,
          -6,
          -3,
          -5,
          -2,
          -6,
          -9,
          -6,
          -5,
          -7,
          -5,
          -8,
          -3,
          -6,
          -3,
          -7,
          -4,
          -5,
          -5,
          -11,
          -5,
          -9,
          -5,
          -6,
          -4,
          -8,
          -9,
          -5,
          -7,
          -6,
          -7,
          -4,
          -5,
          -3,
          -4,
          -4,
          -5,
          -9,
          -3,
          -9,
          -5,
          -6,
          -7,
          -5,
          -6,
          -4,
          -5,
          -4,
          -5,
          -5,
          -6,
          -6,
          -7,
          -8,
          -3,
          -3,
          -6,
          -5,
          -4,
          -5,
          -3,
          -7,
          -3,
          -8,
          -7,
          -5,
          -6,
          -7,
          -6,
          -6,
          -5,
          -6,
          -7,
          -6,
          -8,
          -5,
          -11,
          -4,
          -5,
          -6,
          -7,
          -5
         ],
         "y0": " ",
         "yaxis": "y"
        },
        {
         "alignmentgroup": "True",
         "hovertemplate": "decade=2010<br>dB=%{y}<extra></extra>",
         "legendgroup": "2010",
         "marker": {
          "color": "#FF6692"
         },
         "name": "2010",
         "notched": false,
         "offsetgroup": "2010",
         "orientation": "v",
         "showlegend": true,
         "type": "box",
         "x0": " ",
         "xaxis": "x",
         "y": [
          -11,
          -11,
          -6,
          -6,
          -6,
          -5,
          -4,
          -9,
          -3,
          -5,
          -5,
          -7,
          -7,
          -2,
          -8,
          -4,
          -6,
          -7,
          -6,
          -9,
          -6,
          -4,
          -7,
          -7,
          -5,
          -6,
          -4,
          -8,
          -5,
          -5,
          -13,
          -3,
          -5,
          -5,
          -6,
          -5,
          -6,
          -5,
          -6,
          -9,
          -5,
          -11,
          -5,
          -3,
          -3,
          -4,
          -5,
          -7,
          -4,
          -5,
          -4,
          -10,
          -5,
          -5,
          -6,
          -5,
          -6,
          -5,
          -6,
          -8,
          -4,
          -5,
          -7,
          -6,
          -7,
          -4,
          -6,
          -7,
          -7,
          -6,
          -3,
          -5,
          -6,
          -6,
          -3,
          -5,
          -6,
          -5,
          -7,
          -3,
          -2,
          -3,
          -6,
          -4,
          -5,
          -3,
          -4,
          -3,
          -4,
          -3,
          -6,
          -4,
          -5,
          -6,
          -4,
          -3,
          -4,
          -5,
          -4,
          -4,
          -4
         ],
         "y0": " ",
         "yaxis": "y"
        }
       ],
       "layout": {
        "boxmode": "group",
        "legend": {
         "title": {
          "text": "decade"
         },
         "tracegroupgap": 0
        },
        "margin": {
         "t": 60
        },
        "template": {
         "data": {
          "bar": [
           {
            "error_x": {
             "color": "#2a3f5f"
            },
            "error_y": {
             "color": "#2a3f5f"
            },
            "marker": {
             "line": {
              "color": "#E5ECF6",
              "width": 0.5
             }
            },
            "type": "bar"
           }
          ],
          "barpolar": [
           {
            "marker": {
             "line": {
              "color": "#E5ECF6",
              "width": 0.5
             }
            },
            "type": "barpolar"
           }
          ],
          "carpet": [
           {
            "aaxis": {
             "endlinecolor": "#2a3f5f",
             "gridcolor": "white",
             "linecolor": "white",
             "minorgridcolor": "white",
             "startlinecolor": "#2a3f5f"
            },
            "baxis": {
             "endlinecolor": "#2a3f5f",
             "gridcolor": "white",
             "linecolor": "white",
             "minorgridcolor": "white",
             "startlinecolor": "#2a3f5f"
            },
            "type": "carpet"
           }
          ],
          "choropleth": [
           {
            "colorbar": {
             "outlinewidth": 0,
             "ticks": ""
            },
            "type": "choropleth"
           }
          ],
          "contour": [
           {
            "colorbar": {
             "outlinewidth": 0,
             "ticks": ""
            },
            "colorscale": [
             [
              0,
              "#0d0887"
             ],
             [
              0.1111111111111111,
              "#46039f"
             ],
             [
              0.2222222222222222,
              "#7201a8"
             ],
             [
              0.3333333333333333,
              "#9c179e"
             ],
             [
              0.4444444444444444,
              "#bd3786"
             ],
             [
              0.5555555555555556,
              "#d8576b"
             ],
             [
              0.6666666666666666,
              "#ed7953"
             ],
             [
              0.7777777777777778,
              "#fb9f3a"
             ],
             [
              0.8888888888888888,
              "#fdca26"
             ],
             [
              1,
              "#f0f921"
             ]
            ],
            "type": "contour"
           }
          ],
          "contourcarpet": [
           {
            "colorbar": {
             "outlinewidth": 0,
             "ticks": ""
            },
            "type": "contourcarpet"
           }
          ],
          "heatmap": [
           {
            "colorbar": {
             "outlinewidth": 0,
             "ticks": ""
            },
            "colorscale": [
             [
              0,
              "#0d0887"
             ],
             [
              0.1111111111111111,
              "#46039f"
             ],
             [
              0.2222222222222222,
              "#7201a8"
             ],
             [
              0.3333333333333333,
              "#9c179e"
             ],
             [
              0.4444444444444444,
              "#bd3786"
             ],
             [
              0.5555555555555556,
              "#d8576b"
             ],
             [
              0.6666666666666666,
              "#ed7953"
             ],
             [
              0.7777777777777778,
              "#fb9f3a"
             ],
             [
              0.8888888888888888,
              "#fdca26"
             ],
             [
              1,
              "#f0f921"
             ]
            ],
            "type": "heatmap"
           }
          ],
          "heatmapgl": [
           {
            "colorbar": {
             "outlinewidth": 0,
             "ticks": ""
            },
            "colorscale": [
             [
              0,
              "#0d0887"
             ],
             [
              0.1111111111111111,
              "#46039f"
             ],
             [
              0.2222222222222222,
              "#7201a8"
             ],
             [
              0.3333333333333333,
              "#9c179e"
             ],
             [
              0.4444444444444444,
              "#bd3786"
             ],
             [
              0.5555555555555556,
              "#d8576b"
             ],
             [
              0.6666666666666666,
              "#ed7953"
             ],
             [
              0.7777777777777778,
              "#fb9f3a"
             ],
             [
              0.8888888888888888,
              "#fdca26"
             ],
             [
              1,
              "#f0f921"
             ]
            ],
            "type": "heatmapgl"
           }
          ],
          "histogram": [
           {
            "marker": {
             "colorbar": {
              "outlinewidth": 0,
              "ticks": ""
             }
            },
            "type": "histogram"
           }
          ],
          "histogram2d": [
           {
            "colorbar": {
             "outlinewidth": 0,
             "ticks": ""
            },
            "colorscale": [
             [
              0,
              "#0d0887"
             ],
             [
              0.1111111111111111,
              "#46039f"
             ],
             [
              0.2222222222222222,
              "#7201a8"
             ],
             [
              0.3333333333333333,
              "#9c179e"
             ],
             [
              0.4444444444444444,
              "#bd3786"
             ],
             [
              0.5555555555555556,
              "#d8576b"
             ],
             [
              0.6666666666666666,
              "#ed7953"
             ],
             [
              0.7777777777777778,
              "#fb9f3a"
             ],
             [
              0.8888888888888888,
              "#fdca26"
             ],
             [
              1,
              "#f0f921"
             ]
            ],
            "type": "histogram2d"
           }
          ],
          "histogram2dcontour": [
           {
            "colorbar": {
             "outlinewidth": 0,
             "ticks": ""
            },
            "colorscale": [
             [
              0,
              "#0d0887"
             ],
             [
              0.1111111111111111,
              "#46039f"
             ],
             [
              0.2222222222222222,
              "#7201a8"
             ],
             [
              0.3333333333333333,
              "#9c179e"
             ],
             [
              0.4444444444444444,
              "#bd3786"
             ],
             [
              0.5555555555555556,
              "#d8576b"
             ],
             [
              0.6666666666666666,
              "#ed7953"
             ],
             [
              0.7777777777777778,
              "#fb9f3a"
             ],
             [
              0.8888888888888888,
              "#fdca26"
             ],
             [
              1,
              "#f0f921"
             ]
            ],
            "type": "histogram2dcontour"
           }
          ],
          "mesh3d": [
           {
            "colorbar": {
             "outlinewidth": 0,
             "ticks": ""
            },
            "type": "mesh3d"
           }
          ],
          "parcoords": [
           {
            "line": {
             "colorbar": {
              "outlinewidth": 0,
              "ticks": ""
             }
            },
            "type": "parcoords"
           }
          ],
          "pie": [
           {
            "automargin": true,
            "type": "pie"
           }
          ],
          "scatter": [
           {
            "marker": {
             "colorbar": {
              "outlinewidth": 0,
              "ticks": ""
             }
            },
            "type": "scatter"
           }
          ],
          "scatter3d": [
           {
            "line": {
             "colorbar": {
              "outlinewidth": 0,
              "ticks": ""
             }
            },
            "marker": {
             "colorbar": {
              "outlinewidth": 0,
              "ticks": ""
             }
            },
            "type": "scatter3d"
           }
          ],
          "scattercarpet": [
           {
            "marker": {
             "colorbar": {
              "outlinewidth": 0,
              "ticks": ""
             }
            },
            "type": "scattercarpet"
           }
          ],
          "scattergeo": [
           {
            "marker": {
             "colorbar": {
              "outlinewidth": 0,
              "ticks": ""
             }
            },
            "type": "scattergeo"
           }
          ],
          "scattergl": [
           {
            "marker": {
             "colorbar": {
              "outlinewidth": 0,
              "ticks": ""
             }
            },
            "type": "scattergl"
           }
          ],
          "scattermapbox": [
           {
            "marker": {
             "colorbar": {
              "outlinewidth": 0,
              "ticks": ""
             }
            },
            "type": "scattermapbox"
           }
          ],
          "scatterpolar": [
           {
            "marker": {
             "colorbar": {
              "outlinewidth": 0,
              "ticks": ""
             }
            },
            "type": "scatterpolar"
           }
          ],
          "scatterpolargl": [
           {
            "marker": {
             "colorbar": {
              "outlinewidth": 0,
              "ticks": ""
             }
            },
            "type": "scatterpolargl"
           }
          ],
          "scatterternary": [
           {
            "marker": {
             "colorbar": {
              "outlinewidth": 0,
              "ticks": ""
             }
            },
            "type": "scatterternary"
           }
          ],
          "surface": [
           {
            "colorbar": {
             "outlinewidth": 0,
             "ticks": ""
            },
            "colorscale": [
             [
              0,
              "#0d0887"
             ],
             [
              0.1111111111111111,
              "#46039f"
             ],
             [
              0.2222222222222222,
              "#7201a8"
             ],
             [
              0.3333333333333333,
              "#9c179e"
             ],
             [
              0.4444444444444444,
              "#bd3786"
             ],
             [
              0.5555555555555556,
              "#d8576b"
             ],
             [
              0.6666666666666666,
              "#ed7953"
             ],
             [
              0.7777777777777778,
              "#fb9f3a"
             ],
             [
              0.8888888888888888,
              "#fdca26"
             ],
             [
              1,
              "#f0f921"
             ]
            ],
            "type": "surface"
           }
          ],
          "table": [
           {
            "cells": {
             "fill": {
              "color": "#EBF0F8"
             },
             "line": {
              "color": "white"
             }
            },
            "header": {
             "fill": {
              "color": "#C8D4E3"
             },
             "line": {
              "color": "white"
             }
            },
            "type": "table"
           }
          ]
         },
         "layout": {
          "annotationdefaults": {
           "arrowcolor": "#2a3f5f",
           "arrowhead": 0,
           "arrowwidth": 1
          },
          "autotypenumbers": "strict",
          "coloraxis": {
           "colorbar": {
            "outlinewidth": 0,
            "ticks": ""
           }
          },
          "colorscale": {
           "diverging": [
            [
             0,
             "#8e0152"
            ],
            [
             0.1,
             "#c51b7d"
            ],
            [
             0.2,
             "#de77ae"
            ],
            [
             0.3,
             "#f1b6da"
            ],
            [
             0.4,
             "#fde0ef"
            ],
            [
             0.5,
             "#f7f7f7"
            ],
            [
             0.6,
             "#e6f5d0"
            ],
            [
             0.7,
             "#b8e186"
            ],
            [
             0.8,
             "#7fbc41"
            ],
            [
             0.9,
             "#4d9221"
            ],
            [
             1,
             "#276419"
            ]
           ],
           "sequential": [
            [
             0,
             "#0d0887"
            ],
            [
             0.1111111111111111,
             "#46039f"
            ],
            [
             0.2222222222222222,
             "#7201a8"
            ],
            [
             0.3333333333333333,
             "#9c179e"
            ],
            [
             0.4444444444444444,
             "#bd3786"
            ],
            [
             0.5555555555555556,
             "#d8576b"
            ],
            [
             0.6666666666666666,
             "#ed7953"
            ],
            [
             0.7777777777777778,
             "#fb9f3a"
            ],
            [
             0.8888888888888888,
             "#fdca26"
            ],
            [
             1,
             "#f0f921"
            ]
           ],
           "sequentialminus": [
            [
             0,
             "#0d0887"
            ],
            [
             0.1111111111111111,
             "#46039f"
            ],
            [
             0.2222222222222222,
             "#7201a8"
            ],
            [
             0.3333333333333333,
             "#9c179e"
            ],
            [
             0.4444444444444444,
             "#bd3786"
            ],
            [
             0.5555555555555556,
             "#d8576b"
            ],
            [
             0.6666666666666666,
             "#ed7953"
            ],
            [
             0.7777777777777778,
             "#fb9f3a"
            ],
            [
             0.8888888888888888,
             "#fdca26"
            ],
            [
             1,
             "#f0f921"
            ]
           ]
          },
          "colorway": [
           "#636efa",
           "#EF553B",
           "#00cc96",
           "#ab63fa",
           "#FFA15A",
           "#19d3f3",
           "#FF6692",
           "#B6E880",
           "#FF97FF",
           "#FECB52"
          ],
          "font": {
           "color": "#2a3f5f"
          },
          "geo": {
           "bgcolor": "white",
           "lakecolor": "white",
           "landcolor": "#E5ECF6",
           "showlakes": true,
           "showland": true,
           "subunitcolor": "white"
          },
          "hoverlabel": {
           "align": "left"
          },
          "hovermode": "closest",
          "mapbox": {
           "style": "light"
          },
          "paper_bgcolor": "white",
          "plot_bgcolor": "#E5ECF6",
          "polar": {
           "angularaxis": {
            "gridcolor": "white",
            "linecolor": "white",
            "ticks": ""
           },
           "bgcolor": "#E5ECF6",
           "radialaxis": {
            "gridcolor": "white",
            "linecolor": "white",
            "ticks": ""
           }
          },
          "scene": {
           "xaxis": {
            "backgroundcolor": "#E5ECF6",
            "gridcolor": "white",
            "gridwidth": 2,
            "linecolor": "white",
            "showbackground": true,
            "ticks": "",
            "zerolinecolor": "white"
           },
           "yaxis": {
            "backgroundcolor": "#E5ECF6",
            "gridcolor": "white",
            "gridwidth": 2,
            "linecolor": "white",
            "showbackground": true,
            "ticks": "",
            "zerolinecolor": "white"
           },
           "zaxis": {
            "backgroundcolor": "#E5ECF6",
            "gridcolor": "white",
            "gridwidth": 2,
            "linecolor": "white",
            "showbackground": true,
            "ticks": "",
            "zerolinecolor": "white"
           }
          },
          "shapedefaults": {
           "line": {
            "color": "#2a3f5f"
           }
          },
          "ternary": {
           "aaxis": {
            "gridcolor": "white",
            "linecolor": "white",
            "ticks": ""
           },
           "baxis": {
            "gridcolor": "white",
            "linecolor": "white",
            "ticks": ""
           },
           "bgcolor": "#E5ECF6",
           "caxis": {
            "gridcolor": "white",
            "linecolor": "white",
            "ticks": ""
           }
          },
          "title": {
           "x": 0.05
          },
          "xaxis": {
           "automargin": true,
           "gridcolor": "white",
           "linecolor": "white",
           "ticks": "",
           "title": {
            "standoff": 15
           },
           "zerolinecolor": "white",
           "zerolinewidth": 2
          },
          "yaxis": {
           "automargin": true,
           "gridcolor": "white",
           "linecolor": "white",
           "ticks": "",
           "title": {
            "standoff": 15
           },
           "zerolinecolor": "white",
           "zerolinewidth": 2
          }
         }
        },
        "xaxis": {
         "anchor": "y",
         "domain": [
          0,
          1
         ]
        },
        "yaxis": {
         "anchor": "x",
         "domain": [
          0,
          1
         ],
         "title": {
          "text": "dB"
         }
        }
       }
      }
     },
     "metadata": {},
     "output_type": "display_data"
    },
    {
     "name": "stdout",
     "output_type": "stream",
     "text": [
      "Box plot for live per decade\n"
     ]
    },
    {
     "data": {
      "application/vnd.plotly.v1+json": {
       "config": {
        "plotlyServerURL": "https://plot.ly"
       },
       "data": [
        {
         "alignmentgroup": "True",
         "hovertemplate": "decade=1950<br>live=%{y}<extra></extra>",
         "legendgroup": "1950",
         "marker": {
          "color": "#636efa"
         },
         "name": "1950",
         "notched": false,
         "offsetgroup": "1950",
         "orientation": "v",
         "showlegend": true,
         "type": "box",
         "x0": " ",
         "xaxis": "x",
         "y": [
          10,
          72,
          34,
          12,
          13,
          11,
          27,
          12,
          11,
          2,
          10,
          9,
          10,
          27,
          23,
          31,
          13,
          8,
          34,
          11,
          18,
          40,
          10,
          11,
          9,
          21,
          13,
          9,
          10,
          10,
          15,
          12,
          41,
          8,
          12,
          28,
          7,
          11,
          10,
          13,
          20,
          5,
          13,
          17,
          18,
          9,
          9,
          12,
          24,
          16,
          15,
          25,
          15,
          20,
          27,
          19,
          13,
          27,
          60,
          18,
          13,
          14,
          35,
          9,
          36,
          16,
          11,
          34,
          10,
          13,
          25,
          25,
          14
         ],
         "y0": " ",
         "yaxis": "y"
        },
        {
         "alignmentgroup": "True",
         "hovertemplate": "decade=1960<br>live=%{y}<extra></extra>",
         "legendgroup": "1960",
         "marker": {
          "color": "#EF553B"
         },
         "name": "1960",
         "notched": false,
         "offsetgroup": "1960",
         "orientation": "v",
         "showlegend": true,
         "type": "box",
         "x0": " ",
         "xaxis": "x",
         "y": [
          18,
          9,
          24,
          9,
          11,
          6,
          31,
          4,
          10,
          28,
          12,
          11,
          26,
          8,
          18,
          9,
          6,
          20,
          17,
          19,
          5,
          10,
          8,
          19,
          12,
          27,
          11,
          14,
          57,
          9,
          13,
          6,
          14,
          14,
          14,
          12,
          6,
          10,
          51,
          17,
          11,
          16,
          5,
          31,
          26,
          24,
          8,
          76,
          42,
          11,
          24,
          14,
          49,
          12,
          16,
          23,
          32,
          22,
          35,
          9,
          9,
          12,
          10,
          17,
          31,
          24,
          15,
          15,
          9,
          13,
          7,
          38,
          45,
          21,
          90,
          5,
          19,
          22,
          13,
          6,
          17,
          8,
          16,
          27,
          4,
          7,
          8,
          14,
          50,
          9,
          19,
          25,
          11,
          20,
          17,
          10,
          73
         ],
         "y0": " ",
         "yaxis": "y"
        },
        {
         "alignmentgroup": "True",
         "hovertemplate": "decade=1970<br>live=%{y}<extra></extra>",
         "legendgroup": "1970",
         "marker": {
          "color": "#00cc96"
         },
         "name": "1970",
         "notched": false,
         "offsetgroup": "1970",
         "orientation": "v",
         "showlegend": true,
         "type": "box",
         "x0": " ",
         "xaxis": "x",
         "y": [
          30,
          16,
          78,
          9,
          26,
          11,
          25,
          15,
          13,
          7,
          35,
          9,
          13,
          12,
          6,
          23,
          5,
          7,
          13,
          11,
          16,
          12,
          10,
          28,
          10,
          21,
          13,
          54,
          47,
          5,
          16,
          25,
          12,
          12,
          11,
          14,
          10,
          32,
          29,
          14,
          22,
          11,
          11,
          34,
          10,
          11,
          4,
          12,
          9,
          25,
          9,
          56,
          11,
          8,
          50,
          13,
          12,
          17,
          15,
          60,
          20,
          8,
          24,
          35,
          7,
          24,
          33,
          27,
          26,
          13,
          25,
          50,
          38,
          12,
          10,
          29,
          27,
          16,
          10,
          11,
          21,
          8,
          33,
          28,
          14,
          25,
          41,
          14,
          24,
          5,
          7,
          30,
          19,
          23,
          13,
          8,
          12,
          13,
          17,
          20,
          28,
          12,
          18,
          9
         ],
         "y0": " ",
         "yaxis": "y"
        },
        {
         "alignmentgroup": "True",
         "hovertemplate": "decade=1980<br>live=%{y}<extra></extra>",
         "legendgroup": "1980",
         "marker": {
          "color": "#ab63fa"
         },
         "name": "1980",
         "notched": false,
         "offsetgroup": "1980",
         "orientation": "v",
         "showlegend": true,
         "type": "box",
         "x0": " ",
         "xaxis": "x",
         "y": [
          29,
          5,
          16,
          9,
          9,
          7,
          34,
          10,
          14,
          18,
          60,
          19,
          12,
          63,
          9,
          10,
          11,
          10,
          28,
          13,
          4,
          12,
          7,
          24,
          66,
          4,
          10,
          9,
          12,
          21,
          6,
          18,
          31,
          20,
          9,
          22,
          16,
          8,
          5,
          12,
          18,
          36,
          9,
          11,
          11,
          20,
          7,
          30,
          26,
          12,
          22,
          10,
          8,
          7,
          11,
          14,
          6,
          6,
          8,
          7,
          13,
          35,
          50,
          7,
          15,
          5,
          11,
          34,
          8,
          8,
          6,
          10,
          6,
          4,
          8,
          10,
          70,
          8,
          21,
          14,
          2,
          14,
          23,
          35,
          16,
          14,
          8,
          17,
          32,
          7,
          12,
          31,
          14,
          60,
          14,
          9,
          5,
          9,
          10,
          14,
          10,
          4,
          22,
          11
         ],
         "y0": " ",
         "yaxis": "y"
        },
        {
         "alignmentgroup": "True",
         "hovertemplate": "decade=1990<br>live=%{y}<extra></extra>",
         "legendgroup": "1990",
         "marker": {
          "color": "#FFA15A"
         },
         "name": "1990",
         "notched": false,
         "offsetgroup": "1990",
         "orientation": "v",
         "showlegend": true,
         "type": "box",
         "x0": " ",
         "xaxis": "x",
         "y": [
          7,
          16,
          31,
          10,
          14,
          13,
          3,
          27,
          21,
          15,
          25,
          10,
          16,
          12,
          10,
          29,
          12,
          6,
          59,
          16,
          12,
          8,
          52,
          12,
          13,
          35,
          10,
          24,
          9,
          4,
          29,
          12,
          13,
          36,
          14,
          13,
          10,
          32,
          7,
          17,
          22,
          37,
          13,
          29,
          14,
          39,
          22,
          22,
          7,
          19,
          14,
          19,
          14,
          9,
          15,
          30,
          6,
          9,
          3,
          19,
          10,
          5,
          9,
          4,
          11,
          3,
          11,
          7,
          12,
          13,
          10,
          93,
          32,
          25,
          7,
          19,
          6,
          5,
          19,
          30,
          40,
          8,
          16,
          37,
          31,
          5,
          12,
          10
         ],
         "y0": " ",
         "yaxis": "y"
        },
        {
         "alignmentgroup": "True",
         "hovertemplate": "decade=2000<br>live=%{y}<extra></extra>",
         "legendgroup": "2000",
         "marker": {
          "color": "#19d3f3"
         },
         "name": "2000",
         "notched": false,
         "offsetgroup": "2000",
         "orientation": "v",
         "showlegend": true,
         "type": "box",
         "x0": " ",
         "xaxis": "x",
         "y": [
          21,
          11,
          64,
          11,
          4,
          41,
          5,
          14,
          7,
          4,
          12,
          9,
          38,
          12,
          4,
          19,
          9,
          20,
          51,
          6,
          7,
          9,
          5,
          8,
          12,
          5,
          34,
          3,
          7,
          12,
          13,
          17,
          21,
          12,
          67,
          9,
          14,
          4,
          9,
          7,
          6,
          12,
          8,
          10,
          19,
          25,
          23,
          10,
          84,
          7,
          11,
          75,
          9,
          55,
          10,
          14,
          34,
          31,
          7,
          10,
          10,
          8,
          15,
          35,
          30,
          7,
          8,
          29,
          13,
          6,
          4,
          11,
          3,
          11,
          49,
          11,
          7,
          37,
          7,
          28,
          17,
          13,
          11,
          20,
          8,
          12,
          11,
          8,
          69,
          5,
          24,
          24,
          32,
          23,
          3,
          64,
          17,
          10,
          7,
          11
         ],
         "y0": " ",
         "yaxis": "y"
        },
        {
         "alignmentgroup": "True",
         "hovertemplate": "decade=2010<br>live=%{y}<extra></extra>",
         "legendgroup": "2010",
         "marker": {
          "color": "#FF6692"
         },
         "name": "2010",
         "notched": false,
         "offsetgroup": "2010",
         "orientation": "v",
         "showlegend": true,
         "type": "box",
         "x0": " ",
         "xaxis": "x",
         "y": [
          10,
          9,
          11,
          8,
          13,
          12,
          7,
          55,
          8,
          15,
          20,
          10,
          14,
          13,
          11,
          25,
          40,
          14,
          29,
          10,
          15,
          11,
          16,
          14,
          13,
          8,
          8,
          26,
          12,
          14,
          10,
          17,
          25,
          5,
          45,
          11,
          12,
          35,
          13,
          19,
          11,
          14,
          10,
          8,
          30,
          20,
          12,
          9,
          12,
          29,
          9,
          8,
          12,
          14,
          12,
          16,
          69,
          29,
          5,
          33,
          21,
          30,
          9,
          27,
          9,
          4,
          29,
          9,
          9,
          11,
          25,
          11,
          10,
          69,
          36,
          10,
          23,
          8,
          11,
          7,
          20,
          12,
          32,
          10,
          9,
          82,
          33,
          26,
          5,
          26,
          5,
          16,
          26,
          13,
          16,
          27,
          3,
          24,
          8,
          7,
          8
         ],
         "y0": " ",
         "yaxis": "y"
        }
       ],
       "layout": {
        "boxmode": "group",
        "legend": {
         "title": {
          "text": "decade"
         },
         "tracegroupgap": 0
        },
        "margin": {
         "t": 60
        },
        "template": {
         "data": {
          "bar": [
           {
            "error_x": {
             "color": "#2a3f5f"
            },
            "error_y": {
             "color": "#2a3f5f"
            },
            "marker": {
             "line": {
              "color": "#E5ECF6",
              "width": 0.5
             }
            },
            "type": "bar"
           }
          ],
          "barpolar": [
           {
            "marker": {
             "line": {
              "color": "#E5ECF6",
              "width": 0.5
             }
            },
            "type": "barpolar"
           }
          ],
          "carpet": [
           {
            "aaxis": {
             "endlinecolor": "#2a3f5f",
             "gridcolor": "white",
             "linecolor": "white",
             "minorgridcolor": "white",
             "startlinecolor": "#2a3f5f"
            },
            "baxis": {
             "endlinecolor": "#2a3f5f",
             "gridcolor": "white",
             "linecolor": "white",
             "minorgridcolor": "white",
             "startlinecolor": "#2a3f5f"
            },
            "type": "carpet"
           }
          ],
          "choropleth": [
           {
            "colorbar": {
             "outlinewidth": 0,
             "ticks": ""
            },
            "type": "choropleth"
           }
          ],
          "contour": [
           {
            "colorbar": {
             "outlinewidth": 0,
             "ticks": ""
            },
            "colorscale": [
             [
              0,
              "#0d0887"
             ],
             [
              0.1111111111111111,
              "#46039f"
             ],
             [
              0.2222222222222222,
              "#7201a8"
             ],
             [
              0.3333333333333333,
              "#9c179e"
             ],
             [
              0.4444444444444444,
              "#bd3786"
             ],
             [
              0.5555555555555556,
              "#d8576b"
             ],
             [
              0.6666666666666666,
              "#ed7953"
             ],
             [
              0.7777777777777778,
              "#fb9f3a"
             ],
             [
              0.8888888888888888,
              "#fdca26"
             ],
             [
              1,
              "#f0f921"
             ]
            ],
            "type": "contour"
           }
          ],
          "contourcarpet": [
           {
            "colorbar": {
             "outlinewidth": 0,
             "ticks": ""
            },
            "type": "contourcarpet"
           }
          ],
          "heatmap": [
           {
            "colorbar": {
             "outlinewidth": 0,
             "ticks": ""
            },
            "colorscale": [
             [
              0,
              "#0d0887"
             ],
             [
              0.1111111111111111,
              "#46039f"
             ],
             [
              0.2222222222222222,
              "#7201a8"
             ],
             [
              0.3333333333333333,
              "#9c179e"
             ],
             [
              0.4444444444444444,
              "#bd3786"
             ],
             [
              0.5555555555555556,
              "#d8576b"
             ],
             [
              0.6666666666666666,
              "#ed7953"
             ],
             [
              0.7777777777777778,
              "#fb9f3a"
             ],
             [
              0.8888888888888888,
              "#fdca26"
             ],
             [
              1,
              "#f0f921"
             ]
            ],
            "type": "heatmap"
           }
          ],
          "heatmapgl": [
           {
            "colorbar": {
             "outlinewidth": 0,
             "ticks": ""
            },
            "colorscale": [
             [
              0,
              "#0d0887"
             ],
             [
              0.1111111111111111,
              "#46039f"
             ],
             [
              0.2222222222222222,
              "#7201a8"
             ],
             [
              0.3333333333333333,
              "#9c179e"
             ],
             [
              0.4444444444444444,
              "#bd3786"
             ],
             [
              0.5555555555555556,
              "#d8576b"
             ],
             [
              0.6666666666666666,
              "#ed7953"
             ],
             [
              0.7777777777777778,
              "#fb9f3a"
             ],
             [
              0.8888888888888888,
              "#fdca26"
             ],
             [
              1,
              "#f0f921"
             ]
            ],
            "type": "heatmapgl"
           }
          ],
          "histogram": [
           {
            "marker": {
             "colorbar": {
              "outlinewidth": 0,
              "ticks": ""
             }
            },
            "type": "histogram"
           }
          ],
          "histogram2d": [
           {
            "colorbar": {
             "outlinewidth": 0,
             "ticks": ""
            },
            "colorscale": [
             [
              0,
              "#0d0887"
             ],
             [
              0.1111111111111111,
              "#46039f"
             ],
             [
              0.2222222222222222,
              "#7201a8"
             ],
             [
              0.3333333333333333,
              "#9c179e"
             ],
             [
              0.4444444444444444,
              "#bd3786"
             ],
             [
              0.5555555555555556,
              "#d8576b"
             ],
             [
              0.6666666666666666,
              "#ed7953"
             ],
             [
              0.7777777777777778,
              "#fb9f3a"
             ],
             [
              0.8888888888888888,
              "#fdca26"
             ],
             [
              1,
              "#f0f921"
             ]
            ],
            "type": "histogram2d"
           }
          ],
          "histogram2dcontour": [
           {
            "colorbar": {
             "outlinewidth": 0,
             "ticks": ""
            },
            "colorscale": [
             [
              0,
              "#0d0887"
             ],
             [
              0.1111111111111111,
              "#46039f"
             ],
             [
              0.2222222222222222,
              "#7201a8"
             ],
             [
              0.3333333333333333,
              "#9c179e"
             ],
             [
              0.4444444444444444,
              "#bd3786"
             ],
             [
              0.5555555555555556,
              "#d8576b"
             ],
             [
              0.6666666666666666,
              "#ed7953"
             ],
             [
              0.7777777777777778,
              "#fb9f3a"
             ],
             [
              0.8888888888888888,
              "#fdca26"
             ],
             [
              1,
              "#f0f921"
             ]
            ],
            "type": "histogram2dcontour"
           }
          ],
          "mesh3d": [
           {
            "colorbar": {
             "outlinewidth": 0,
             "ticks": ""
            },
            "type": "mesh3d"
           }
          ],
          "parcoords": [
           {
            "line": {
             "colorbar": {
              "outlinewidth": 0,
              "ticks": ""
             }
            },
            "type": "parcoords"
           }
          ],
          "pie": [
           {
            "automargin": true,
            "type": "pie"
           }
          ],
          "scatter": [
           {
            "marker": {
             "colorbar": {
              "outlinewidth": 0,
              "ticks": ""
             }
            },
            "type": "scatter"
           }
          ],
          "scatter3d": [
           {
            "line": {
             "colorbar": {
              "outlinewidth": 0,
              "ticks": ""
             }
            },
            "marker": {
             "colorbar": {
              "outlinewidth": 0,
              "ticks": ""
             }
            },
            "type": "scatter3d"
           }
          ],
          "scattercarpet": [
           {
            "marker": {
             "colorbar": {
              "outlinewidth": 0,
              "ticks": ""
             }
            },
            "type": "scattercarpet"
           }
          ],
          "scattergeo": [
           {
            "marker": {
             "colorbar": {
              "outlinewidth": 0,
              "ticks": ""
             }
            },
            "type": "scattergeo"
           }
          ],
          "scattergl": [
           {
            "marker": {
             "colorbar": {
              "outlinewidth": 0,
              "ticks": ""
             }
            },
            "type": "scattergl"
           }
          ],
          "scattermapbox": [
           {
            "marker": {
             "colorbar": {
              "outlinewidth": 0,
              "ticks": ""
             }
            },
            "type": "scattermapbox"
           }
          ],
          "scatterpolar": [
           {
            "marker": {
             "colorbar": {
              "outlinewidth": 0,
              "ticks": ""
             }
            },
            "type": "scatterpolar"
           }
          ],
          "scatterpolargl": [
           {
            "marker": {
             "colorbar": {
              "outlinewidth": 0,
              "ticks": ""
             }
            },
            "type": "scatterpolargl"
           }
          ],
          "scatterternary": [
           {
            "marker": {
             "colorbar": {
              "outlinewidth": 0,
              "ticks": ""
             }
            },
            "type": "scatterternary"
           }
          ],
          "surface": [
           {
            "colorbar": {
             "outlinewidth": 0,
             "ticks": ""
            },
            "colorscale": [
             [
              0,
              "#0d0887"
             ],
             [
              0.1111111111111111,
              "#46039f"
             ],
             [
              0.2222222222222222,
              "#7201a8"
             ],
             [
              0.3333333333333333,
              "#9c179e"
             ],
             [
              0.4444444444444444,
              "#bd3786"
             ],
             [
              0.5555555555555556,
              "#d8576b"
             ],
             [
              0.6666666666666666,
              "#ed7953"
             ],
             [
              0.7777777777777778,
              "#fb9f3a"
             ],
             [
              0.8888888888888888,
              "#fdca26"
             ],
             [
              1,
              "#f0f921"
             ]
            ],
            "type": "surface"
           }
          ],
          "table": [
           {
            "cells": {
             "fill": {
              "color": "#EBF0F8"
             },
             "line": {
              "color": "white"
             }
            },
            "header": {
             "fill": {
              "color": "#C8D4E3"
             },
             "line": {
              "color": "white"
             }
            },
            "type": "table"
           }
          ]
         },
         "layout": {
          "annotationdefaults": {
           "arrowcolor": "#2a3f5f",
           "arrowhead": 0,
           "arrowwidth": 1
          },
          "autotypenumbers": "strict",
          "coloraxis": {
           "colorbar": {
            "outlinewidth": 0,
            "ticks": ""
           }
          },
          "colorscale": {
           "diverging": [
            [
             0,
             "#8e0152"
            ],
            [
             0.1,
             "#c51b7d"
            ],
            [
             0.2,
             "#de77ae"
            ],
            [
             0.3,
             "#f1b6da"
            ],
            [
             0.4,
             "#fde0ef"
            ],
            [
             0.5,
             "#f7f7f7"
            ],
            [
             0.6,
             "#e6f5d0"
            ],
            [
             0.7,
             "#b8e186"
            ],
            [
             0.8,
             "#7fbc41"
            ],
            [
             0.9,
             "#4d9221"
            ],
            [
             1,
             "#276419"
            ]
           ],
           "sequential": [
            [
             0,
             "#0d0887"
            ],
            [
             0.1111111111111111,
             "#46039f"
            ],
            [
             0.2222222222222222,
             "#7201a8"
            ],
            [
             0.3333333333333333,
             "#9c179e"
            ],
            [
             0.4444444444444444,
             "#bd3786"
            ],
            [
             0.5555555555555556,
             "#d8576b"
            ],
            [
             0.6666666666666666,
             "#ed7953"
            ],
            [
             0.7777777777777778,
             "#fb9f3a"
            ],
            [
             0.8888888888888888,
             "#fdca26"
            ],
            [
             1,
             "#f0f921"
            ]
           ],
           "sequentialminus": [
            [
             0,
             "#0d0887"
            ],
            [
             0.1111111111111111,
             "#46039f"
            ],
            [
             0.2222222222222222,
             "#7201a8"
            ],
            [
             0.3333333333333333,
             "#9c179e"
            ],
            [
             0.4444444444444444,
             "#bd3786"
            ],
            [
             0.5555555555555556,
             "#d8576b"
            ],
            [
             0.6666666666666666,
             "#ed7953"
            ],
            [
             0.7777777777777778,
             "#fb9f3a"
            ],
            [
             0.8888888888888888,
             "#fdca26"
            ],
            [
             1,
             "#f0f921"
            ]
           ]
          },
          "colorway": [
           "#636efa",
           "#EF553B",
           "#00cc96",
           "#ab63fa",
           "#FFA15A",
           "#19d3f3",
           "#FF6692",
           "#B6E880",
           "#FF97FF",
           "#FECB52"
          ],
          "font": {
           "color": "#2a3f5f"
          },
          "geo": {
           "bgcolor": "white",
           "lakecolor": "white",
           "landcolor": "#E5ECF6",
           "showlakes": true,
           "showland": true,
           "subunitcolor": "white"
          },
          "hoverlabel": {
           "align": "left"
          },
          "hovermode": "closest",
          "mapbox": {
           "style": "light"
          },
          "paper_bgcolor": "white",
          "plot_bgcolor": "#E5ECF6",
          "polar": {
           "angularaxis": {
            "gridcolor": "white",
            "linecolor": "white",
            "ticks": ""
           },
           "bgcolor": "#E5ECF6",
           "radialaxis": {
            "gridcolor": "white",
            "linecolor": "white",
            "ticks": ""
           }
          },
          "scene": {
           "xaxis": {
            "backgroundcolor": "#E5ECF6",
            "gridcolor": "white",
            "gridwidth": 2,
            "linecolor": "white",
            "showbackground": true,
            "ticks": "",
            "zerolinecolor": "white"
           },
           "yaxis": {
            "backgroundcolor": "#E5ECF6",
            "gridcolor": "white",
            "gridwidth": 2,
            "linecolor": "white",
            "showbackground": true,
            "ticks": "",
            "zerolinecolor": "white"
           },
           "zaxis": {
            "backgroundcolor": "#E5ECF6",
            "gridcolor": "white",
            "gridwidth": 2,
            "linecolor": "white",
            "showbackground": true,
            "ticks": "",
            "zerolinecolor": "white"
           }
          },
          "shapedefaults": {
           "line": {
            "color": "#2a3f5f"
           }
          },
          "ternary": {
           "aaxis": {
            "gridcolor": "white",
            "linecolor": "white",
            "ticks": ""
           },
           "baxis": {
            "gridcolor": "white",
            "linecolor": "white",
            "ticks": ""
           },
           "bgcolor": "#E5ECF6",
           "caxis": {
            "gridcolor": "white",
            "linecolor": "white",
            "ticks": ""
           }
          },
          "title": {
           "x": 0.05
          },
          "xaxis": {
           "automargin": true,
           "gridcolor": "white",
           "linecolor": "white",
           "ticks": "",
           "title": {
            "standoff": 15
           },
           "zerolinecolor": "white",
           "zerolinewidth": 2
          },
          "yaxis": {
           "automargin": true,
           "gridcolor": "white",
           "linecolor": "white",
           "ticks": "",
           "title": {
            "standoff": 15
           },
           "zerolinecolor": "white",
           "zerolinewidth": 2
          }
         }
        },
        "xaxis": {
         "anchor": "y",
         "domain": [
          0,
          1
         ]
        },
        "yaxis": {
         "anchor": "x",
         "domain": [
          0,
          1
         ],
         "title": {
          "text": "live"
         }
        }
       }
      }
     },
     "metadata": {},
     "output_type": "display_data"
    },
    {
     "name": "stdout",
     "output_type": "stream",
     "text": [
      "Box plot for val per decade\n"
     ]
    },
    {
     "data": {
      "application/vnd.plotly.v1+json": {
       "config": {
        "plotlyServerURL": "https://plot.ly"
       },
       "data": [
        {
         "alignmentgroup": "True",
         "hovertemplate": "decade=1950<br>val=%{y}<extra></extra>",
         "legendgroup": "1950",
         "marker": {
          "color": "#636efa"
         },
         "name": "1950",
         "notched": false,
         "offsetgroup": "1950",
         "orientation": "v",
         "showlegend": true,
         "type": "box",
         "x0": " ",
         "xaxis": "x",
         "y": [
          47,
          78,
          40,
          66,
          62,
          57,
          54,
          86,
          21,
          96,
          30,
          60,
          33,
          91,
          56,
          65,
          68,
          50,
          94,
          34,
          77,
          79,
          16,
          20,
          47,
          99,
          28,
          86,
          90,
          55,
          70,
          29,
          54,
          58,
          36,
          30,
          78,
          47,
          96,
          39,
          23,
          90,
          47,
          73,
          46,
          53,
          43,
          19,
          85,
          50,
          32,
          29,
          96,
          14,
          72,
          82,
          39,
          10,
          96,
          86,
          56,
          26,
          89,
          68,
          59,
          63,
          15,
          80,
          73,
          69,
          86,
          28,
          85
         ],
         "y0": " ",
         "yaxis": "y"
        },
        {
         "alignmentgroup": "True",
         "hovertemplate": "decade=1960<br>val=%{y}<extra></extra>",
         "legendgroup": "1960",
         "marker": {
          "color": "#EF553B"
         },
         "name": "1960",
         "notched": false,
         "offsetgroup": "1960",
         "orientation": "v",
         "showlegend": true,
         "type": "box",
         "x0": " ",
         "xaxis": "x",
         "y": [
          39,
          19,
          58,
          32,
          34,
          37,
          87,
          46,
          47,
          85,
          23,
          97,
          47,
          66,
          97,
          67,
          49,
          30,
          42,
          65,
          70,
          72,
          81,
          54,
          66,
          64,
          84,
          67,
          60,
          51,
          29,
          92,
          61,
          33,
          89,
          61,
          89,
          36,
          45,
          95,
          22,
          78,
          42,
          52,
          43,
          58,
          56,
          70,
          85,
          80,
          43,
          40,
          81,
          56,
          96,
          96,
          21,
          29,
          46,
          49,
          71,
          55,
          9,
          35,
          39,
          53,
          57,
          94,
          21,
          70,
          61,
          63,
          44,
          34,
          48,
          12,
          96,
          65,
          6,
          48,
          83,
          68,
          48,
          32,
          96,
          50,
          10,
          78,
          77,
          79,
          44,
          74,
          75,
          20,
          96,
          75,
          72
         ],
         "y0": " ",
         "yaxis": "y"
        },
        {
         "alignmentgroup": "True",
         "hovertemplate": "decade=1970<br>val=%{y}<extra></extra>",
         "legendgroup": "1970",
         "marker": {
          "color": "#00cc96"
         },
         "name": "1970",
         "notched": false,
         "offsetgroup": "1970",
         "orientation": "v",
         "showlegend": true,
         "type": "box",
         "x0": " ",
         "xaxis": "x",
         "y": [
          22,
          42,
          61,
          34,
          48,
          41,
          48,
          28,
          79,
          87,
          62,
          17,
          67,
          18,
          78,
          33,
          90,
          91,
          74,
          81,
          54,
          26,
          40,
          46,
          82,
          77,
          83,
          55,
          83,
          88,
          85,
          72,
          73,
          63,
          71,
          32,
          45,
          19,
          46,
          95,
          76,
          75,
          95,
          42,
          96,
          30,
          56,
          93,
          65,
          7,
          19,
          68,
          58,
          23,
          78,
          80,
          71,
          90,
          40,
          94,
          11,
          82,
          96,
          92,
          96,
          91,
          95,
          59,
          56,
          17,
          98,
          56,
          38,
          56,
          31,
          58,
          96,
          57,
          85,
          71,
          83,
          85,
          71,
          46,
          20,
          78,
          68,
          50,
          74,
          51,
          95,
          96,
          39,
          96,
          69,
          94,
          63,
          61,
          67,
          96,
          69,
          68,
          30,
          44
         ],
         "y0": " ",
         "yaxis": "y"
        },
        {
         "alignmentgroup": "True",
         "hovertemplate": "decade=1980<br>val=%{y}<extra></extra>",
         "legendgroup": "1980",
         "marker": {
          "color": "#ab63fa"
         },
         "name": "1980",
         "notched": false,
         "offsetgroup": "1980",
         "orientation": "v",
         "showlegend": true,
         "type": "box",
         "x0": " ",
         "xaxis": "x",
         "y": [
          80,
          73,
          75,
          83,
          87,
          77,
          81,
          54,
          77,
          94,
          79,
          66,
          34,
          81,
          55,
          13,
          34,
          58,
          57,
          11,
          84,
          55,
          46,
          33,
          90,
          49,
          98,
          52,
          94,
          82,
          51,
          14,
          31,
          96,
          40,
          84,
          78,
          26,
          79,
          78,
          52,
          14,
          25,
          97,
          23,
          66,
          75,
          91,
          41,
          31,
          47,
          34,
          82,
          25,
          95,
          83,
          20,
          93,
          72,
          24,
          33,
          85,
          92,
          17,
          88,
          79,
          17,
          24,
          85,
          73,
          95,
          64,
          39,
          42,
          96,
          85,
          61,
          93,
          82,
          90,
          97,
          34,
          50,
          88,
          67,
          70,
          94,
          40,
          67,
          38,
          53,
          68,
          71,
          93,
          94,
          27,
          73,
          70,
          40,
          51,
          91,
          75,
          93,
          96
         ],
         "y0": " ",
         "yaxis": "y"
        },
        {
         "alignmentgroup": "True",
         "hovertemplate": "decade=1990<br>val=%{y}<extra></extra>",
         "legendgroup": "1990",
         "marker": {
          "color": "#FFA15A"
         },
         "name": "1990",
         "notched": false,
         "offsetgroup": "1990",
         "orientation": "v",
         "showlegend": true,
         "type": "box",
         "x0": " ",
         "xaxis": "x",
         "y": [
          59,
          48,
          65,
          18,
          76,
          58,
          97,
          61,
          16,
          33,
          49,
          24,
          61,
          97,
          64,
          76,
          18,
          53,
          93,
          62,
          80,
          59,
          69,
          39,
          22,
          91,
          80,
          25,
          45,
          89,
          63,
          54,
          59,
          81,
          71,
          75,
          10,
          76,
          57,
          53,
          21,
          88,
          12,
          64,
          53,
          77,
          57,
          32,
          53,
          44,
          13,
          84,
          27,
          83,
          79,
          86,
          88,
          17,
          69,
          67,
          93,
          60,
          71,
          74,
          14,
          49,
          62,
          43,
          84,
          60,
          12,
          30,
          57,
          33,
          27,
          95,
          76,
          54,
          77,
          23,
          42,
          56,
          25,
          53,
          57,
          72,
          62,
          15
         ],
         "y0": " ",
         "yaxis": "y"
        },
        {
         "alignmentgroup": "True",
         "hovertemplate": "decade=2000<br>val=%{y}<extra></extra>",
         "legendgroup": "2000",
         "marker": {
          "color": "#19d3f3"
         },
         "name": "2000",
         "notched": false,
         "offsetgroup": "2000",
         "orientation": "v",
         "showlegend": true,
         "type": "box",
         "x0": " ",
         "xaxis": "x",
         "y": [
          40,
          21,
          24,
          12,
          57,
          49,
          76,
          30,
          51,
          58,
          63,
          47,
          76,
          46,
          82,
          58,
          57,
          61,
          61,
          47,
          78,
          43,
          80,
          75,
          56,
          54,
          6,
          68,
          82,
          14,
          83,
          20,
          48,
          23,
          77,
          24,
          40,
          84,
          93,
          71,
          33,
          75,
          31,
          50,
          77,
          73,
          71,
          83,
          45,
          61,
          92,
          74,
          57,
          80,
          73,
          45,
          69,
          35,
          49,
          8,
          89,
          32,
          20,
          85,
          84,
          86,
          49,
          63,
          40,
          87,
          82,
          11,
          64,
          72,
          59,
          84,
          44,
          49,
          70,
          63,
          93,
          83,
          38,
          50,
          65,
          29,
          15,
          80,
          65,
          89,
          75,
          80,
          28,
          29,
          52,
          49,
          65,
          80,
          66,
          51
         ],
         "y0": " ",
         "yaxis": "y"
        },
        {
         "alignmentgroup": "True",
         "hovertemplate": "decade=2010<br>val=%{y}<extra></extra>",
         "legendgroup": "2010",
         "marker": {
          "color": "#FF6692"
         },
         "name": "2010",
         "notched": false,
         "offsetgroup": "2010",
         "orientation": "v",
         "showlegend": true,
         "type": "box",
         "x0": " ",
         "xaxis": "x",
         "y": [
          56,
          33,
          64,
          75,
          13,
          47,
          93,
          36,
          59,
          29,
          29,
          42,
          49,
          53,
          46,
          49,
          35,
          14,
          35,
          24,
          61,
          75,
          45,
          24,
          80,
          51,
          97,
          20,
          56,
          16,
          18,
          29,
          65,
          30,
          17,
          16,
          29,
          56,
          34,
          37,
          36,
          27,
          10,
          65,
          53,
          61,
          54,
          52,
          63,
          55,
          44,
          16,
          15,
          46,
          20,
          76,
          72,
          24,
          35,
          9,
          70,
          62,
          37,
          28,
          48,
          38,
          74,
          41,
          25,
          18,
          51,
          60,
          19,
          36,
          61,
          73,
          56,
          55,
          47,
          38,
          40,
          16,
          67,
          88,
          42,
          50,
          44,
          55,
          54,
          34,
          61,
          88,
          58,
          19,
          72,
          80,
          87,
          68,
          49,
          56,
          80
         ],
         "y0": " ",
         "yaxis": "y"
        }
       ],
       "layout": {
        "boxmode": "group",
        "legend": {
         "title": {
          "text": "decade"
         },
         "tracegroupgap": 0
        },
        "margin": {
         "t": 60
        },
        "template": {
         "data": {
          "bar": [
           {
            "error_x": {
             "color": "#2a3f5f"
            },
            "error_y": {
             "color": "#2a3f5f"
            },
            "marker": {
             "line": {
              "color": "#E5ECF6",
              "width": 0.5
             }
            },
            "type": "bar"
           }
          ],
          "barpolar": [
           {
            "marker": {
             "line": {
              "color": "#E5ECF6",
              "width": 0.5
             }
            },
            "type": "barpolar"
           }
          ],
          "carpet": [
           {
            "aaxis": {
             "endlinecolor": "#2a3f5f",
             "gridcolor": "white",
             "linecolor": "white",
             "minorgridcolor": "white",
             "startlinecolor": "#2a3f5f"
            },
            "baxis": {
             "endlinecolor": "#2a3f5f",
             "gridcolor": "white",
             "linecolor": "white",
             "minorgridcolor": "white",
             "startlinecolor": "#2a3f5f"
            },
            "type": "carpet"
           }
          ],
          "choropleth": [
           {
            "colorbar": {
             "outlinewidth": 0,
             "ticks": ""
            },
            "type": "choropleth"
           }
          ],
          "contour": [
           {
            "colorbar": {
             "outlinewidth": 0,
             "ticks": ""
            },
            "colorscale": [
             [
              0,
              "#0d0887"
             ],
             [
              0.1111111111111111,
              "#46039f"
             ],
             [
              0.2222222222222222,
              "#7201a8"
             ],
             [
              0.3333333333333333,
              "#9c179e"
             ],
             [
              0.4444444444444444,
              "#bd3786"
             ],
             [
              0.5555555555555556,
              "#d8576b"
             ],
             [
              0.6666666666666666,
              "#ed7953"
             ],
             [
              0.7777777777777778,
              "#fb9f3a"
             ],
             [
              0.8888888888888888,
              "#fdca26"
             ],
             [
              1,
              "#f0f921"
             ]
            ],
            "type": "contour"
           }
          ],
          "contourcarpet": [
           {
            "colorbar": {
             "outlinewidth": 0,
             "ticks": ""
            },
            "type": "contourcarpet"
           }
          ],
          "heatmap": [
           {
            "colorbar": {
             "outlinewidth": 0,
             "ticks": ""
            },
            "colorscale": [
             [
              0,
              "#0d0887"
             ],
             [
              0.1111111111111111,
              "#46039f"
             ],
             [
              0.2222222222222222,
              "#7201a8"
             ],
             [
              0.3333333333333333,
              "#9c179e"
             ],
             [
              0.4444444444444444,
              "#bd3786"
             ],
             [
              0.5555555555555556,
              "#d8576b"
             ],
             [
              0.6666666666666666,
              "#ed7953"
             ],
             [
              0.7777777777777778,
              "#fb9f3a"
             ],
             [
              0.8888888888888888,
              "#fdca26"
             ],
             [
              1,
              "#f0f921"
             ]
            ],
            "type": "heatmap"
           }
          ],
          "heatmapgl": [
           {
            "colorbar": {
             "outlinewidth": 0,
             "ticks": ""
            },
            "colorscale": [
             [
              0,
              "#0d0887"
             ],
             [
              0.1111111111111111,
              "#46039f"
             ],
             [
              0.2222222222222222,
              "#7201a8"
             ],
             [
              0.3333333333333333,
              "#9c179e"
             ],
             [
              0.4444444444444444,
              "#bd3786"
             ],
             [
              0.5555555555555556,
              "#d8576b"
             ],
             [
              0.6666666666666666,
              "#ed7953"
             ],
             [
              0.7777777777777778,
              "#fb9f3a"
             ],
             [
              0.8888888888888888,
              "#fdca26"
             ],
             [
              1,
              "#f0f921"
             ]
            ],
            "type": "heatmapgl"
           }
          ],
          "histogram": [
           {
            "marker": {
             "colorbar": {
              "outlinewidth": 0,
              "ticks": ""
             }
            },
            "type": "histogram"
           }
          ],
          "histogram2d": [
           {
            "colorbar": {
             "outlinewidth": 0,
             "ticks": ""
            },
            "colorscale": [
             [
              0,
              "#0d0887"
             ],
             [
              0.1111111111111111,
              "#46039f"
             ],
             [
              0.2222222222222222,
              "#7201a8"
             ],
             [
              0.3333333333333333,
              "#9c179e"
             ],
             [
              0.4444444444444444,
              "#bd3786"
             ],
             [
              0.5555555555555556,
              "#d8576b"
             ],
             [
              0.6666666666666666,
              "#ed7953"
             ],
             [
              0.7777777777777778,
              "#fb9f3a"
             ],
             [
              0.8888888888888888,
              "#fdca26"
             ],
             [
              1,
              "#f0f921"
             ]
            ],
            "type": "histogram2d"
           }
          ],
          "histogram2dcontour": [
           {
            "colorbar": {
             "outlinewidth": 0,
             "ticks": ""
            },
            "colorscale": [
             [
              0,
              "#0d0887"
             ],
             [
              0.1111111111111111,
              "#46039f"
             ],
             [
              0.2222222222222222,
              "#7201a8"
             ],
             [
              0.3333333333333333,
              "#9c179e"
             ],
             [
              0.4444444444444444,
              "#bd3786"
             ],
             [
              0.5555555555555556,
              "#d8576b"
             ],
             [
              0.6666666666666666,
              "#ed7953"
             ],
             [
              0.7777777777777778,
              "#fb9f3a"
             ],
             [
              0.8888888888888888,
              "#fdca26"
             ],
             [
              1,
              "#f0f921"
             ]
            ],
            "type": "histogram2dcontour"
           }
          ],
          "mesh3d": [
           {
            "colorbar": {
             "outlinewidth": 0,
             "ticks": ""
            },
            "type": "mesh3d"
           }
          ],
          "parcoords": [
           {
            "line": {
             "colorbar": {
              "outlinewidth": 0,
              "ticks": ""
             }
            },
            "type": "parcoords"
           }
          ],
          "pie": [
           {
            "automargin": true,
            "type": "pie"
           }
          ],
          "scatter": [
           {
            "marker": {
             "colorbar": {
              "outlinewidth": 0,
              "ticks": ""
             }
            },
            "type": "scatter"
           }
          ],
          "scatter3d": [
           {
            "line": {
             "colorbar": {
              "outlinewidth": 0,
              "ticks": ""
             }
            },
            "marker": {
             "colorbar": {
              "outlinewidth": 0,
              "ticks": ""
             }
            },
            "type": "scatter3d"
           }
          ],
          "scattercarpet": [
           {
            "marker": {
             "colorbar": {
              "outlinewidth": 0,
              "ticks": ""
             }
            },
            "type": "scattercarpet"
           }
          ],
          "scattergeo": [
           {
            "marker": {
             "colorbar": {
              "outlinewidth": 0,
              "ticks": ""
             }
            },
            "type": "scattergeo"
           }
          ],
          "scattergl": [
           {
            "marker": {
             "colorbar": {
              "outlinewidth": 0,
              "ticks": ""
             }
            },
            "type": "scattergl"
           }
          ],
          "scattermapbox": [
           {
            "marker": {
             "colorbar": {
              "outlinewidth": 0,
              "ticks": ""
             }
            },
            "type": "scattermapbox"
           }
          ],
          "scatterpolar": [
           {
            "marker": {
             "colorbar": {
              "outlinewidth": 0,
              "ticks": ""
             }
            },
            "type": "scatterpolar"
           }
          ],
          "scatterpolargl": [
           {
            "marker": {
             "colorbar": {
              "outlinewidth": 0,
              "ticks": ""
             }
            },
            "type": "scatterpolargl"
           }
          ],
          "scatterternary": [
           {
            "marker": {
             "colorbar": {
              "outlinewidth": 0,
              "ticks": ""
             }
            },
            "type": "scatterternary"
           }
          ],
          "surface": [
           {
            "colorbar": {
             "outlinewidth": 0,
             "ticks": ""
            },
            "colorscale": [
             [
              0,
              "#0d0887"
             ],
             [
              0.1111111111111111,
              "#46039f"
             ],
             [
              0.2222222222222222,
              "#7201a8"
             ],
             [
              0.3333333333333333,
              "#9c179e"
             ],
             [
              0.4444444444444444,
              "#bd3786"
             ],
             [
              0.5555555555555556,
              "#d8576b"
             ],
             [
              0.6666666666666666,
              "#ed7953"
             ],
             [
              0.7777777777777778,
              "#fb9f3a"
             ],
             [
              0.8888888888888888,
              "#fdca26"
             ],
             [
              1,
              "#f0f921"
             ]
            ],
            "type": "surface"
           }
          ],
          "table": [
           {
            "cells": {
             "fill": {
              "color": "#EBF0F8"
             },
             "line": {
              "color": "white"
             }
            },
            "header": {
             "fill": {
              "color": "#C8D4E3"
             },
             "line": {
              "color": "white"
             }
            },
            "type": "table"
           }
          ]
         },
         "layout": {
          "annotationdefaults": {
           "arrowcolor": "#2a3f5f",
           "arrowhead": 0,
           "arrowwidth": 1
          },
          "autotypenumbers": "strict",
          "coloraxis": {
           "colorbar": {
            "outlinewidth": 0,
            "ticks": ""
           }
          },
          "colorscale": {
           "diverging": [
            [
             0,
             "#8e0152"
            ],
            [
             0.1,
             "#c51b7d"
            ],
            [
             0.2,
             "#de77ae"
            ],
            [
             0.3,
             "#f1b6da"
            ],
            [
             0.4,
             "#fde0ef"
            ],
            [
             0.5,
             "#f7f7f7"
            ],
            [
             0.6,
             "#e6f5d0"
            ],
            [
             0.7,
             "#b8e186"
            ],
            [
             0.8,
             "#7fbc41"
            ],
            [
             0.9,
             "#4d9221"
            ],
            [
             1,
             "#276419"
            ]
           ],
           "sequential": [
            [
             0,
             "#0d0887"
            ],
            [
             0.1111111111111111,
             "#46039f"
            ],
            [
             0.2222222222222222,
             "#7201a8"
            ],
            [
             0.3333333333333333,
             "#9c179e"
            ],
            [
             0.4444444444444444,
             "#bd3786"
            ],
            [
             0.5555555555555556,
             "#d8576b"
            ],
            [
             0.6666666666666666,
             "#ed7953"
            ],
            [
             0.7777777777777778,
             "#fb9f3a"
            ],
            [
             0.8888888888888888,
             "#fdca26"
            ],
            [
             1,
             "#f0f921"
            ]
           ],
           "sequentialminus": [
            [
             0,
             "#0d0887"
            ],
            [
             0.1111111111111111,
             "#46039f"
            ],
            [
             0.2222222222222222,
             "#7201a8"
            ],
            [
             0.3333333333333333,
             "#9c179e"
            ],
            [
             0.4444444444444444,
             "#bd3786"
            ],
            [
             0.5555555555555556,
             "#d8576b"
            ],
            [
             0.6666666666666666,
             "#ed7953"
            ],
            [
             0.7777777777777778,
             "#fb9f3a"
            ],
            [
             0.8888888888888888,
             "#fdca26"
            ],
            [
             1,
             "#f0f921"
            ]
           ]
          },
          "colorway": [
           "#636efa",
           "#EF553B",
           "#00cc96",
           "#ab63fa",
           "#FFA15A",
           "#19d3f3",
           "#FF6692",
           "#B6E880",
           "#FF97FF",
           "#FECB52"
          ],
          "font": {
           "color": "#2a3f5f"
          },
          "geo": {
           "bgcolor": "white",
           "lakecolor": "white",
           "landcolor": "#E5ECF6",
           "showlakes": true,
           "showland": true,
           "subunitcolor": "white"
          },
          "hoverlabel": {
           "align": "left"
          },
          "hovermode": "closest",
          "mapbox": {
           "style": "light"
          },
          "paper_bgcolor": "white",
          "plot_bgcolor": "#E5ECF6",
          "polar": {
           "angularaxis": {
            "gridcolor": "white",
            "linecolor": "white",
            "ticks": ""
           },
           "bgcolor": "#E5ECF6",
           "radialaxis": {
            "gridcolor": "white",
            "linecolor": "white",
            "ticks": ""
           }
          },
          "scene": {
           "xaxis": {
            "backgroundcolor": "#E5ECF6",
            "gridcolor": "white",
            "gridwidth": 2,
            "linecolor": "white",
            "showbackground": true,
            "ticks": "",
            "zerolinecolor": "white"
           },
           "yaxis": {
            "backgroundcolor": "#E5ECF6",
            "gridcolor": "white",
            "gridwidth": 2,
            "linecolor": "white",
            "showbackground": true,
            "ticks": "",
            "zerolinecolor": "white"
           },
           "zaxis": {
            "backgroundcolor": "#E5ECF6",
            "gridcolor": "white",
            "gridwidth": 2,
            "linecolor": "white",
            "showbackground": true,
            "ticks": "",
            "zerolinecolor": "white"
           }
          },
          "shapedefaults": {
           "line": {
            "color": "#2a3f5f"
           }
          },
          "ternary": {
           "aaxis": {
            "gridcolor": "white",
            "linecolor": "white",
            "ticks": ""
           },
           "baxis": {
            "gridcolor": "white",
            "linecolor": "white",
            "ticks": ""
           },
           "bgcolor": "#E5ECF6",
           "caxis": {
            "gridcolor": "white",
            "linecolor": "white",
            "ticks": ""
           }
          },
          "title": {
           "x": 0.05
          },
          "xaxis": {
           "automargin": true,
           "gridcolor": "white",
           "linecolor": "white",
           "ticks": "",
           "title": {
            "standoff": 15
           },
           "zerolinecolor": "white",
           "zerolinewidth": 2
          },
          "yaxis": {
           "automargin": true,
           "gridcolor": "white",
           "linecolor": "white",
           "ticks": "",
           "title": {
            "standoff": 15
           },
           "zerolinecolor": "white",
           "zerolinewidth": 2
          }
         }
        },
        "xaxis": {
         "anchor": "y",
         "domain": [
          0,
          1
         ]
        },
        "yaxis": {
         "anchor": "x",
         "domain": [
          0,
          1
         ],
         "title": {
          "text": "val"
         }
        }
       }
      }
     },
     "metadata": {},
     "output_type": "display_data"
    },
    {
     "name": "stdout",
     "output_type": "stream",
     "text": [
      "Box plot for dur per decade\n"
     ]
    },
    {
     "data": {
      "application/vnd.plotly.v1+json": {
       "config": {
        "plotlyServerURL": "https://plot.ly"
       },
       "data": [
        {
         "alignmentgroup": "True",
         "hovertemplate": "decade=1950<br>dur=%{y}<extra></extra>",
         "legendgroup": "1950",
         "marker": {
          "color": "#636efa"
         },
         "name": "1950",
         "notched": false,
         "offsetgroup": "1950",
         "orientation": "v",
         "showlegend": true,
         "type": "box",
         "x0": " ",
         "xaxis": "x",
         "y": [
          155,
          123,
          162,
          151,
          158,
          182,
          164,
          143,
          145,
          144,
          136,
          175,
          169,
          144,
          168,
          159,
          158,
          161,
          163,
          163,
          144,
          134,
          214,
          184,
          174,
          152,
          150,
          125,
          154,
          166,
          135,
          118,
          170,
          128,
          154,
          199,
          175,
          129,
          106,
          135,
          154,
          113,
          139,
          127,
          156,
          143,
          213,
          155,
          98,
          126,
          143,
          146,
          149,
          166,
          149,
          137,
          144,
          171,
          134,
          138,
          148,
          135,
          142,
          108,
          136,
          172,
          181,
          135,
          112,
          146,
          120,
          165,
          146
         ],
         "y0": " ",
         "yaxis": "y"
        },
        {
         "alignmentgroup": "True",
         "hovertemplate": "decade=1960<br>dur=%{y}<extra></extra>",
         "legendgroup": "1960",
         "marker": {
          "color": "#EF553B"
         },
         "name": "1960",
         "notched": false,
         "offsetgroup": "1960",
         "orientation": "v",
         "showlegend": true,
         "type": "box",
         "x0": " ",
         "xaxis": "x",
         "y": [
          186,
          260,
          204,
          126,
          182,
          147,
          146,
          298,
          155,
          178,
          277,
          149,
          181,
          155,
          148,
          431,
          163,
          444,
          194,
          166,
          148,
          157,
          178,
          128,
          151,
          144,
          146,
          146,
          176,
          163,
          178,
          209,
          426,
          275,
          188,
          144,
          131,
          157,
          194,
          290,
          246,
          221,
          191,
          294,
          187,
          191,
          204,
          153,
          149,
          303,
          195,
          190,
          182,
          167,
          167,
          147,
          179,
          160,
          164,
          167,
          466,
          206,
          246,
          217,
          143,
          241,
          165,
          142,
          172,
          400,
          182,
          195,
          140,
          153,
          350,
          219,
          127,
          214,
          400,
          127,
          150,
          200,
          193,
          208,
          172,
          400,
          456,
          137,
          152,
          139,
          411,
          190,
          161,
          182,
          160,
          177,
          122
         ],
         "y0": " ",
         "yaxis": "y"
        },
        {
         "alignmentgroup": "True",
         "hovertemplate": "decade=1970<br>dur=%{y}<extra></extra>",
         "legendgroup": "1970",
         "marker": {
          "color": "#00cc96"
         },
         "name": "1970",
         "notched": false,
         "offsetgroup": "1970",
         "orientation": "v",
         "showlegend": true,
         "type": "box",
         "x0": " ",
         "xaxis": "x",
         "y": [
          354,
          208,
          209,
          282,
          122,
          243,
          303,
          377,
          258,
          271,
          146,
          188,
          245,
          179,
          275,
          296,
          169,
          227,
          212,
          341,
          293,
          217,
          221,
          275,
          170,
          267,
          187,
          254,
          213,
          286,
          221,
          239,
          287,
          190,
          275,
          213,
          187,
          278,
          216,
          199,
          235,
          212,
          264,
          256,
          179,
          241,
          179,
          166,
          169,
          326,
          185,
          231,
          365,
          511,
          323,
          242,
          190,
          309,
          193,
          198,
          229,
          210,
          173,
          240,
          225,
          242,
          213,
          197,
          267,
          211,
          215,
          252,
          215,
          214,
          213,
          202,
          281,
          236,
          287,
          221,
          241,
          300,
          202,
          157,
          215,
          208,
          178,
          190,
          274,
          276,
          201,
          241,
          199,
          206,
          253,
          227,
          267,
          180,
          158,
          116,
          146,
          184,
          201,
          226
         ],
         "y0": " ",
         "yaxis": "y"
        },
        {
         "alignmentgroup": "True",
         "hovertemplate": "decade=1980<br>dur=%{y}<extra></extra>",
         "legendgroup": "1980",
         "marker": {
          "color": "#ab63fa"
         },
         "name": "1980",
         "notched": false,
         "offsetgroup": "1980",
         "orientation": "v",
         "showlegend": true,
         "type": "box",
         "x0": " ",
         "xaxis": "x",
         "y": [
          249,
          296,
          215,
          184,
          291,
          216,
          223,
          251,
          183,
          265,
          198,
          348,
          243,
          162,
          246,
          264,
          328,
          279,
          267,
          206,
          245,
          251,
          210,
          227,
          175,
          304,
          240,
          295,
          302,
          250,
          280,
          424,
          258,
          253,
          237,
          267,
          246,
          241,
          247,
          199,
          234,
          272,
          192,
          219,
          256,
          355,
          343,
          360,
          230,
          206,
          252,
          289,
          206,
          278,
          264,
          223,
          299,
          210,
          252,
          233,
          232,
          226,
          252,
          256,
          295,
          266,
          215,
          286,
          194,
          247,
          245,
          231,
          232,
          314,
          229,
          194,
          211,
          258,
          288,
          235,
          345,
          305,
          254,
          324,
          333,
          215,
          319,
          284,
          254,
          259,
          285,
          242,
          255,
          244,
          281,
          276,
          232,
          227,
          215,
          200,
          433,
          299,
          338,
          199
         ],
         "y0": " ",
         "yaxis": "y"
        },
        {
         "alignmentgroup": "True",
         "hovertemplate": "decade=1990<br>dur=%{y}<extra></extra>",
         "legendgroup": "1990",
         "marker": {
          "color": "#FFA15A"
         },
         "name": "1990",
         "notched": false,
         "offsetgroup": "1990",
         "orientation": "v",
         "showlegend": true,
         "type": "box",
         "x0": " ",
         "xaxis": "x",
         "y": [
          214,
          214,
          228,
          274,
          253,
          254,
          202,
          225,
          394,
          290,
          258,
          265,
          213,
          252,
          213,
          218,
          258,
          351,
          302,
          222,
          243,
          225,
          246,
          257,
          276,
          239,
          264,
          342,
          236,
          198,
          230,
          226,
          308,
          239,
          226,
          271,
          384,
          295,
          292,
          235,
          250,
          206,
          249,
          233,
          274,
          284,
          223,
          231,
          292,
          267,
          243,
          221,
          274,
          205,
          301,
          217,
          191,
          296,
          241,
          273,
          252,
          227,
          254,
          233,
          292,
          200,
          265,
          224,
          229,
          309,
          275,
          264,
          221,
          314,
          278,
          221,
          299,
          219,
          215,
          215,
          242,
          254,
          240,
          216,
          255,
          320,
          294,
          356
         ],
         "y0": " ",
         "yaxis": "y"
        },
        {
         "alignmentgroup": "True",
         "hovertemplate": "decade=2000<br>dur=%{y}<extra></extra>",
         "legendgroup": "2000",
         "marker": {
          "color": "#19d3f3"
         },
         "name": "2000",
         "notched": false,
         "offsetgroup": "2000",
         "orientation": "v",
         "showlegend": true,
         "type": "box",
         "x0": " ",
         "xaxis": "x",
         "y": [
          217,
          310,
          186,
          296,
          276,
          312,
          284,
          231,
          285,
          250,
          203,
          202,
          209,
          228,
          203,
          207,
          229,
          289,
          289,
          262,
          193,
          221,
          222,
          193,
          257,
          267,
          322,
          220,
          219,
          216,
          273,
          182,
          339,
          223,
          231,
          224,
          242,
          204,
          212,
          206,
          264,
          193,
          236,
          247,
          222,
          267,
          205,
          267,
          171,
          235,
          267,
          213,
          202,
          205,
          219,
          299,
          252,
          247,
          214,
          184,
          235,
          250,
          263,
          199,
          303,
          220,
          261,
          274,
          251,
          307,
          215,
          270,
          205,
          256,
          212,
          157,
          231,
          199,
          247,
          200,
          224,
          292,
          221,
          189,
          228,
          203,
          257,
          312,
          213,
          283,
          242,
          237,
          162,
          221,
          238,
          324,
          326,
          215,
          244,
          226
         ],
         "y0": " ",
         "yaxis": "y"
        },
        {
         "alignmentgroup": "True",
         "hovertemplate": "decade=2010<br>dur=%{y}<extra></extra>",
         "legendgroup": "2010",
         "marker": {
          "color": "#FF6692"
         },
         "name": "2010",
         "notched": false,
         "offsetgroup": "2010",
         "orientation": "v",
         "showlegend": true,
         "type": "box",
         "x0": " ",
         "xaxis": "x",
         "y": [
          194,
          179,
          157,
          191,
          218,
          167,
          158,
          199,
          215,
          187,
          223,
          177,
          230,
          203,
          221,
          220,
          218,
          242,
          206,
          260,
          209,
          188,
          247,
          208,
          209,
          218,
          199,
          221,
          201,
          206,
          251,
          181,
          177,
          182,
          196,
          212,
          245,
          223,
          202,
          185,
          209,
          195,
          197,
          221,
          252,
          231,
          210,
          221,
          203,
          231,
          203,
          306,
          203,
          212,
          194,
          175,
          229,
          211,
          217,
          245,
          197,
          189,
          220,
          213,
          211,
          180,
          225,
          208,
          222,
          230,
          231,
          224,
          183,
          238,
          229,
          194,
          195,
          202,
          220,
          255,
          175,
          161,
          213,
          258,
          209,
          212,
          202,
          195,
          184,
          215,
          192,
          227,
          191,
          228,
          222,
          211,
          203,
          185,
          184,
          194,
          217
         ],
         "y0": " ",
         "yaxis": "y"
        }
       ],
       "layout": {
        "boxmode": "group",
        "legend": {
         "title": {
          "text": "decade"
         },
         "tracegroupgap": 0
        },
        "margin": {
         "t": 60
        },
        "template": {
         "data": {
          "bar": [
           {
            "error_x": {
             "color": "#2a3f5f"
            },
            "error_y": {
             "color": "#2a3f5f"
            },
            "marker": {
             "line": {
              "color": "#E5ECF6",
              "width": 0.5
             }
            },
            "type": "bar"
           }
          ],
          "barpolar": [
           {
            "marker": {
             "line": {
              "color": "#E5ECF6",
              "width": 0.5
             }
            },
            "type": "barpolar"
           }
          ],
          "carpet": [
           {
            "aaxis": {
             "endlinecolor": "#2a3f5f",
             "gridcolor": "white",
             "linecolor": "white",
             "minorgridcolor": "white",
             "startlinecolor": "#2a3f5f"
            },
            "baxis": {
             "endlinecolor": "#2a3f5f",
             "gridcolor": "white",
             "linecolor": "white",
             "minorgridcolor": "white",
             "startlinecolor": "#2a3f5f"
            },
            "type": "carpet"
           }
          ],
          "choropleth": [
           {
            "colorbar": {
             "outlinewidth": 0,
             "ticks": ""
            },
            "type": "choropleth"
           }
          ],
          "contour": [
           {
            "colorbar": {
             "outlinewidth": 0,
             "ticks": ""
            },
            "colorscale": [
             [
              0,
              "#0d0887"
             ],
             [
              0.1111111111111111,
              "#46039f"
             ],
             [
              0.2222222222222222,
              "#7201a8"
             ],
             [
              0.3333333333333333,
              "#9c179e"
             ],
             [
              0.4444444444444444,
              "#bd3786"
             ],
             [
              0.5555555555555556,
              "#d8576b"
             ],
             [
              0.6666666666666666,
              "#ed7953"
             ],
             [
              0.7777777777777778,
              "#fb9f3a"
             ],
             [
              0.8888888888888888,
              "#fdca26"
             ],
             [
              1,
              "#f0f921"
             ]
            ],
            "type": "contour"
           }
          ],
          "contourcarpet": [
           {
            "colorbar": {
             "outlinewidth": 0,
             "ticks": ""
            },
            "type": "contourcarpet"
           }
          ],
          "heatmap": [
           {
            "colorbar": {
             "outlinewidth": 0,
             "ticks": ""
            },
            "colorscale": [
             [
              0,
              "#0d0887"
             ],
             [
              0.1111111111111111,
              "#46039f"
             ],
             [
              0.2222222222222222,
              "#7201a8"
             ],
             [
              0.3333333333333333,
              "#9c179e"
             ],
             [
              0.4444444444444444,
              "#bd3786"
             ],
             [
              0.5555555555555556,
              "#d8576b"
             ],
             [
              0.6666666666666666,
              "#ed7953"
             ],
             [
              0.7777777777777778,
              "#fb9f3a"
             ],
             [
              0.8888888888888888,
              "#fdca26"
             ],
             [
              1,
              "#f0f921"
             ]
            ],
            "type": "heatmap"
           }
          ],
          "heatmapgl": [
           {
            "colorbar": {
             "outlinewidth": 0,
             "ticks": ""
            },
            "colorscale": [
             [
              0,
              "#0d0887"
             ],
             [
              0.1111111111111111,
              "#46039f"
             ],
             [
              0.2222222222222222,
              "#7201a8"
             ],
             [
              0.3333333333333333,
              "#9c179e"
             ],
             [
              0.4444444444444444,
              "#bd3786"
             ],
             [
              0.5555555555555556,
              "#d8576b"
             ],
             [
              0.6666666666666666,
              "#ed7953"
             ],
             [
              0.7777777777777778,
              "#fb9f3a"
             ],
             [
              0.8888888888888888,
              "#fdca26"
             ],
             [
              1,
              "#f0f921"
             ]
            ],
            "type": "heatmapgl"
           }
          ],
          "histogram": [
           {
            "marker": {
             "colorbar": {
              "outlinewidth": 0,
              "ticks": ""
             }
            },
            "type": "histogram"
           }
          ],
          "histogram2d": [
           {
            "colorbar": {
             "outlinewidth": 0,
             "ticks": ""
            },
            "colorscale": [
             [
              0,
              "#0d0887"
             ],
             [
              0.1111111111111111,
              "#46039f"
             ],
             [
              0.2222222222222222,
              "#7201a8"
             ],
             [
              0.3333333333333333,
              "#9c179e"
             ],
             [
              0.4444444444444444,
              "#bd3786"
             ],
             [
              0.5555555555555556,
              "#d8576b"
             ],
             [
              0.6666666666666666,
              "#ed7953"
             ],
             [
              0.7777777777777778,
              "#fb9f3a"
             ],
             [
              0.8888888888888888,
              "#fdca26"
             ],
             [
              1,
              "#f0f921"
             ]
            ],
            "type": "histogram2d"
           }
          ],
          "histogram2dcontour": [
           {
            "colorbar": {
             "outlinewidth": 0,
             "ticks": ""
            },
            "colorscale": [
             [
              0,
              "#0d0887"
             ],
             [
              0.1111111111111111,
              "#46039f"
             ],
             [
              0.2222222222222222,
              "#7201a8"
             ],
             [
              0.3333333333333333,
              "#9c179e"
             ],
             [
              0.4444444444444444,
              "#bd3786"
             ],
             [
              0.5555555555555556,
              "#d8576b"
             ],
             [
              0.6666666666666666,
              "#ed7953"
             ],
             [
              0.7777777777777778,
              "#fb9f3a"
             ],
             [
              0.8888888888888888,
              "#fdca26"
             ],
             [
              1,
              "#f0f921"
             ]
            ],
            "type": "histogram2dcontour"
           }
          ],
          "mesh3d": [
           {
            "colorbar": {
             "outlinewidth": 0,
             "ticks": ""
            },
            "type": "mesh3d"
           }
          ],
          "parcoords": [
           {
            "line": {
             "colorbar": {
              "outlinewidth": 0,
              "ticks": ""
             }
            },
            "type": "parcoords"
           }
          ],
          "pie": [
           {
            "automargin": true,
            "type": "pie"
           }
          ],
          "scatter": [
           {
            "marker": {
             "colorbar": {
              "outlinewidth": 0,
              "ticks": ""
             }
            },
            "type": "scatter"
           }
          ],
          "scatter3d": [
           {
            "line": {
             "colorbar": {
              "outlinewidth": 0,
              "ticks": ""
             }
            },
            "marker": {
             "colorbar": {
              "outlinewidth": 0,
              "ticks": ""
             }
            },
            "type": "scatter3d"
           }
          ],
          "scattercarpet": [
           {
            "marker": {
             "colorbar": {
              "outlinewidth": 0,
              "ticks": ""
             }
            },
            "type": "scattercarpet"
           }
          ],
          "scattergeo": [
           {
            "marker": {
             "colorbar": {
              "outlinewidth": 0,
              "ticks": ""
             }
            },
            "type": "scattergeo"
           }
          ],
          "scattergl": [
           {
            "marker": {
             "colorbar": {
              "outlinewidth": 0,
              "ticks": ""
             }
            },
            "type": "scattergl"
           }
          ],
          "scattermapbox": [
           {
            "marker": {
             "colorbar": {
              "outlinewidth": 0,
              "ticks": ""
             }
            },
            "type": "scattermapbox"
           }
          ],
          "scatterpolar": [
           {
            "marker": {
             "colorbar": {
              "outlinewidth": 0,
              "ticks": ""
             }
            },
            "type": "scatterpolar"
           }
          ],
          "scatterpolargl": [
           {
            "marker": {
             "colorbar": {
              "outlinewidth": 0,
              "ticks": ""
             }
            },
            "type": "scatterpolargl"
           }
          ],
          "scatterternary": [
           {
            "marker": {
             "colorbar": {
              "outlinewidth": 0,
              "ticks": ""
             }
            },
            "type": "scatterternary"
           }
          ],
          "surface": [
           {
            "colorbar": {
             "outlinewidth": 0,
             "ticks": ""
            },
            "colorscale": [
             [
              0,
              "#0d0887"
             ],
             [
              0.1111111111111111,
              "#46039f"
             ],
             [
              0.2222222222222222,
              "#7201a8"
             ],
             [
              0.3333333333333333,
              "#9c179e"
             ],
             [
              0.4444444444444444,
              "#bd3786"
             ],
             [
              0.5555555555555556,
              "#d8576b"
             ],
             [
              0.6666666666666666,
              "#ed7953"
             ],
             [
              0.7777777777777778,
              "#fb9f3a"
             ],
             [
              0.8888888888888888,
              "#fdca26"
             ],
             [
              1,
              "#f0f921"
             ]
            ],
            "type": "surface"
           }
          ],
          "table": [
           {
            "cells": {
             "fill": {
              "color": "#EBF0F8"
             },
             "line": {
              "color": "white"
             }
            },
            "header": {
             "fill": {
              "color": "#C8D4E3"
             },
             "line": {
              "color": "white"
             }
            },
            "type": "table"
           }
          ]
         },
         "layout": {
          "annotationdefaults": {
           "arrowcolor": "#2a3f5f",
           "arrowhead": 0,
           "arrowwidth": 1
          },
          "autotypenumbers": "strict",
          "coloraxis": {
           "colorbar": {
            "outlinewidth": 0,
            "ticks": ""
           }
          },
          "colorscale": {
           "diverging": [
            [
             0,
             "#8e0152"
            ],
            [
             0.1,
             "#c51b7d"
            ],
            [
             0.2,
             "#de77ae"
            ],
            [
             0.3,
             "#f1b6da"
            ],
            [
             0.4,
             "#fde0ef"
            ],
            [
             0.5,
             "#f7f7f7"
            ],
            [
             0.6,
             "#e6f5d0"
            ],
            [
             0.7,
             "#b8e186"
            ],
            [
             0.8,
             "#7fbc41"
            ],
            [
             0.9,
             "#4d9221"
            ],
            [
             1,
             "#276419"
            ]
           ],
           "sequential": [
            [
             0,
             "#0d0887"
            ],
            [
             0.1111111111111111,
             "#46039f"
            ],
            [
             0.2222222222222222,
             "#7201a8"
            ],
            [
             0.3333333333333333,
             "#9c179e"
            ],
            [
             0.4444444444444444,
             "#bd3786"
            ],
            [
             0.5555555555555556,
             "#d8576b"
            ],
            [
             0.6666666666666666,
             "#ed7953"
            ],
            [
             0.7777777777777778,
             "#fb9f3a"
            ],
            [
             0.8888888888888888,
             "#fdca26"
            ],
            [
             1,
             "#f0f921"
            ]
           ],
           "sequentialminus": [
            [
             0,
             "#0d0887"
            ],
            [
             0.1111111111111111,
             "#46039f"
            ],
            [
             0.2222222222222222,
             "#7201a8"
            ],
            [
             0.3333333333333333,
             "#9c179e"
            ],
            [
             0.4444444444444444,
             "#bd3786"
            ],
            [
             0.5555555555555556,
             "#d8576b"
            ],
            [
             0.6666666666666666,
             "#ed7953"
            ],
            [
             0.7777777777777778,
             "#fb9f3a"
            ],
            [
             0.8888888888888888,
             "#fdca26"
            ],
            [
             1,
             "#f0f921"
            ]
           ]
          },
          "colorway": [
           "#636efa",
           "#EF553B",
           "#00cc96",
           "#ab63fa",
           "#FFA15A",
           "#19d3f3",
           "#FF6692",
           "#B6E880",
           "#FF97FF",
           "#FECB52"
          ],
          "font": {
           "color": "#2a3f5f"
          },
          "geo": {
           "bgcolor": "white",
           "lakecolor": "white",
           "landcolor": "#E5ECF6",
           "showlakes": true,
           "showland": true,
           "subunitcolor": "white"
          },
          "hoverlabel": {
           "align": "left"
          },
          "hovermode": "closest",
          "mapbox": {
           "style": "light"
          },
          "paper_bgcolor": "white",
          "plot_bgcolor": "#E5ECF6",
          "polar": {
           "angularaxis": {
            "gridcolor": "white",
            "linecolor": "white",
            "ticks": ""
           },
           "bgcolor": "#E5ECF6",
           "radialaxis": {
            "gridcolor": "white",
            "linecolor": "white",
            "ticks": ""
           }
          },
          "scene": {
           "xaxis": {
            "backgroundcolor": "#E5ECF6",
            "gridcolor": "white",
            "gridwidth": 2,
            "linecolor": "white",
            "showbackground": true,
            "ticks": "",
            "zerolinecolor": "white"
           },
           "yaxis": {
            "backgroundcolor": "#E5ECF6",
            "gridcolor": "white",
            "gridwidth": 2,
            "linecolor": "white",
            "showbackground": true,
            "ticks": "",
            "zerolinecolor": "white"
           },
           "zaxis": {
            "backgroundcolor": "#E5ECF6",
            "gridcolor": "white",
            "gridwidth": 2,
            "linecolor": "white",
            "showbackground": true,
            "ticks": "",
            "zerolinecolor": "white"
           }
          },
          "shapedefaults": {
           "line": {
            "color": "#2a3f5f"
           }
          },
          "ternary": {
           "aaxis": {
            "gridcolor": "white",
            "linecolor": "white",
            "ticks": ""
           },
           "baxis": {
            "gridcolor": "white",
            "linecolor": "white",
            "ticks": ""
           },
           "bgcolor": "#E5ECF6",
           "caxis": {
            "gridcolor": "white",
            "linecolor": "white",
            "ticks": ""
           }
          },
          "title": {
           "x": 0.05
          },
          "xaxis": {
           "automargin": true,
           "gridcolor": "white",
           "linecolor": "white",
           "ticks": "",
           "title": {
            "standoff": 15
           },
           "zerolinecolor": "white",
           "zerolinewidth": 2
          },
          "yaxis": {
           "automargin": true,
           "gridcolor": "white",
           "linecolor": "white",
           "ticks": "",
           "title": {
            "standoff": 15
           },
           "zerolinecolor": "white",
           "zerolinewidth": 2
          }
         }
        },
        "xaxis": {
         "anchor": "y",
         "domain": [
          0,
          1
         ]
        },
        "yaxis": {
         "anchor": "x",
         "domain": [
          0,
          1
         ],
         "title": {
          "text": "dur"
         }
        }
       }
      }
     },
     "metadata": {},
     "output_type": "display_data"
    },
    {
     "name": "stdout",
     "output_type": "stream",
     "text": [
      "Box plot for acous per decade\n"
     ]
    },
    {
     "data": {
      "application/vnd.plotly.v1+json": {
       "config": {
        "plotlyServerURL": "https://plot.ly"
       },
       "data": [
        {
         "alignmentgroup": "True",
         "hovertemplate": "decade=1950<br>acous=%{y}<extra></extra>",
         "legendgroup": "1950",
         "marker": {
          "color": "#636efa"
         },
         "name": "1950",
         "notched": false,
         "offsetgroup": "1950",
         "orientation": "v",
         "showlegend": true,
         "type": "box",
         "x0": " ",
         "xaxis": "x",
         "y": [
          75,
          86,
          81,
          70,
          67,
          94,
          66,
          67,
          93,
          55,
          86,
          73,
          97,
          85,
          85,
          4,
          52,
          83,
          60,
          79,
          69,
          61,
          92,
          88,
          85,
          30,
          75,
          4,
          40,
          91,
          49,
          86,
          81,
          78,
          95,
          39,
          98,
          88,
          88,
          82,
          97,
          52,
          49,
          87,
          92,
          69,
          87,
          93,
          84,
          82,
          89,
          77,
          89,
          65,
          89,
          73,
          91,
          69,
          61,
          61,
          77,
          70,
          82,
          87,
          63,
          36,
          100,
          59,
          82,
          43,
          55,
          64,
          79
         ],
         "y0": " ",
         "yaxis": "y"
        },
        {
         "alignmentgroup": "True",
         "hovertemplate": "decade=1960<br>acous=%{y}<extra></extra>",
         "legendgroup": "1960",
         "marker": {
          "color": "#EF553B"
         },
         "name": "1960",
         "notched": false,
         "offsetgroup": "1960",
         "orientation": "v",
         "showlegend": true,
         "type": "box",
         "x0": " ",
         "xaxis": "x",
         "y": [
          3,
          3,
          61,
          88,
          94,
          45,
          39,
          19,
          75,
          31,
          70,
          66,
          2,
          68,
          73,
          3,
          7,
          47,
          16,
          44,
          23,
          40,
          21,
          63,
          70,
          36,
          20,
          63,
          62,
          38,
          70,
          38,
          54,
          91,
          81,
          55,
          5,
          93,
          65,
          20,
          93,
          58,
          7,
          56,
          39,
          6,
          51,
          11,
          2,
          26,
          22,
          92,
          26,
          58,
          44,
          50,
          57,
          42,
          86,
          36,
          56,
          36,
          98,
          1,
          29,
          30,
          52,
          27,
          28,
          78,
          76,
          0,
          79,
          18,
          51,
          8,
          9,
          86,
          98,
          28,
          66,
          10,
          81,
          76,
          10,
          58,
          99,
          33,
          34,
          43,
          45,
          71,
          23,
          82,
          27,
          30,
          37
         ],
         "y0": " ",
         "yaxis": "y"
        },
        {
         "alignmentgroup": "True",
         "hovertemplate": "decade=1970<br>acous=%{y}<extra></extra>",
         "legendgroup": "1970",
         "marker": {
          "color": "#00cc96"
         },
         "name": "1970",
         "notched": false,
         "offsetgroup": "1970",
         "orientation": "v",
         "showlegend": true,
         "type": "box",
         "x0": " ",
         "xaxis": "x",
         "y": [
          27,
          6,
          5,
          43,
          68,
          63,
          65,
          38,
          6,
          21,
          1,
          91,
          11,
          38,
          15,
          19,
          5,
          22,
          34,
          13,
          2,
          93,
          59,
          21,
          28,
          23,
          40,
          17,
          30,
          10,
          18,
          8,
          6,
          76,
          12,
          42,
          74,
          37,
          4,
          6,
          0,
          25,
          23,
          3,
          0,
          78,
          65,
          42,
          40,
          82,
          93,
          17,
          28,
          30,
          26,
          9,
          9,
          15,
          45,
          37,
          83,
          23,
          14,
          13,
          10,
          4,
          68,
          6,
          50,
          89,
          17,
          0,
          19,
          5,
          78,
          25,
          25,
          11,
          5,
          8,
          24,
          13,
          29,
          0,
          94,
          11,
          68,
          3,
          85,
          7,
          31,
          24,
          7,
          25,
          60,
          3,
          29,
          39,
          20,
          84,
          35,
          45,
          74,
          2
         ],
         "y0": " ",
         "yaxis": "y"
        },
        {
         "alignmentgroup": "True",
         "hovertemplate": "decade=1980<br>acous=%{y}<extra></extra>",
         "legendgroup": "1980",
         "marker": {
          "color": "#ab63fa"
         },
         "name": "1980",
         "notched": false,
         "offsetgroup": "1980",
         "orientation": "v",
         "showlegend": true,
         "type": "box",
         "x0": " ",
         "xaxis": "x",
         "y": [
          8,
          26,
          11,
          20,
          21,
          2,
          7,
          35,
          36,
          19,
          7,
          18,
          5,
          42,
          13,
          80,
          11,
          0,
          0,
          20,
          9,
          1,
          0,
          42,
          33,
          2,
          33,
          57,
          29,
          1,
          2,
          53,
          8,
          46,
          1,
          19,
          22,
          36,
          2,
          8,
          17,
          11,
          62,
          4,
          19,
          3,
          12,
          2,
          6,
          10,
          15,
          79,
          20,
          63,
          23,
          40,
          72,
          16,
          56,
          61,
          25,
          46,
          6,
          51,
          14,
          18,
          66,
          7,
          33,
          57,
          0,
          26,
          57,
          2,
          8,
          33,
          32,
          10,
          71,
          12,
          31,
          42,
          17,
          24,
          35,
          55,
          7,
          45,
          0,
          67,
          11,
          27,
          8,
          15,
          11,
          15,
          3,
          0,
          42,
          6,
          76,
          51,
          20,
          3
         ],
         "y0": " ",
         "yaxis": "y"
        },
        {
         "alignmentgroup": "True",
         "hovertemplate": "decade=1990<br>acous=%{y}<extra></extra>",
         "legendgroup": "1990",
         "marker": {
          "color": "#FFA15A"
         },
         "name": "1990",
         "notched": false,
         "offsetgroup": "1990",
         "orientation": "v",
         "showlegend": true,
         "type": "box",
         "x0": " ",
         "xaxis": "x",
         "y": [
          3,
          22,
          6,
          31,
          43,
          21,
          1,
          4,
          10,
          7,
          46,
          16,
          1,
          0,
          59,
          0,
          74,
          7,
          5,
          8,
          14,
          14,
          0,
          7,
          24,
          14,
          0,
          36,
          0,
          3,
          18,
          1,
          11,
          3,
          27,
          27,
          54,
          54,
          11,
          59,
          0,
          10,
          64,
          1,
          19,
          26,
          17,
          20,
          16,
          58,
          63,
          1,
          28,
          8,
          48,
          14,
          5,
          76,
          0,
          43,
          4,
          3,
          23,
          0,
          26,
          6,
          8,
          1,
          8,
          8,
          61,
          70,
          15,
          1,
          61,
          38,
          4,
          4,
          6,
          60,
          4,
          1,
          0,
          6,
          18,
          1,
          34,
          50
         ],
         "y0": " ",
         "yaxis": "y"
        },
        {
         "alignmentgroup": "True",
         "hovertemplate": "decade=2000<br>acous=%{y}<extra></extra>",
         "legendgroup": "2000",
         "marker": {
          "color": "#19d3f3"
         },
         "name": "2000",
         "notched": false,
         "offsetgroup": "2000",
         "orientation": "v",
         "showlegend": true,
         "type": "box",
         "x0": " ",
         "xaxis": "x",
         "y": [
          1,
          73,
          0,
          16,
          1,
          1,
          3,
          9,
          17,
          2,
          7,
          0,
          3,
          3,
          0,
          25,
          25,
          23,
          9,
          27,
          26,
          2,
          52,
          33,
          24,
          3,
          1,
          0,
          11,
          74,
          10,
          17,
          7,
          15,
          0,
          7,
          2,
          4,
          32,
          10,
          5,
          1,
          13,
          0,
          4,
          19,
          1,
          53,
          0,
          13,
          2,
          1,
          3,
          6,
          32,
          6,
          5,
          4,
          1,
          4,
          23,
          1,
          19,
          3,
          19,
          0,
          14,
          1,
          13,
          1,
          5,
          5,
          2,
          1,
          0,
          0,
          0,
          0,
          11,
          6,
          12,
          6,
          3,
          1,
          28,
          29,
          59,
          2,
          15,
          10,
          14,
          1,
          0,
          17,
          9,
          1,
          1,
          4,
          1,
          44
         ],
         "y0": " ",
         "yaxis": "y"
        },
        {
         "alignmentgroup": "True",
         "hovertemplate": "decade=2010<br>acous=%{y}<extra></extra>",
         "legendgroup": "2010",
         "marker": {
          "color": "#FF6692"
         },
         "name": "2010",
         "notched": false,
         "offsetgroup": "2010",
         "orientation": "v",
         "showlegend": true,
         "type": "box",
         "x0": " ",
         "xaxis": "x",
         "y": [
          33,
          59,
          5,
          4,
          12,
          26,
          53,
          3,
          4,
          1,
          7,
          0,
          14,
          21,
          55,
          22,
          6,
          7,
          4,
          84,
          0,
          11,
          5,
          54,
          11,
          4,
          38,
          9,
          4,
          9,
          69,
          26,
          2,
          0,
          11,
          3,
          23,
          4,
          10,
          75,
          13,
          11,
          9,
          3,
          19,
          31,
          25,
          12,
          7,
          2,
          12,
          17,
          2,
          26,
          18,
          4,
          9,
          1,
          26,
          6,
          39,
          0,
          5,
          0,
          69,
          11,
          2,
          3,
          2,
          12,
          50,
          6,
          2,
          4,
          8,
          15,
          22,
          20,
          7,
          9,
          5,
          19,
          16,
          3,
          8,
          3,
          0,
          6,
          10,
          22,
          10,
          0,
          11,
          0,
          6,
          3,
          0,
          0,
          6,
          16,
          19
         ],
         "y0": " ",
         "yaxis": "y"
        }
       ],
       "layout": {
        "boxmode": "group",
        "legend": {
         "title": {
          "text": "decade"
         },
         "tracegroupgap": 0
        },
        "margin": {
         "t": 60
        },
        "template": {
         "data": {
          "bar": [
           {
            "error_x": {
             "color": "#2a3f5f"
            },
            "error_y": {
             "color": "#2a3f5f"
            },
            "marker": {
             "line": {
              "color": "#E5ECF6",
              "width": 0.5
             }
            },
            "type": "bar"
           }
          ],
          "barpolar": [
           {
            "marker": {
             "line": {
              "color": "#E5ECF6",
              "width": 0.5
             }
            },
            "type": "barpolar"
           }
          ],
          "carpet": [
           {
            "aaxis": {
             "endlinecolor": "#2a3f5f",
             "gridcolor": "white",
             "linecolor": "white",
             "minorgridcolor": "white",
             "startlinecolor": "#2a3f5f"
            },
            "baxis": {
             "endlinecolor": "#2a3f5f",
             "gridcolor": "white",
             "linecolor": "white",
             "minorgridcolor": "white",
             "startlinecolor": "#2a3f5f"
            },
            "type": "carpet"
           }
          ],
          "choropleth": [
           {
            "colorbar": {
             "outlinewidth": 0,
             "ticks": ""
            },
            "type": "choropleth"
           }
          ],
          "contour": [
           {
            "colorbar": {
             "outlinewidth": 0,
             "ticks": ""
            },
            "colorscale": [
             [
              0,
              "#0d0887"
             ],
             [
              0.1111111111111111,
              "#46039f"
             ],
             [
              0.2222222222222222,
              "#7201a8"
             ],
             [
              0.3333333333333333,
              "#9c179e"
             ],
             [
              0.4444444444444444,
              "#bd3786"
             ],
             [
              0.5555555555555556,
              "#d8576b"
             ],
             [
              0.6666666666666666,
              "#ed7953"
             ],
             [
              0.7777777777777778,
              "#fb9f3a"
             ],
             [
              0.8888888888888888,
              "#fdca26"
             ],
             [
              1,
              "#f0f921"
             ]
            ],
            "type": "contour"
           }
          ],
          "contourcarpet": [
           {
            "colorbar": {
             "outlinewidth": 0,
             "ticks": ""
            },
            "type": "contourcarpet"
           }
          ],
          "heatmap": [
           {
            "colorbar": {
             "outlinewidth": 0,
             "ticks": ""
            },
            "colorscale": [
             [
              0,
              "#0d0887"
             ],
             [
              0.1111111111111111,
              "#46039f"
             ],
             [
              0.2222222222222222,
              "#7201a8"
             ],
             [
              0.3333333333333333,
              "#9c179e"
             ],
             [
              0.4444444444444444,
              "#bd3786"
             ],
             [
              0.5555555555555556,
              "#d8576b"
             ],
             [
              0.6666666666666666,
              "#ed7953"
             ],
             [
              0.7777777777777778,
              "#fb9f3a"
             ],
             [
              0.8888888888888888,
              "#fdca26"
             ],
             [
              1,
              "#f0f921"
             ]
            ],
            "type": "heatmap"
           }
          ],
          "heatmapgl": [
           {
            "colorbar": {
             "outlinewidth": 0,
             "ticks": ""
            },
            "colorscale": [
             [
              0,
              "#0d0887"
             ],
             [
              0.1111111111111111,
              "#46039f"
             ],
             [
              0.2222222222222222,
              "#7201a8"
             ],
             [
              0.3333333333333333,
              "#9c179e"
             ],
             [
              0.4444444444444444,
              "#bd3786"
             ],
             [
              0.5555555555555556,
              "#d8576b"
             ],
             [
              0.6666666666666666,
              "#ed7953"
             ],
             [
              0.7777777777777778,
              "#fb9f3a"
             ],
             [
              0.8888888888888888,
              "#fdca26"
             ],
             [
              1,
              "#f0f921"
             ]
            ],
            "type": "heatmapgl"
           }
          ],
          "histogram": [
           {
            "marker": {
             "colorbar": {
              "outlinewidth": 0,
              "ticks": ""
             }
            },
            "type": "histogram"
           }
          ],
          "histogram2d": [
           {
            "colorbar": {
             "outlinewidth": 0,
             "ticks": ""
            },
            "colorscale": [
             [
              0,
              "#0d0887"
             ],
             [
              0.1111111111111111,
              "#46039f"
             ],
             [
              0.2222222222222222,
              "#7201a8"
             ],
             [
              0.3333333333333333,
              "#9c179e"
             ],
             [
              0.4444444444444444,
              "#bd3786"
             ],
             [
              0.5555555555555556,
              "#d8576b"
             ],
             [
              0.6666666666666666,
              "#ed7953"
             ],
             [
              0.7777777777777778,
              "#fb9f3a"
             ],
             [
              0.8888888888888888,
              "#fdca26"
             ],
             [
              1,
              "#f0f921"
             ]
            ],
            "type": "histogram2d"
           }
          ],
          "histogram2dcontour": [
           {
            "colorbar": {
             "outlinewidth": 0,
             "ticks": ""
            },
            "colorscale": [
             [
              0,
              "#0d0887"
             ],
             [
              0.1111111111111111,
              "#46039f"
             ],
             [
              0.2222222222222222,
              "#7201a8"
             ],
             [
              0.3333333333333333,
              "#9c179e"
             ],
             [
              0.4444444444444444,
              "#bd3786"
             ],
             [
              0.5555555555555556,
              "#d8576b"
             ],
             [
              0.6666666666666666,
              "#ed7953"
             ],
             [
              0.7777777777777778,
              "#fb9f3a"
             ],
             [
              0.8888888888888888,
              "#fdca26"
             ],
             [
              1,
              "#f0f921"
             ]
            ],
            "type": "histogram2dcontour"
           }
          ],
          "mesh3d": [
           {
            "colorbar": {
             "outlinewidth": 0,
             "ticks": ""
            },
            "type": "mesh3d"
           }
          ],
          "parcoords": [
           {
            "line": {
             "colorbar": {
              "outlinewidth": 0,
              "ticks": ""
             }
            },
            "type": "parcoords"
           }
          ],
          "pie": [
           {
            "automargin": true,
            "type": "pie"
           }
          ],
          "scatter": [
           {
            "marker": {
             "colorbar": {
              "outlinewidth": 0,
              "ticks": ""
             }
            },
            "type": "scatter"
           }
          ],
          "scatter3d": [
           {
            "line": {
             "colorbar": {
              "outlinewidth": 0,
              "ticks": ""
             }
            },
            "marker": {
             "colorbar": {
              "outlinewidth": 0,
              "ticks": ""
             }
            },
            "type": "scatter3d"
           }
          ],
          "scattercarpet": [
           {
            "marker": {
             "colorbar": {
              "outlinewidth": 0,
              "ticks": ""
             }
            },
            "type": "scattercarpet"
           }
          ],
          "scattergeo": [
           {
            "marker": {
             "colorbar": {
              "outlinewidth": 0,
              "ticks": ""
             }
            },
            "type": "scattergeo"
           }
          ],
          "scattergl": [
           {
            "marker": {
             "colorbar": {
              "outlinewidth": 0,
              "ticks": ""
             }
            },
            "type": "scattergl"
           }
          ],
          "scattermapbox": [
           {
            "marker": {
             "colorbar": {
              "outlinewidth": 0,
              "ticks": ""
             }
            },
            "type": "scattermapbox"
           }
          ],
          "scatterpolar": [
           {
            "marker": {
             "colorbar": {
              "outlinewidth": 0,
              "ticks": ""
             }
            },
            "type": "scatterpolar"
           }
          ],
          "scatterpolargl": [
           {
            "marker": {
             "colorbar": {
              "outlinewidth": 0,
              "ticks": ""
             }
            },
            "type": "scatterpolargl"
           }
          ],
          "scatterternary": [
           {
            "marker": {
             "colorbar": {
              "outlinewidth": 0,
              "ticks": ""
             }
            },
            "type": "scatterternary"
           }
          ],
          "surface": [
           {
            "colorbar": {
             "outlinewidth": 0,
             "ticks": ""
            },
            "colorscale": [
             [
              0,
              "#0d0887"
             ],
             [
              0.1111111111111111,
              "#46039f"
             ],
             [
              0.2222222222222222,
              "#7201a8"
             ],
             [
              0.3333333333333333,
              "#9c179e"
             ],
             [
              0.4444444444444444,
              "#bd3786"
             ],
             [
              0.5555555555555556,
              "#d8576b"
             ],
             [
              0.6666666666666666,
              "#ed7953"
             ],
             [
              0.7777777777777778,
              "#fb9f3a"
             ],
             [
              0.8888888888888888,
              "#fdca26"
             ],
             [
              1,
              "#f0f921"
             ]
            ],
            "type": "surface"
           }
          ],
          "table": [
           {
            "cells": {
             "fill": {
              "color": "#EBF0F8"
             },
             "line": {
              "color": "white"
             }
            },
            "header": {
             "fill": {
              "color": "#C8D4E3"
             },
             "line": {
              "color": "white"
             }
            },
            "type": "table"
           }
          ]
         },
         "layout": {
          "annotationdefaults": {
           "arrowcolor": "#2a3f5f",
           "arrowhead": 0,
           "arrowwidth": 1
          },
          "autotypenumbers": "strict",
          "coloraxis": {
           "colorbar": {
            "outlinewidth": 0,
            "ticks": ""
           }
          },
          "colorscale": {
           "diverging": [
            [
             0,
             "#8e0152"
            ],
            [
             0.1,
             "#c51b7d"
            ],
            [
             0.2,
             "#de77ae"
            ],
            [
             0.3,
             "#f1b6da"
            ],
            [
             0.4,
             "#fde0ef"
            ],
            [
             0.5,
             "#f7f7f7"
            ],
            [
             0.6,
             "#e6f5d0"
            ],
            [
             0.7,
             "#b8e186"
            ],
            [
             0.8,
             "#7fbc41"
            ],
            [
             0.9,
             "#4d9221"
            ],
            [
             1,
             "#276419"
            ]
           ],
           "sequential": [
            [
             0,
             "#0d0887"
            ],
            [
             0.1111111111111111,
             "#46039f"
            ],
            [
             0.2222222222222222,
             "#7201a8"
            ],
            [
             0.3333333333333333,
             "#9c179e"
            ],
            [
             0.4444444444444444,
             "#bd3786"
            ],
            [
             0.5555555555555556,
             "#d8576b"
            ],
            [
             0.6666666666666666,
             "#ed7953"
            ],
            [
             0.7777777777777778,
             "#fb9f3a"
            ],
            [
             0.8888888888888888,
             "#fdca26"
            ],
            [
             1,
             "#f0f921"
            ]
           ],
           "sequentialminus": [
            [
             0,
             "#0d0887"
            ],
            [
             0.1111111111111111,
             "#46039f"
            ],
            [
             0.2222222222222222,
             "#7201a8"
            ],
            [
             0.3333333333333333,
             "#9c179e"
            ],
            [
             0.4444444444444444,
             "#bd3786"
            ],
            [
             0.5555555555555556,
             "#d8576b"
            ],
            [
             0.6666666666666666,
             "#ed7953"
            ],
            [
             0.7777777777777778,
             "#fb9f3a"
            ],
            [
             0.8888888888888888,
             "#fdca26"
            ],
            [
             1,
             "#f0f921"
            ]
           ]
          },
          "colorway": [
           "#636efa",
           "#EF553B",
           "#00cc96",
           "#ab63fa",
           "#FFA15A",
           "#19d3f3",
           "#FF6692",
           "#B6E880",
           "#FF97FF",
           "#FECB52"
          ],
          "font": {
           "color": "#2a3f5f"
          },
          "geo": {
           "bgcolor": "white",
           "lakecolor": "white",
           "landcolor": "#E5ECF6",
           "showlakes": true,
           "showland": true,
           "subunitcolor": "white"
          },
          "hoverlabel": {
           "align": "left"
          },
          "hovermode": "closest",
          "mapbox": {
           "style": "light"
          },
          "paper_bgcolor": "white",
          "plot_bgcolor": "#E5ECF6",
          "polar": {
           "angularaxis": {
            "gridcolor": "white",
            "linecolor": "white",
            "ticks": ""
           },
           "bgcolor": "#E5ECF6",
           "radialaxis": {
            "gridcolor": "white",
            "linecolor": "white",
            "ticks": ""
           }
          },
          "scene": {
           "xaxis": {
            "backgroundcolor": "#E5ECF6",
            "gridcolor": "white",
            "gridwidth": 2,
            "linecolor": "white",
            "showbackground": true,
            "ticks": "",
            "zerolinecolor": "white"
           },
           "yaxis": {
            "backgroundcolor": "#E5ECF6",
            "gridcolor": "white",
            "gridwidth": 2,
            "linecolor": "white",
            "showbackground": true,
            "ticks": "",
            "zerolinecolor": "white"
           },
           "zaxis": {
            "backgroundcolor": "#E5ECF6",
            "gridcolor": "white",
            "gridwidth": 2,
            "linecolor": "white",
            "showbackground": true,
            "ticks": "",
            "zerolinecolor": "white"
           }
          },
          "shapedefaults": {
           "line": {
            "color": "#2a3f5f"
           }
          },
          "ternary": {
           "aaxis": {
            "gridcolor": "white",
            "linecolor": "white",
            "ticks": ""
           },
           "baxis": {
            "gridcolor": "white",
            "linecolor": "white",
            "ticks": ""
           },
           "bgcolor": "#E5ECF6",
           "caxis": {
            "gridcolor": "white",
            "linecolor": "white",
            "ticks": ""
           }
          },
          "title": {
           "x": 0.05
          },
          "xaxis": {
           "automargin": true,
           "gridcolor": "white",
           "linecolor": "white",
           "ticks": "",
           "title": {
            "standoff": 15
           },
           "zerolinecolor": "white",
           "zerolinewidth": 2
          },
          "yaxis": {
           "automargin": true,
           "gridcolor": "white",
           "linecolor": "white",
           "ticks": "",
           "title": {
            "standoff": 15
           },
           "zerolinecolor": "white",
           "zerolinewidth": 2
          }
         }
        },
        "xaxis": {
         "anchor": "y",
         "domain": [
          0,
          1
         ]
        },
        "yaxis": {
         "anchor": "x",
         "domain": [
          0,
          1
         ],
         "title": {
          "text": "acous"
         }
        }
       }
      }
     },
     "metadata": {},
     "output_type": "display_data"
    },
    {
     "name": "stdout",
     "output_type": "stream",
     "text": [
      "Box plot for spch per decade\n"
     ]
    },
    {
     "data": {
      "application/vnd.plotly.v1+json": {
       "config": {
        "plotlyServerURL": "https://plot.ly"
       },
       "data": [
        {
         "alignmentgroup": "True",
         "hovertemplate": "decade=1950<br>spch=%{y}<extra></extra>",
         "legendgroup": "1950",
         "marker": {
          "color": "#636efa"
         },
         "name": "1950",
         "notched": false,
         "offsetgroup": "1950",
         "orientation": "v",
         "showlegend": true,
         "type": "box",
         "x0": " ",
         "xaxis": "x",
         "y": [
          3,
          4,
          4,
          6,
          3,
          4,
          3,
          3,
          4,
          9,
          3,
          3,
          5,
          5,
          9,
          3,
          3,
          3,
          3,
          6,
          4,
          7,
          4,
          4,
          3,
          6,
          3,
          9,
          3,
          4,
          3,
          3,
          6,
          4,
          4,
          3,
          7,
          3,
          4,
          3,
          3,
          3,
          3,
          7,
          5,
          9,
          3,
          3,
          4,
          3,
          3,
          3,
          6,
          3,
          3,
          4,
          3,
          3,
          11,
          5,
          3,
          3,
          3,
          3,
          4,
          4,
          5,
          3,
          4,
          3,
          4,
          4,
          3
         ],
         "y0": " ",
         "yaxis": "y"
        },
        {
         "alignmentgroup": "True",
         "hovertemplate": "decade=1960<br>spch=%{y}<extra></extra>",
         "legendgroup": "1960",
         "marker": {
          "color": "#EF553B"
         },
         "name": "1960",
         "notched": false,
         "offsetgroup": "1960",
         "orientation": "v",
         "showlegend": true,
         "type": "box",
         "x0": " ",
         "xaxis": "x",
         "y": [
          3,
          4,
          3,
          3,
          3,
          5,
          5,
          3,
          3,
          3,
          3,
          4,
          4,
          8,
          3,
          3,
          9,
          4,
          2,
          4,
          4,
          5,
          5,
          3,
          6,
          4,
          6,
          4,
          3,
          8,
          3,
          3,
          3,
          3,
          3,
          3,
          4,
          4,
          3,
          5,
          8,
          4,
          3,
          4,
          4,
          3,
          6,
          4,
          3,
          7,
          4,
          4,
          4,
          7,
          3,
          3,
          3,
          3,
          4,
          3,
          8,
          3,
          3,
          3,
          8,
          3,
          3,
          3,
          8,
          4,
          4,
          4,
          3,
          3,
          8,
          6,
          3,
          31,
          3,
          11,
          8,
          7,
          3,
          3,
          3,
          8,
          4,
          3,
          3,
          3,
          5,
          9,
          6,
          3,
          4,
          5,
          14
         ],
         "y0": " ",
         "yaxis": "y"
        },
        {
         "alignmentgroup": "True",
         "hovertemplate": "decade=1970<br>spch=%{y}<extra></extra>",
         "legendgroup": "1970",
         "marker": {
          "color": "#00cc96"
         },
         "name": "1970",
         "notched": false,
         "offsetgroup": "1970",
         "orientation": "v",
         "showlegend": true,
         "type": "box",
         "x0": " ",
         "xaxis": "x",
         "y": [
          5,
          13,
          17,
          3,
          12,
          3,
          3,
          3,
          3,
          4,
          6,
          3,
          3,
          3,
          3,
          6,
          10,
          3,
          3,
          3,
          4,
          3,
          3,
          5,
          6,
          5,
          6,
          3,
          3,
          7,
          4,
          4,
          14,
          3,
          4,
          3,
          3,
          3,
          7,
          3,
          4,
          3,
          4,
          5,
          3,
          3,
          4,
          9,
          5,
          4,
          3,
          5,
          3,
          6,
          5,
          11,
          6,
          4,
          3,
          4,
          3,
          10,
          3,
          3,
          3,
          3,
          3,
          5,
          4,
          3,
          3,
          5,
          4,
          11,
          3,
          3,
          4,
          4,
          3,
          5,
          5,
          5,
          3,
          10,
          3,
          4,
          4,
          5,
          3,
          4,
          4,
          4,
          8,
          4,
          3,
          4,
          4,
          5,
          3,
          4,
          6,
          3,
          3,
          12
         ],
         "y0": " ",
         "yaxis": "y"
        },
        {
         "alignmentgroup": "True",
         "hovertemplate": "decade=1980<br>spch=%{y}<extra></extra>",
         "legendgroup": "1980",
         "marker": {
          "color": "#ab63fa"
         },
         "name": "1980",
         "notched": false,
         "offsetgroup": "1980",
         "orientation": "v",
         "showlegend": true,
         "type": "box",
         "x0": " ",
         "xaxis": "x",
         "y": [
          3,
          3,
          16,
          6,
          5,
          4,
          5,
          5,
          18,
          3,
          5,
          4,
          3,
          5,
          3,
          3,
          3,
          6,
          10,
          3,
          7,
          3,
          11,
          3,
          4,
          3,
          3,
          4,
          3,
          3,
          4,
          3,
          3,
          3,
          3,
          4,
          3,
          3,
          3,
          4,
          4,
          3,
          3,
          4,
          3,
          3,
          3,
          8,
          3,
          5,
          3,
          3,
          9,
          3,
          4,
          5,
          6,
          5,
          3,
          3,
          3,
          3,
          4,
          3,
          3,
          3,
          3,
          4,
          4,
          3,
          4,
          4,
          4,
          3,
          5,
          5,
          12,
          4,
          3,
          3,
          4,
          3,
          4,
          5,
          3,
          8,
          3,
          3,
          4,
          3,
          4,
          4,
          3,
          4,
          2,
          4,
          5,
          4,
          3,
          3,
          19,
          4,
          4,
          4
         ],
         "y0": " ",
         "yaxis": "y"
        },
        {
         "alignmentgroup": "True",
         "hovertemplate": "decade=1990<br>spch=%{y}<extra></extra>",
         "legendgroup": "1990",
         "marker": {
          "color": "#FFA15A"
         },
         "name": "1990",
         "notched": false,
         "offsetgroup": "1990",
         "orientation": "v",
         "showlegend": true,
         "type": "box",
         "x0": " ",
         "xaxis": "x",
         "y": [
          10,
          3,
          7,
          3,
          27,
          36,
          4,
          4,
          3,
          6,
          4,
          3,
          11,
          9,
          5,
          6,
          3,
          2,
          6,
          8,
          4,
          5,
          5,
          4,
          3,
          6,
          3,
          3,
          2,
          15,
          28,
          3,
          3,
          3,
          4,
          16,
          5,
          4,
          4,
          3,
          2,
          4,
          3,
          3,
          2,
          6,
          4,
          3,
          10,
          3,
          3,
          4,
          8,
          5,
          26,
          21,
          8,
          3,
          3,
          3,
          5,
          4,
          3,
          4,
          3,
          4,
          3,
          3,
          4,
          4,
          4,
          3,
          4,
          7,
          3,
          3,
          8,
          3,
          22,
          4,
          5,
          13,
          3,
          4,
          3,
          7,
          19,
          3
         ],
         "y0": " ",
         "yaxis": "y"
        },
        {
         "alignmentgroup": "True",
         "hovertemplate": "decade=2000<br>spch=%{y}<extra></extra>",
         "legendgroup": "2000",
         "marker": {
          "color": "#19d3f3"
         },
         "name": "2000",
         "notched": false,
         "offsetgroup": "2000",
         "orientation": "v",
         "showlegend": true,
         "type": "box",
         "x0": " ",
         "xaxis": "x",
         "y": [
          6,
          2,
          4,
          3,
          13,
          15,
          6,
          8,
          33,
          11,
          6,
          4,
          47,
          4,
          9,
          31,
          7,
          14,
          3,
          6,
          37,
          4,
          8,
          6,
          9,
          6,
          26,
          4,
          7,
          3,
          18,
          7,
          26,
          6,
          4,
          6,
          4,
          16,
          5,
          8,
          20,
          9,
          3,
          16,
          28,
          8,
          6,
          4,
          38,
          4,
          6,
          18,
          3,
          16,
          9,
          8,
          4,
          4,
          3,
          3,
          5,
          3,
          4,
          3,
          10,
          4,
          2,
          23,
          7,
          4,
          4,
          3,
          3,
          3,
          4,
          3,
          4,
          6,
          47,
          12,
          3,
          32,
          4,
          3,
          3,
          2,
          3,
          13,
          6,
          21,
          9,
          14,
          5,
          7,
          5,
          32,
          16,
          3,
          3,
          4
         ],
         "y0": " ",
         "yaxis": "y"
        },
        {
         "alignmentgroup": "True",
         "hovertemplate": "decade=2010<br>spch=%{y}<extra></extra>",
         "legendgroup": "2010",
         "marker": {
          "color": "#FF6692"
         },
         "name": "2010",
         "notched": false,
         "offsetgroup": "2010",
         "orientation": "v",
         "showlegend": true,
         "type": "box",
         "x0": " ",
         "xaxis": "x",
         "y": [
          38,
          33,
          10,
          3,
          7,
          14,
          6,
          11,
          11,
          4,
          4,
          10,
          28,
          5,
          11,
          4,
          13,
          5,
          6,
          3,
          7,
          34,
          3,
          3,
          5,
          9,
          6,
          6,
          3,
          3,
          30,
          9,
          4,
          4,
          4,
          5,
          5,
          4,
          4,
          3,
          8,
          19,
          3,
          11,
          16,
          5,
          6,
          7,
          6,
          4,
          5,
          4,
          46,
          6,
          6,
          12,
          6,
          6,
          3,
          6,
          5,
          4,
          4,
          5,
          5,
          12,
          5,
          5,
          3,
          13,
          5,
          13,
          3,
          3,
          10,
          3,
          6,
          5,
          7,
          5,
          5,
          5,
          14,
          8,
          5,
          22,
          13,
          4,
          4,
          8,
          4,
          4,
          10,
          16,
          4,
          10,
          8,
          3,
          7,
          7,
          4
         ],
         "y0": " ",
         "yaxis": "y"
        }
       ],
       "layout": {
        "boxmode": "group",
        "legend": {
         "title": {
          "text": "decade"
         },
         "tracegroupgap": 0
        },
        "margin": {
         "t": 60
        },
        "template": {
         "data": {
          "bar": [
           {
            "error_x": {
             "color": "#2a3f5f"
            },
            "error_y": {
             "color": "#2a3f5f"
            },
            "marker": {
             "line": {
              "color": "#E5ECF6",
              "width": 0.5
             }
            },
            "type": "bar"
           }
          ],
          "barpolar": [
           {
            "marker": {
             "line": {
              "color": "#E5ECF6",
              "width": 0.5
             }
            },
            "type": "barpolar"
           }
          ],
          "carpet": [
           {
            "aaxis": {
             "endlinecolor": "#2a3f5f",
             "gridcolor": "white",
             "linecolor": "white",
             "minorgridcolor": "white",
             "startlinecolor": "#2a3f5f"
            },
            "baxis": {
             "endlinecolor": "#2a3f5f",
             "gridcolor": "white",
             "linecolor": "white",
             "minorgridcolor": "white",
             "startlinecolor": "#2a3f5f"
            },
            "type": "carpet"
           }
          ],
          "choropleth": [
           {
            "colorbar": {
             "outlinewidth": 0,
             "ticks": ""
            },
            "type": "choropleth"
           }
          ],
          "contour": [
           {
            "colorbar": {
             "outlinewidth": 0,
             "ticks": ""
            },
            "colorscale": [
             [
              0,
              "#0d0887"
             ],
             [
              0.1111111111111111,
              "#46039f"
             ],
             [
              0.2222222222222222,
              "#7201a8"
             ],
             [
              0.3333333333333333,
              "#9c179e"
             ],
             [
              0.4444444444444444,
              "#bd3786"
             ],
             [
              0.5555555555555556,
              "#d8576b"
             ],
             [
              0.6666666666666666,
              "#ed7953"
             ],
             [
              0.7777777777777778,
              "#fb9f3a"
             ],
             [
              0.8888888888888888,
              "#fdca26"
             ],
             [
              1,
              "#f0f921"
             ]
            ],
            "type": "contour"
           }
          ],
          "contourcarpet": [
           {
            "colorbar": {
             "outlinewidth": 0,
             "ticks": ""
            },
            "type": "contourcarpet"
           }
          ],
          "heatmap": [
           {
            "colorbar": {
             "outlinewidth": 0,
             "ticks": ""
            },
            "colorscale": [
             [
              0,
              "#0d0887"
             ],
             [
              0.1111111111111111,
              "#46039f"
             ],
             [
              0.2222222222222222,
              "#7201a8"
             ],
             [
              0.3333333333333333,
              "#9c179e"
             ],
             [
              0.4444444444444444,
              "#bd3786"
             ],
             [
              0.5555555555555556,
              "#d8576b"
             ],
             [
              0.6666666666666666,
              "#ed7953"
             ],
             [
              0.7777777777777778,
              "#fb9f3a"
             ],
             [
              0.8888888888888888,
              "#fdca26"
             ],
             [
              1,
              "#f0f921"
             ]
            ],
            "type": "heatmap"
           }
          ],
          "heatmapgl": [
           {
            "colorbar": {
             "outlinewidth": 0,
             "ticks": ""
            },
            "colorscale": [
             [
              0,
              "#0d0887"
             ],
             [
              0.1111111111111111,
              "#46039f"
             ],
             [
              0.2222222222222222,
              "#7201a8"
             ],
             [
              0.3333333333333333,
              "#9c179e"
             ],
             [
              0.4444444444444444,
              "#bd3786"
             ],
             [
              0.5555555555555556,
              "#d8576b"
             ],
             [
              0.6666666666666666,
              "#ed7953"
             ],
             [
              0.7777777777777778,
              "#fb9f3a"
             ],
             [
              0.8888888888888888,
              "#fdca26"
             ],
             [
              1,
              "#f0f921"
             ]
            ],
            "type": "heatmapgl"
           }
          ],
          "histogram": [
           {
            "marker": {
             "colorbar": {
              "outlinewidth": 0,
              "ticks": ""
             }
            },
            "type": "histogram"
           }
          ],
          "histogram2d": [
           {
            "colorbar": {
             "outlinewidth": 0,
             "ticks": ""
            },
            "colorscale": [
             [
              0,
              "#0d0887"
             ],
             [
              0.1111111111111111,
              "#46039f"
             ],
             [
              0.2222222222222222,
              "#7201a8"
             ],
             [
              0.3333333333333333,
              "#9c179e"
             ],
             [
              0.4444444444444444,
              "#bd3786"
             ],
             [
              0.5555555555555556,
              "#d8576b"
             ],
             [
              0.6666666666666666,
              "#ed7953"
             ],
             [
              0.7777777777777778,
              "#fb9f3a"
             ],
             [
              0.8888888888888888,
              "#fdca26"
             ],
             [
              1,
              "#f0f921"
             ]
            ],
            "type": "histogram2d"
           }
          ],
          "histogram2dcontour": [
           {
            "colorbar": {
             "outlinewidth": 0,
             "ticks": ""
            },
            "colorscale": [
             [
              0,
              "#0d0887"
             ],
             [
              0.1111111111111111,
              "#46039f"
             ],
             [
              0.2222222222222222,
              "#7201a8"
             ],
             [
              0.3333333333333333,
              "#9c179e"
             ],
             [
              0.4444444444444444,
              "#bd3786"
             ],
             [
              0.5555555555555556,
              "#d8576b"
             ],
             [
              0.6666666666666666,
              "#ed7953"
             ],
             [
              0.7777777777777778,
              "#fb9f3a"
             ],
             [
              0.8888888888888888,
              "#fdca26"
             ],
             [
              1,
              "#f0f921"
             ]
            ],
            "type": "histogram2dcontour"
           }
          ],
          "mesh3d": [
           {
            "colorbar": {
             "outlinewidth": 0,
             "ticks": ""
            },
            "type": "mesh3d"
           }
          ],
          "parcoords": [
           {
            "line": {
             "colorbar": {
              "outlinewidth": 0,
              "ticks": ""
             }
            },
            "type": "parcoords"
           }
          ],
          "pie": [
           {
            "automargin": true,
            "type": "pie"
           }
          ],
          "scatter": [
           {
            "marker": {
             "colorbar": {
              "outlinewidth": 0,
              "ticks": ""
             }
            },
            "type": "scatter"
           }
          ],
          "scatter3d": [
           {
            "line": {
             "colorbar": {
              "outlinewidth": 0,
              "ticks": ""
             }
            },
            "marker": {
             "colorbar": {
              "outlinewidth": 0,
              "ticks": ""
             }
            },
            "type": "scatter3d"
           }
          ],
          "scattercarpet": [
           {
            "marker": {
             "colorbar": {
              "outlinewidth": 0,
              "ticks": ""
             }
            },
            "type": "scattercarpet"
           }
          ],
          "scattergeo": [
           {
            "marker": {
             "colorbar": {
              "outlinewidth": 0,
              "ticks": ""
             }
            },
            "type": "scattergeo"
           }
          ],
          "scattergl": [
           {
            "marker": {
             "colorbar": {
              "outlinewidth": 0,
              "ticks": ""
             }
            },
            "type": "scattergl"
           }
          ],
          "scattermapbox": [
           {
            "marker": {
             "colorbar": {
              "outlinewidth": 0,
              "ticks": ""
             }
            },
            "type": "scattermapbox"
           }
          ],
          "scatterpolar": [
           {
            "marker": {
             "colorbar": {
              "outlinewidth": 0,
              "ticks": ""
             }
            },
            "type": "scatterpolar"
           }
          ],
          "scatterpolargl": [
           {
            "marker": {
             "colorbar": {
              "outlinewidth": 0,
              "ticks": ""
             }
            },
            "type": "scatterpolargl"
           }
          ],
          "scatterternary": [
           {
            "marker": {
             "colorbar": {
              "outlinewidth": 0,
              "ticks": ""
             }
            },
            "type": "scatterternary"
           }
          ],
          "surface": [
           {
            "colorbar": {
             "outlinewidth": 0,
             "ticks": ""
            },
            "colorscale": [
             [
              0,
              "#0d0887"
             ],
             [
              0.1111111111111111,
              "#46039f"
             ],
             [
              0.2222222222222222,
              "#7201a8"
             ],
             [
              0.3333333333333333,
              "#9c179e"
             ],
             [
              0.4444444444444444,
              "#bd3786"
             ],
             [
              0.5555555555555556,
              "#d8576b"
             ],
             [
              0.6666666666666666,
              "#ed7953"
             ],
             [
              0.7777777777777778,
              "#fb9f3a"
             ],
             [
              0.8888888888888888,
              "#fdca26"
             ],
             [
              1,
              "#f0f921"
             ]
            ],
            "type": "surface"
           }
          ],
          "table": [
           {
            "cells": {
             "fill": {
              "color": "#EBF0F8"
             },
             "line": {
              "color": "white"
             }
            },
            "header": {
             "fill": {
              "color": "#C8D4E3"
             },
             "line": {
              "color": "white"
             }
            },
            "type": "table"
           }
          ]
         },
         "layout": {
          "annotationdefaults": {
           "arrowcolor": "#2a3f5f",
           "arrowhead": 0,
           "arrowwidth": 1
          },
          "autotypenumbers": "strict",
          "coloraxis": {
           "colorbar": {
            "outlinewidth": 0,
            "ticks": ""
           }
          },
          "colorscale": {
           "diverging": [
            [
             0,
             "#8e0152"
            ],
            [
             0.1,
             "#c51b7d"
            ],
            [
             0.2,
             "#de77ae"
            ],
            [
             0.3,
             "#f1b6da"
            ],
            [
             0.4,
             "#fde0ef"
            ],
            [
             0.5,
             "#f7f7f7"
            ],
            [
             0.6,
             "#e6f5d0"
            ],
            [
             0.7,
             "#b8e186"
            ],
            [
             0.8,
             "#7fbc41"
            ],
            [
             0.9,
             "#4d9221"
            ],
            [
             1,
             "#276419"
            ]
           ],
           "sequential": [
            [
             0,
             "#0d0887"
            ],
            [
             0.1111111111111111,
             "#46039f"
            ],
            [
             0.2222222222222222,
             "#7201a8"
            ],
            [
             0.3333333333333333,
             "#9c179e"
            ],
            [
             0.4444444444444444,
             "#bd3786"
            ],
            [
             0.5555555555555556,
             "#d8576b"
            ],
            [
             0.6666666666666666,
             "#ed7953"
            ],
            [
             0.7777777777777778,
             "#fb9f3a"
            ],
            [
             0.8888888888888888,
             "#fdca26"
            ],
            [
             1,
             "#f0f921"
            ]
           ],
           "sequentialminus": [
            [
             0,
             "#0d0887"
            ],
            [
             0.1111111111111111,
             "#46039f"
            ],
            [
             0.2222222222222222,
             "#7201a8"
            ],
            [
             0.3333333333333333,
             "#9c179e"
            ],
            [
             0.4444444444444444,
             "#bd3786"
            ],
            [
             0.5555555555555556,
             "#d8576b"
            ],
            [
             0.6666666666666666,
             "#ed7953"
            ],
            [
             0.7777777777777778,
             "#fb9f3a"
            ],
            [
             0.8888888888888888,
             "#fdca26"
            ],
            [
             1,
             "#f0f921"
            ]
           ]
          },
          "colorway": [
           "#636efa",
           "#EF553B",
           "#00cc96",
           "#ab63fa",
           "#FFA15A",
           "#19d3f3",
           "#FF6692",
           "#B6E880",
           "#FF97FF",
           "#FECB52"
          ],
          "font": {
           "color": "#2a3f5f"
          },
          "geo": {
           "bgcolor": "white",
           "lakecolor": "white",
           "landcolor": "#E5ECF6",
           "showlakes": true,
           "showland": true,
           "subunitcolor": "white"
          },
          "hoverlabel": {
           "align": "left"
          },
          "hovermode": "closest",
          "mapbox": {
           "style": "light"
          },
          "paper_bgcolor": "white",
          "plot_bgcolor": "#E5ECF6",
          "polar": {
           "angularaxis": {
            "gridcolor": "white",
            "linecolor": "white",
            "ticks": ""
           },
           "bgcolor": "#E5ECF6",
           "radialaxis": {
            "gridcolor": "white",
            "linecolor": "white",
            "ticks": ""
           }
          },
          "scene": {
           "xaxis": {
            "backgroundcolor": "#E5ECF6",
            "gridcolor": "white",
            "gridwidth": 2,
            "linecolor": "white",
            "showbackground": true,
            "ticks": "",
            "zerolinecolor": "white"
           },
           "yaxis": {
            "backgroundcolor": "#E5ECF6",
            "gridcolor": "white",
            "gridwidth": 2,
            "linecolor": "white",
            "showbackground": true,
            "ticks": "",
            "zerolinecolor": "white"
           },
           "zaxis": {
            "backgroundcolor": "#E5ECF6",
            "gridcolor": "white",
            "gridwidth": 2,
            "linecolor": "white",
            "showbackground": true,
            "ticks": "",
            "zerolinecolor": "white"
           }
          },
          "shapedefaults": {
           "line": {
            "color": "#2a3f5f"
           }
          },
          "ternary": {
           "aaxis": {
            "gridcolor": "white",
            "linecolor": "white",
            "ticks": ""
           },
           "baxis": {
            "gridcolor": "white",
            "linecolor": "white",
            "ticks": ""
           },
           "bgcolor": "#E5ECF6",
           "caxis": {
            "gridcolor": "white",
            "linecolor": "white",
            "ticks": ""
           }
          },
          "title": {
           "x": 0.05
          },
          "xaxis": {
           "automargin": true,
           "gridcolor": "white",
           "linecolor": "white",
           "ticks": "",
           "title": {
            "standoff": 15
           },
           "zerolinecolor": "white",
           "zerolinewidth": 2
          },
          "yaxis": {
           "automargin": true,
           "gridcolor": "white",
           "linecolor": "white",
           "ticks": "",
           "title": {
            "standoff": 15
           },
           "zerolinecolor": "white",
           "zerolinewidth": 2
          }
         }
        },
        "xaxis": {
         "anchor": "y",
         "domain": [
          0,
          1
         ]
        },
        "yaxis": {
         "anchor": "x",
         "domain": [
          0,
          1
         ],
         "title": {
          "text": "spch"
         }
        }
       }
      }
     },
     "metadata": {},
     "output_type": "display_data"
    },
    {
     "name": "stdout",
     "output_type": "stream",
     "text": [
      "Box plot for popularity per decade\n"
     ]
    },
    {
     "data": {
      "application/vnd.plotly.v1+json": {
       "config": {
        "plotlyServerURL": "https://plot.ly"
       },
       "data": [
        {
         "alignmentgroup": "True",
         "hovertemplate": "decade=1950<br>popularity=%{y}<extra></extra>",
         "legendgroup": "1950",
         "marker": {
          "color": "#636efa"
         },
         "name": "1950",
         "notched": false,
         "offsetgroup": "1950",
         "orientation": "v",
         "showlegend": true,
         "type": "box",
         "x0": " ",
         "xaxis": "x",
         "y": [
          72,
          62,
          61,
          60,
          60,
          57,
          56,
          55,
          55,
          54,
          54,
          53,
          52,
          52,
          51,
          49,
          48,
          48,
          48,
          47,
          47,
          47,
          45,
          44,
          44,
          44,
          44,
          43,
          41,
          41,
          41,
          40,
          40,
          39,
          39,
          39,
          39,
          39,
          38,
          38,
          38,
          38,
          37,
          37,
          37,
          36,
          36,
          35,
          35,
          35,
          34,
          34,
          33,
          33,
          33,
          33,
          32,
          31,
          31,
          31,
          31,
          30,
          30,
          30,
          29,
          29,
          28,
          28,
          27,
          27,
          27,
          26,
          26
         ],
         "y0": " ",
         "yaxis": "y"
        },
        {
         "alignmentgroup": "True",
         "hovertemplate": "decade=1960<br>popularity=%{y}<extra></extra>",
         "legendgroup": "1960",
         "marker": {
          "color": "#EF553B"
         },
         "name": "1960",
         "notched": false,
         "offsetgroup": "1960",
         "orientation": "v",
         "showlegend": true,
         "type": "box",
         "x0": " ",
         "xaxis": "x",
         "y": [
          82,
          79,
          78,
          78,
          78,
          76,
          74,
          73,
          72,
          72,
          72,
          71,
          69,
          68,
          68,
          67,
          66,
          66,
          65,
          63,
          62,
          62,
          62,
          61,
          60,
          60,
          59,
          59,
          59,
          59,
          59,
          58,
          58,
          58,
          57,
          56,
          56,
          56,
          56,
          55,
          54,
          54,
          54,
          54,
          54,
          53,
          53,
          53,
          52,
          52,
          52,
          51,
          51,
          51,
          50,
          50,
          49,
          49,
          49,
          49,
          48,
          47,
          47,
          46,
          46,
          46,
          46,
          46,
          46,
          46,
          45,
          45,
          45,
          44,
          44,
          44,
          43,
          43,
          42,
          42,
          42,
          42,
          41,
          41,
          41,
          41,
          41,
          41,
          40,
          39,
          38,
          38,
          37,
          37,
          36,
          30,
          30
         ],
         "y0": " ",
         "yaxis": "y"
        },
        {
         "alignmentgroup": "True",
         "hovertemplate": "decade=1970<br>popularity=%{y}<extra></extra>",
         "legendgroup": "1970",
         "marker": {
          "color": "#00cc96"
         },
         "name": "1970",
         "notched": false,
         "offsetgroup": "1970",
         "orientation": "v",
         "showlegend": true,
         "type": "box",
         "x0": " ",
         "xaxis": "x",
         "y": [
          84,
          83,
          82,
          81,
          79,
          79,
          79,
          79,
          79,
          78,
          77,
          77,
          77,
          76,
          75,
          75,
          75,
          75,
          75,
          75,
          74,
          74,
          74,
          74,
          74,
          74,
          73,
          73,
          72,
          72,
          72,
          72,
          71,
          70,
          70,
          69,
          69,
          68,
          68,
          68,
          68,
          67,
          67,
          67,
          66,
          66,
          66,
          66,
          66,
          65,
          65,
          65,
          65,
          65,
          65,
          64,
          64,
          63,
          63,
          63,
          62,
          62,
          62,
          61,
          61,
          61,
          61,
          61,
          60,
          60,
          60,
          60,
          60,
          59,
          59,
          59,
          59,
          58,
          58,
          57,
          57,
          56,
          56,
          56,
          56,
          56,
          56,
          56,
          56,
          55,
          55,
          54,
          53,
          53,
          53,
          52,
          52,
          51,
          50,
          49,
          48,
          46,
          44,
          40
         ],
         "y0": " ",
         "yaxis": "y"
        },
        {
         "alignmentgroup": "True",
         "hovertemplate": "decade=1980<br>popularity=%{y}<extra></extra>",
         "legendgroup": "1980",
         "marker": {
          "color": "#ab63fa"
         },
         "name": "1980",
         "notched": false,
         "offsetgroup": "1980",
         "orientation": "v",
         "showlegend": true,
         "type": "box",
         "x0": " ",
         "xaxis": "x",
         "y": [
          83,
          83,
          82,
          81,
          80,
          80,
          80,
          80,
          79,
          78,
          77,
          76,
          76,
          76,
          76,
          75,
          75,
          75,
          74,
          74,
          73,
          73,
          73,
          73,
          72,
          72,
          72,
          72,
          71,
          71,
          71,
          71,
          71,
          70,
          70,
          70,
          70,
          70,
          70,
          70,
          70,
          70,
          69,
          69,
          69,
          68,
          68,
          68,
          68,
          68,
          68,
          68,
          68,
          67,
          67,
          67,
          67,
          67,
          67,
          67,
          67,
          66,
          66,
          66,
          66,
          66,
          65,
          65,
          65,
          65,
          65,
          65,
          64,
          64,
          64,
          64,
          64,
          64,
          64,
          63,
          63,
          63,
          63,
          63,
          62,
          62,
          62,
          61,
          61,
          61,
          60,
          60,
          60,
          59,
          59,
          58,
          58,
          58,
          58,
          57,
          50,
          50,
          46,
          43
         ],
         "y0": " ",
         "yaxis": "y"
        },
        {
         "alignmentgroup": "True",
         "hovertemplate": "decade=1990<br>popularity=%{y}<extra></extra>",
         "legendgroup": "1990",
         "marker": {
          "color": "#FFA15A"
         },
         "name": "1990",
         "notched": false,
         "offsetgroup": "1990",
         "orientation": "v",
         "showlegend": true,
         "type": "box",
         "x0": " ",
         "xaxis": "x",
         "y": [
          79,
          76,
          76,
          74,
          74,
          73,
          73,
          73,
          73,
          73,
          73,
          73,
          72,
          72,
          71,
          71,
          71,
          71,
          71,
          71,
          70,
          70,
          70,
          69,
          69,
          69,
          69,
          68,
          68,
          68,
          68,
          68,
          68,
          67,
          67,
          67,
          67,
          66,
          66,
          66,
          66,
          65,
          65,
          65,
          65,
          64,
          64,
          64,
          64,
          63,
          63,
          62,
          62,
          62,
          62,
          62,
          62,
          61,
          61,
          61,
          61,
          60,
          60,
          60,
          59,
          59,
          58,
          58,
          58,
          57,
          57,
          56,
          56,
          56,
          56,
          56,
          55,
          55,
          55,
          54,
          54,
          53,
          53,
          50,
          48,
          46,
          46,
          43
         ],
         "y0": " ",
         "yaxis": "y"
        },
        {
         "alignmentgroup": "True",
         "hovertemplate": "decade=2000<br>popularity=%{y}<extra></extra>",
         "legendgroup": "2000",
         "marker": {
          "color": "#19d3f3"
         },
         "name": "2000",
         "notched": false,
         "offsetgroup": "2000",
         "orientation": "v",
         "showlegend": true,
         "type": "box",
         "x0": " ",
         "xaxis": "x",
         "y": [
          83,
          83,
          81,
          81,
          80,
          80,
          80,
          79,
          79,
          79,
          78,
          78,
          78,
          78,
          77,
          77,
          77,
          77,
          77,
          77,
          77,
          77,
          76,
          76,
          76,
          76,
          76,
          75,
          75,
          75,
          75,
          74,
          74,
          74,
          74,
          74,
          74,
          74,
          73,
          73,
          73,
          73,
          73,
          73,
          73,
          73,
          72,
          72,
          72,
          72,
          72,
          72,
          71,
          71,
          71,
          71,
          71,
          70,
          70,
          70,
          70,
          70,
          70,
          69,
          69,
          69,
          68,
          68,
          68,
          68,
          67,
          67,
          66,
          65,
          65,
          65,
          65,
          64,
          64,
          63,
          63,
          63,
          63,
          63,
          61,
          61,
          61,
          60,
          60,
          60,
          60,
          60,
          58,
          57,
          57,
          56,
          56,
          44,
          40,
          32
         ],
         "y0": " ",
         "yaxis": "y"
        },
        {
         "alignmentgroup": "True",
         "hovertemplate": "decade=2010<br>popularity=%{y}<extra></extra>",
         "legendgroup": "2010",
         "marker": {
          "color": "#FF6692"
         },
         "name": "2010",
         "notched": false,
         "offsetgroup": "2010",
         "orientation": "v",
         "showlegend": true,
         "type": "box",
         "x0": " ",
         "xaxis": "x",
         "y": [
          94,
          90,
          89,
          88,
          88,
          87,
          86,
          85,
          85,
          85,
          84,
          84,
          84,
          83,
          83,
          83,
          83,
          83,
          83,
          83,
          83,
          83,
          83,
          82,
          82,
          82,
          82,
          81,
          81,
          81,
          81,
          80,
          80,
          80,
          80,
          80,
          80,
          79,
          79,
          79,
          79,
          79,
          79,
          78,
          78,
          78,
          78,
          78,
          78,
          78,
          78,
          78,
          77,
          77,
          77,
          77,
          77,
          76,
          76,
          76,
          76,
          75,
          75,
          75,
          75,
          75,
          75,
          74,
          74,
          74,
          74,
          73,
          73,
          72,
          72,
          71,
          71,
          71,
          71,
          71,
          70,
          70,
          70,
          70,
          69,
          69,
          69,
          69,
          68,
          68,
          68,
          66,
          65,
          60,
          58,
          56,
          56,
          54,
          43,
          32,
          83
         ],
         "y0": " ",
         "yaxis": "y"
        }
       ],
       "layout": {
        "boxmode": "group",
        "legend": {
         "title": {
          "text": "decade"
         },
         "tracegroupgap": 0
        },
        "margin": {
         "t": 60
        },
        "template": {
         "data": {
          "bar": [
           {
            "error_x": {
             "color": "#2a3f5f"
            },
            "error_y": {
             "color": "#2a3f5f"
            },
            "marker": {
             "line": {
              "color": "#E5ECF6",
              "width": 0.5
             }
            },
            "type": "bar"
           }
          ],
          "barpolar": [
           {
            "marker": {
             "line": {
              "color": "#E5ECF6",
              "width": 0.5
             }
            },
            "type": "barpolar"
           }
          ],
          "carpet": [
           {
            "aaxis": {
             "endlinecolor": "#2a3f5f",
             "gridcolor": "white",
             "linecolor": "white",
             "minorgridcolor": "white",
             "startlinecolor": "#2a3f5f"
            },
            "baxis": {
             "endlinecolor": "#2a3f5f",
             "gridcolor": "white",
             "linecolor": "white",
             "minorgridcolor": "white",
             "startlinecolor": "#2a3f5f"
            },
            "type": "carpet"
           }
          ],
          "choropleth": [
           {
            "colorbar": {
             "outlinewidth": 0,
             "ticks": ""
            },
            "type": "choropleth"
           }
          ],
          "contour": [
           {
            "colorbar": {
             "outlinewidth": 0,
             "ticks": ""
            },
            "colorscale": [
             [
              0,
              "#0d0887"
             ],
             [
              0.1111111111111111,
              "#46039f"
             ],
             [
              0.2222222222222222,
              "#7201a8"
             ],
             [
              0.3333333333333333,
              "#9c179e"
             ],
             [
              0.4444444444444444,
              "#bd3786"
             ],
             [
              0.5555555555555556,
              "#d8576b"
             ],
             [
              0.6666666666666666,
              "#ed7953"
             ],
             [
              0.7777777777777778,
              "#fb9f3a"
             ],
             [
              0.8888888888888888,
              "#fdca26"
             ],
             [
              1,
              "#f0f921"
             ]
            ],
            "type": "contour"
           }
          ],
          "contourcarpet": [
           {
            "colorbar": {
             "outlinewidth": 0,
             "ticks": ""
            },
            "type": "contourcarpet"
           }
          ],
          "heatmap": [
           {
            "colorbar": {
             "outlinewidth": 0,
             "ticks": ""
            },
            "colorscale": [
             [
              0,
              "#0d0887"
             ],
             [
              0.1111111111111111,
              "#46039f"
             ],
             [
              0.2222222222222222,
              "#7201a8"
             ],
             [
              0.3333333333333333,
              "#9c179e"
             ],
             [
              0.4444444444444444,
              "#bd3786"
             ],
             [
              0.5555555555555556,
              "#d8576b"
             ],
             [
              0.6666666666666666,
              "#ed7953"
             ],
             [
              0.7777777777777778,
              "#fb9f3a"
             ],
             [
              0.8888888888888888,
              "#fdca26"
             ],
             [
              1,
              "#f0f921"
             ]
            ],
            "type": "heatmap"
           }
          ],
          "heatmapgl": [
           {
            "colorbar": {
             "outlinewidth": 0,
             "ticks": ""
            },
            "colorscale": [
             [
              0,
              "#0d0887"
             ],
             [
              0.1111111111111111,
              "#46039f"
             ],
             [
              0.2222222222222222,
              "#7201a8"
             ],
             [
              0.3333333333333333,
              "#9c179e"
             ],
             [
              0.4444444444444444,
              "#bd3786"
             ],
             [
              0.5555555555555556,
              "#d8576b"
             ],
             [
              0.6666666666666666,
              "#ed7953"
             ],
             [
              0.7777777777777778,
              "#fb9f3a"
             ],
             [
              0.8888888888888888,
              "#fdca26"
             ],
             [
              1,
              "#f0f921"
             ]
            ],
            "type": "heatmapgl"
           }
          ],
          "histogram": [
           {
            "marker": {
             "colorbar": {
              "outlinewidth": 0,
              "ticks": ""
             }
            },
            "type": "histogram"
           }
          ],
          "histogram2d": [
           {
            "colorbar": {
             "outlinewidth": 0,
             "ticks": ""
            },
            "colorscale": [
             [
              0,
              "#0d0887"
             ],
             [
              0.1111111111111111,
              "#46039f"
             ],
             [
              0.2222222222222222,
              "#7201a8"
             ],
             [
              0.3333333333333333,
              "#9c179e"
             ],
             [
              0.4444444444444444,
              "#bd3786"
             ],
             [
              0.5555555555555556,
              "#d8576b"
             ],
             [
              0.6666666666666666,
              "#ed7953"
             ],
             [
              0.7777777777777778,
              "#fb9f3a"
             ],
             [
              0.8888888888888888,
              "#fdca26"
             ],
             [
              1,
              "#f0f921"
             ]
            ],
            "type": "histogram2d"
           }
          ],
          "histogram2dcontour": [
           {
            "colorbar": {
             "outlinewidth": 0,
             "ticks": ""
            },
            "colorscale": [
             [
              0,
              "#0d0887"
             ],
             [
              0.1111111111111111,
              "#46039f"
             ],
             [
              0.2222222222222222,
              "#7201a8"
             ],
             [
              0.3333333333333333,
              "#9c179e"
             ],
             [
              0.4444444444444444,
              "#bd3786"
             ],
             [
              0.5555555555555556,
              "#d8576b"
             ],
             [
              0.6666666666666666,
              "#ed7953"
             ],
             [
              0.7777777777777778,
              "#fb9f3a"
             ],
             [
              0.8888888888888888,
              "#fdca26"
             ],
             [
              1,
              "#f0f921"
             ]
            ],
            "type": "histogram2dcontour"
           }
          ],
          "mesh3d": [
           {
            "colorbar": {
             "outlinewidth": 0,
             "ticks": ""
            },
            "type": "mesh3d"
           }
          ],
          "parcoords": [
           {
            "line": {
             "colorbar": {
              "outlinewidth": 0,
              "ticks": ""
             }
            },
            "type": "parcoords"
           }
          ],
          "pie": [
           {
            "automargin": true,
            "type": "pie"
           }
          ],
          "scatter": [
           {
            "marker": {
             "colorbar": {
              "outlinewidth": 0,
              "ticks": ""
             }
            },
            "type": "scatter"
           }
          ],
          "scatter3d": [
           {
            "line": {
             "colorbar": {
              "outlinewidth": 0,
              "ticks": ""
             }
            },
            "marker": {
             "colorbar": {
              "outlinewidth": 0,
              "ticks": ""
             }
            },
            "type": "scatter3d"
           }
          ],
          "scattercarpet": [
           {
            "marker": {
             "colorbar": {
              "outlinewidth": 0,
              "ticks": ""
             }
            },
            "type": "scattercarpet"
           }
          ],
          "scattergeo": [
           {
            "marker": {
             "colorbar": {
              "outlinewidth": 0,
              "ticks": ""
             }
            },
            "type": "scattergeo"
           }
          ],
          "scattergl": [
           {
            "marker": {
             "colorbar": {
              "outlinewidth": 0,
              "ticks": ""
             }
            },
            "type": "scattergl"
           }
          ],
          "scattermapbox": [
           {
            "marker": {
             "colorbar": {
              "outlinewidth": 0,
              "ticks": ""
             }
            },
            "type": "scattermapbox"
           }
          ],
          "scatterpolar": [
           {
            "marker": {
             "colorbar": {
              "outlinewidth": 0,
              "ticks": ""
             }
            },
            "type": "scatterpolar"
           }
          ],
          "scatterpolargl": [
           {
            "marker": {
             "colorbar": {
              "outlinewidth": 0,
              "ticks": ""
             }
            },
            "type": "scatterpolargl"
           }
          ],
          "scatterternary": [
           {
            "marker": {
             "colorbar": {
              "outlinewidth": 0,
              "ticks": ""
             }
            },
            "type": "scatterternary"
           }
          ],
          "surface": [
           {
            "colorbar": {
             "outlinewidth": 0,
             "ticks": ""
            },
            "colorscale": [
             [
              0,
              "#0d0887"
             ],
             [
              0.1111111111111111,
              "#46039f"
             ],
             [
              0.2222222222222222,
              "#7201a8"
             ],
             [
              0.3333333333333333,
              "#9c179e"
             ],
             [
              0.4444444444444444,
              "#bd3786"
             ],
             [
              0.5555555555555556,
              "#d8576b"
             ],
             [
              0.6666666666666666,
              "#ed7953"
             ],
             [
              0.7777777777777778,
              "#fb9f3a"
             ],
             [
              0.8888888888888888,
              "#fdca26"
             ],
             [
              1,
              "#f0f921"
             ]
            ],
            "type": "surface"
           }
          ],
          "table": [
           {
            "cells": {
             "fill": {
              "color": "#EBF0F8"
             },
             "line": {
              "color": "white"
             }
            },
            "header": {
             "fill": {
              "color": "#C8D4E3"
             },
             "line": {
              "color": "white"
             }
            },
            "type": "table"
           }
          ]
         },
         "layout": {
          "annotationdefaults": {
           "arrowcolor": "#2a3f5f",
           "arrowhead": 0,
           "arrowwidth": 1
          },
          "autotypenumbers": "strict",
          "coloraxis": {
           "colorbar": {
            "outlinewidth": 0,
            "ticks": ""
           }
          },
          "colorscale": {
           "diverging": [
            [
             0,
             "#8e0152"
            ],
            [
             0.1,
             "#c51b7d"
            ],
            [
             0.2,
             "#de77ae"
            ],
            [
             0.3,
             "#f1b6da"
            ],
            [
             0.4,
             "#fde0ef"
            ],
            [
             0.5,
             "#f7f7f7"
            ],
            [
             0.6,
             "#e6f5d0"
            ],
            [
             0.7,
             "#b8e186"
            ],
            [
             0.8,
             "#7fbc41"
            ],
            [
             0.9,
             "#4d9221"
            ],
            [
             1,
             "#276419"
            ]
           ],
           "sequential": [
            [
             0,
             "#0d0887"
            ],
            [
             0.1111111111111111,
             "#46039f"
            ],
            [
             0.2222222222222222,
             "#7201a8"
            ],
            [
             0.3333333333333333,
             "#9c179e"
            ],
            [
             0.4444444444444444,
             "#bd3786"
            ],
            [
             0.5555555555555556,
             "#d8576b"
            ],
            [
             0.6666666666666666,
             "#ed7953"
            ],
            [
             0.7777777777777778,
             "#fb9f3a"
            ],
            [
             0.8888888888888888,
             "#fdca26"
            ],
            [
             1,
             "#f0f921"
            ]
           ],
           "sequentialminus": [
            [
             0,
             "#0d0887"
            ],
            [
             0.1111111111111111,
             "#46039f"
            ],
            [
             0.2222222222222222,
             "#7201a8"
            ],
            [
             0.3333333333333333,
             "#9c179e"
            ],
            [
             0.4444444444444444,
             "#bd3786"
            ],
            [
             0.5555555555555556,
             "#d8576b"
            ],
            [
             0.6666666666666666,
             "#ed7953"
            ],
            [
             0.7777777777777778,
             "#fb9f3a"
            ],
            [
             0.8888888888888888,
             "#fdca26"
            ],
            [
             1,
             "#f0f921"
            ]
           ]
          },
          "colorway": [
           "#636efa",
           "#EF553B",
           "#00cc96",
           "#ab63fa",
           "#FFA15A",
           "#19d3f3",
           "#FF6692",
           "#B6E880",
           "#FF97FF",
           "#FECB52"
          ],
          "font": {
           "color": "#2a3f5f"
          },
          "geo": {
           "bgcolor": "white",
           "lakecolor": "white",
           "landcolor": "#E5ECF6",
           "showlakes": true,
           "showland": true,
           "subunitcolor": "white"
          },
          "hoverlabel": {
           "align": "left"
          },
          "hovermode": "closest",
          "mapbox": {
           "style": "light"
          },
          "paper_bgcolor": "white",
          "plot_bgcolor": "#E5ECF6",
          "polar": {
           "angularaxis": {
            "gridcolor": "white",
            "linecolor": "white",
            "ticks": ""
           },
           "bgcolor": "#E5ECF6",
           "radialaxis": {
            "gridcolor": "white",
            "linecolor": "white",
            "ticks": ""
           }
          },
          "scene": {
           "xaxis": {
            "backgroundcolor": "#E5ECF6",
            "gridcolor": "white",
            "gridwidth": 2,
            "linecolor": "white",
            "showbackground": true,
            "ticks": "",
            "zerolinecolor": "white"
           },
           "yaxis": {
            "backgroundcolor": "#E5ECF6",
            "gridcolor": "white",
            "gridwidth": 2,
            "linecolor": "white",
            "showbackground": true,
            "ticks": "",
            "zerolinecolor": "white"
           },
           "zaxis": {
            "backgroundcolor": "#E5ECF6",
            "gridcolor": "white",
            "gridwidth": 2,
            "linecolor": "white",
            "showbackground": true,
            "ticks": "",
            "zerolinecolor": "white"
           }
          },
          "shapedefaults": {
           "line": {
            "color": "#2a3f5f"
           }
          },
          "ternary": {
           "aaxis": {
            "gridcolor": "white",
            "linecolor": "white",
            "ticks": ""
           },
           "baxis": {
            "gridcolor": "white",
            "linecolor": "white",
            "ticks": ""
           },
           "bgcolor": "#E5ECF6",
           "caxis": {
            "gridcolor": "white",
            "linecolor": "white",
            "ticks": ""
           }
          },
          "title": {
           "x": 0.05
          },
          "xaxis": {
           "automargin": true,
           "gridcolor": "white",
           "linecolor": "white",
           "ticks": "",
           "title": {
            "standoff": 15
           },
           "zerolinecolor": "white",
           "zerolinewidth": 2
          },
          "yaxis": {
           "automargin": true,
           "gridcolor": "white",
           "linecolor": "white",
           "ticks": "",
           "title": {
            "standoff": 15
           },
           "zerolinecolor": "white",
           "zerolinewidth": 2
          }
         }
        },
        "xaxis": {
         "anchor": "y",
         "domain": [
          0,
          1
         ]
        },
        "yaxis": {
         "anchor": "x",
         "domain": [
          0,
          1
         ],
         "title": {
          "text": "popularity"
         }
        }
       }
      }
     },
     "metadata": {},
     "output_type": "display_data"
    }
   ],
   "source": [
    "dfs = [\"bpm\", \"dnce\", \"dB\", \"live\", \"val\", \"dur\", \"acous\", \"spch\", \"popularity\"]\n",
    "for key in dfs:\n",
    "    print(f\"Box plot for {key} per decade\")\n",
    "    figure = px.box(aggregated_df.dropna(), y=key, color=\"decade\")\n",
    "    figure.show()\n"
   ]
  }
 ],
 "metadata": {
  "interpreter": {
   "hash": "acb0bfeb0ef943ce0c5317077572eaf4f91eb6967ce26b4010d5c2130ff2a0b4"
  },
  "kernelspec": {
   "display_name": "Python 3.9.7 64-bit",
   "language": "python",
   "name": "python3"
  },
  "language_info": {
   "codemirror_mode": {
    "name": "ipython",
    "version": 3
   },
   "file_extension": ".py",
   "mimetype": "text/x-python",
   "name": "python",
   "nbconvert_exporter": "python",
   "pygments_lexer": "ipython3",
   "version": "3.9.7"
  }
 },
 "nbformat": 4,
 "nbformat_minor": 5
}
